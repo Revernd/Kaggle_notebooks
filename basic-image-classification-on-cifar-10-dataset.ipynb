{
 "cells": [
  {
   "cell_type": "code",
   "execution_count": 1,
   "id": "23cfdcdd",
   "metadata": {
    "_cell_guid": "b1076dfc-b9ad-4769-8c92-a6c4dae69d19",
    "_uuid": "8f2839f25d086af736a60e9eeb907d3b93b6e0e5",
    "execution": {
     "iopub.execute_input": "2023-10-05T04:15:03.890791Z",
     "iopub.status.busy": "2023-10-05T04:15:03.890399Z",
     "iopub.status.idle": "2023-10-05T04:15:04.263567Z",
     "shell.execute_reply": "2023-10-05T04:15:04.262458Z"
    },
    "papermill": {
     "duration": 0.383641,
     "end_time": "2023-10-05T04:15:04.266114",
     "exception": false,
     "start_time": "2023-10-05T04:15:03.882473",
     "status": "completed"
    },
    "tags": []
   },
   "outputs": [],
   "source": [
    "# This Python 3 environment comes with many helpful analytics libraries installed\n",
    "# It is defined by the kaggle/python Docker image: https://github.com/kaggle/docker-python\n",
    "# For example, here's several helpful packages to load\n",
    "\n",
    "import numpy as np # linear algebra\n",
    "import pandas as pd # data processing, CSV file I/O (e.g. pd.read_csv)\n",
    "\n",
    "# Input data files are available in the read-only \"../input/\" directory\n",
    "# For example, running this (by clicking run or pressing Shift+Enter) will list all files under the input directory\n",
    "\n",
    "import os\n",
    "for dirname, _, filenames in os.walk('/kaggle/input'):\n",
    "    for filename in filenames:\n",
    "        print(os.path.join(dirname, filename))\n",
    "\n",
    "# You can write up to 20GB to the current directory (/kaggle/working/) that gets preserved as output when you create a version using \"Save & Run All\" \n",
    "# You can also write temporary files to /kaggle/temp/, but they won't be saved outside of the current session"
   ]
  },
  {
   "cell_type": "markdown",
   "id": "37e21061",
   "metadata": {
    "papermill": {
     "duration": 0.005609,
     "end_time": "2023-10-05T04:15:04.277908",
     "exception": false,
     "start_time": "2023-10-05T04:15:04.272299",
     "status": "completed"
    },
    "tags": []
   },
   "source": [
    "# Loading Data"
   ]
  },
  {
   "cell_type": "code",
   "execution_count": 2,
   "id": "c7d6567c",
   "metadata": {
    "execution": {
     "iopub.execute_input": "2023-10-05T04:15:04.291603Z",
     "iopub.status.busy": "2023-10-05T04:15:04.290974Z",
     "iopub.status.idle": "2023-10-05T04:15:08.642834Z",
     "shell.execute_reply": "2023-10-05T04:15:08.641696Z"
    },
    "papermill": {
     "duration": 4.361703,
     "end_time": "2023-10-05T04:15:08.645391",
     "exception": false,
     "start_time": "2023-10-05T04:15:04.283688",
     "status": "completed"
    },
    "tags": []
   },
   "outputs": [
    {
     "name": "stdout",
     "output_type": "stream",
     "text": [
      "curl: /opt/conda/lib/libcurl.so.4: no version information available (required by curl)\r\n",
      "  % Total    % Received % Xferd  Average Speed   Time    Time     Time  Current\r\n",
      "                                 Dload  Upload   Total   Spent    Left  Speed\r\n",
      "100  162M  100  162M    0     0  50.7M      0  0:00:03  0:00:03 --:--:-- 50.7M\r\n"
     ]
    }
   ],
   "source": [
    "!curl http://www.cs.toronto.edu/~kriz/cifar-10-python.tar.gz>cifar-10-python.tar.gz"
   ]
  },
  {
   "cell_type": "code",
   "execution_count": 3,
   "id": "5114db73",
   "metadata": {
    "execution": {
     "iopub.execute_input": "2023-10-05T04:15:08.660436Z",
     "iopub.status.busy": "2023-10-05T04:15:08.660080Z",
     "iopub.status.idle": "2023-10-05T04:15:12.187511Z",
     "shell.execute_reply": "2023-10-05T04:15:12.186357Z"
    },
    "papermill": {
     "duration": 3.538114,
     "end_time": "2023-10-05T04:15:12.190051",
     "exception": false,
     "start_time": "2023-10-05T04:15:08.651937",
     "status": "completed"
    },
    "tags": []
   },
   "outputs": [
    {
     "name": "stdout",
     "output_type": "stream",
     "text": [
      "cifar-10-batches-py/\r\n",
      "cifar-10-batches-py/data_batch_4\r\n",
      "cifar-10-batches-py/readme.html\r\n",
      "cifar-10-batches-py/test_batch\r\n",
      "cifar-10-batches-py/data_batch_3\r\n",
      "cifar-10-batches-py/batches.meta\r\n",
      "cifar-10-batches-py/data_batch_2\r\n",
      "cifar-10-batches-py/data_batch_5\r\n",
      "cifar-10-batches-py/data_batch_1\r\n"
     ]
    }
   ],
   "source": [
    "!tar -xzvf cifar-10-python.tar.gz"
   ]
  },
  {
   "cell_type": "markdown",
   "id": "dda01a87",
   "metadata": {
    "papermill": {
     "duration": 0.00599,
     "end_time": "2023-10-05T04:15:12.202435",
     "exception": false,
     "start_time": "2023-10-05T04:15:12.196445",
     "status": "completed"
    },
    "tags": []
   },
   "source": [
    "# Preparing Data"
   ]
  },
  {
   "cell_type": "markdown",
   "id": "31c6c395",
   "metadata": {
    "papermill": {
     "duration": 0.006467,
     "end_time": "2023-10-05T04:15:12.215115",
     "exception": false,
     "start_time": "2023-10-05T04:15:12.208648",
     "status": "completed"
    },
    "tags": []
   },
   "source": [
    "## Converting binary file to ndarrays"
   ]
  },
  {
   "cell_type": "code",
   "execution_count": 4,
   "id": "d3be38c0",
   "metadata": {
    "execution": {
     "iopub.execute_input": "2023-10-05T04:15:12.232388Z",
     "iopub.status.busy": "2023-10-05T04:15:12.231931Z",
     "iopub.status.idle": "2023-10-05T04:15:13.160632Z",
     "shell.execute_reply": "2023-10-05T04:15:13.159714Z"
    },
    "papermill": {
     "duration": 0.939361,
     "end_time": "2023-10-05T04:15:13.163104",
     "exception": false,
     "start_time": "2023-10-05T04:15:12.223743",
     "status": "completed"
    },
    "tags": []
   },
   "outputs": [],
   "source": [
    "import pickle\n",
    "\n",
    "def unpickle(file):\n",
    "    with open(file, 'rb') as fo:\n",
    "        data = pickle.load(fo, encoding='bytes')\n",
    "    return data\n",
    "\n",
    "def load_cifar10_data(data_dir):\n",
    "    x_train = []\n",
    "    y_train = []\n",
    "    \n",
    "    # Load training data\n",
    "    for batch_id in range(1, 6):\n",
    "        batch_data = unpickle(data_dir + f'data_batch_{batch_id}')\n",
    "        x_train.append(batch_data[b'data'])\n",
    "        y_train += batch_data[b'labels']\n",
    "\n",
    "    # Load test data\n",
    "    valid_data = unpickle(data_dir + 'test_batch')\n",
    "    x_valid = valid_data[b'data']\n",
    "    y_valid = valid_data[b'labels']\n",
    "    \n",
    "    # Convert to NumPy arrays\n",
    "    x_train = np.vstack(x_train).reshape(-1, 3, 32, 32).transpose(0, 2, 3, 1).astype('float')\n",
    "    y_train = np.array(y_train)\n",
    "    x_valid = x_valid.reshape(-1, 3, 32, 32).transpose(0, 2, 3, 1).astype('float')\n",
    "    y_valid = np.array(y_valid)\n",
    "    \n",
    "    return x_train, y_train, x_valid, y_valid\n",
    "\n",
    "# Specify the path to the directory where you extracted the CIFAR-10 dataset\n",
    "data_dir = \"/kaggle/working/cifar-10-batches-py/\"\n",
    "\n",
    "x_train, y_train, x_valid, y_valid = load_cifar10_data(data_dir)\n"
   ]
  },
  {
   "cell_type": "code",
   "execution_count": 5,
   "id": "68ed89ca",
   "metadata": {
    "execution": {
     "iopub.execute_input": "2023-10-05T04:15:13.177805Z",
     "iopub.status.busy": "2023-10-05T04:15:13.177482Z",
     "iopub.status.idle": "2023-10-05T04:15:13.185757Z",
     "shell.execute_reply": "2023-10-05T04:15:13.184521Z"
    },
    "papermill": {
     "duration": 0.018083,
     "end_time": "2023-10-05T04:15:13.187709",
     "exception": false,
     "start_time": "2023-10-05T04:15:13.169626",
     "status": "completed"
    },
    "tags": []
   },
   "outputs": [
    {
     "data": {
      "text/plain": [
       "50000"
      ]
     },
     "execution_count": 5,
     "metadata": {},
     "output_type": "execute_result"
    }
   ],
   "source": [
    "len(x_train)"
   ]
  },
  {
   "cell_type": "markdown",
   "id": "6df21c3a",
   "metadata": {
    "papermill": {
     "duration": 0.006191,
     "end_time": "2023-10-05T04:15:13.200667",
     "exception": false,
     "start_time": "2023-10-05T04:15:13.194476",
     "status": "completed"
    },
    "tags": []
   },
   "source": [
    "## Preparing training data and test data"
   ]
  },
  {
   "cell_type": "code",
   "execution_count": 6,
   "id": "a7e19312",
   "metadata": {
    "execution": {
     "iopub.execute_input": "2023-10-05T04:15:13.215566Z",
     "iopub.status.busy": "2023-10-05T04:15:13.215238Z",
     "iopub.status.idle": "2023-10-05T04:15:15.181394Z",
     "shell.execute_reply": "2023-10-05T04:15:15.180242Z"
    },
    "papermill": {
     "duration": 1.976389,
     "end_time": "2023-10-05T04:15:15.183763",
     "exception": false,
     "start_time": "2023-10-05T04:15:13.207374",
     "status": "completed"
    },
    "tags": []
   },
   "outputs": [],
   "source": [
    "from sklearn.model_selection import StratifiedShuffleSplit\n",
    "\n",
    "\n",
    "# Specify the number of splits and the test size (e.g., 20%)\n",
    "n_splits = 1  # Number of splits\n",
    "test_size = 0.08  # Size of the test set (percentage)\n",
    "X = x_train\n",
    "y = y_train\n",
    "# Create an instance of StratifiedShuffleSplit\n",
    "sss = StratifiedShuffleSplit(n_splits=n_splits, test_size=test_size, random_state=42)\n",
    "\n",
    "# Perform the split\n",
    "for train_index, test_index in sss.split(X, y):\n",
    "    x_train_1, x_test_1 = X[train_index], X[test_index]\n",
    "    y_train_1, y_test_1 = y[train_index], y[test_index]\n"
   ]
  },
  {
   "cell_type": "code",
   "execution_count": 7,
   "id": "acf11ac7",
   "metadata": {
    "execution": {
     "iopub.execute_input": "2023-10-05T04:15:15.199394Z",
     "iopub.status.busy": "2023-10-05T04:15:15.198340Z",
     "iopub.status.idle": "2023-10-05T04:15:15.206212Z",
     "shell.execute_reply": "2023-10-05T04:15:15.204874Z"
    },
    "papermill": {
     "duration": 0.018149,
     "end_time": "2023-10-05T04:15:15.208628",
     "exception": false,
     "start_time": "2023-10-05T04:15:15.190479",
     "status": "completed"
    },
    "tags": []
   },
   "outputs": [
    {
     "data": {
      "text/plain": [
       "4000"
      ]
     },
     "execution_count": 7,
     "metadata": {},
     "output_type": "execute_result"
    }
   ],
   "source": [
    "len(x_test_1)"
   ]
  },
  {
   "cell_type": "code",
   "execution_count": 8,
   "id": "616a4792",
   "metadata": {
    "execution": {
     "iopub.execute_input": "2023-10-05T04:15:15.223780Z",
     "iopub.status.busy": "2023-10-05T04:15:15.223458Z",
     "iopub.status.idle": "2023-10-05T04:15:15.278408Z",
     "shell.execute_reply": "2023-10-05T04:15:15.277400Z"
    },
    "papermill": {
     "duration": 0.065417,
     "end_time": "2023-10-05T04:15:15.280747",
     "exception": false,
     "start_time": "2023-10-05T04:15:15.215330",
     "status": "completed"
    },
    "tags": []
   },
   "outputs": [],
   "source": [
    "# Specify the number of splits and the test size (e.g., 20%)\n",
    "n_splits = 1  # Number of splits\n",
    "test_size = 0.2  # Size of the test set (percentage)\n",
    "X = x_test_1\n",
    "y = y_test_1\n",
    "# Create an instance of StratifiedShuffleSplit\n",
    "sss = StratifiedShuffleSplit(n_splits=n_splits, test_size=test_size, random_state=42)\n",
    "\n",
    "# Perform the split\n",
    "for train_index, test_index in sss.split(X, y):\n",
    "    x_train, x_test = X[train_index], X[test_index]\n",
    "    y_train, y_test = y[train_index], y[test_index]\n"
   ]
  },
  {
   "cell_type": "code",
   "execution_count": 9,
   "id": "f7499df3",
   "metadata": {
    "execution": {
     "iopub.execute_input": "2023-10-05T04:15:15.296296Z",
     "iopub.status.busy": "2023-10-05T04:15:15.295909Z",
     "iopub.status.idle": "2023-10-05T04:15:15.302257Z",
     "shell.execute_reply": "2023-10-05T04:15:15.301253Z"
    },
    "papermill": {
     "duration": 0.016917,
     "end_time": "2023-10-05T04:15:15.304417",
     "exception": false,
     "start_time": "2023-10-05T04:15:15.287500",
     "status": "completed"
    },
    "tags": []
   },
   "outputs": [
    {
     "data": {
      "text/plain": [
       "3200"
      ]
     },
     "execution_count": 9,
     "metadata": {},
     "output_type": "execute_result"
    }
   ],
   "source": [
    "len(x_train)"
   ]
  },
  {
   "cell_type": "markdown",
   "id": "0d150a73",
   "metadata": {
    "papermill": {
     "duration": 0.006788,
     "end_time": "2023-10-05T04:15:15.318284",
     "exception": false,
     "start_time": "2023-10-05T04:15:15.311496",
     "status": "completed"
    },
    "tags": []
   },
   "source": [
    "# Data Preprocessing"
   ]
  },
  {
   "cell_type": "markdown",
   "id": "3ae7e720",
   "metadata": {
    "papermill": {
     "duration": 0.006529,
     "end_time": "2023-10-05T04:15:15.332346",
     "exception": false,
     "start_time": "2023-10-05T04:15:15.325817",
     "status": "completed"
    },
    "tags": []
   },
   "source": [
    "## Normalization\n",
    "Normalization is the process of converting the pixel intensity values to a normal state.\n",
    "\n",
    "It follows a normal distribution.\n",
    "\n",
    "A normalized image has mean = 0 and variance = 1"
   ]
  },
  {
   "cell_type": "code",
   "execution_count": 10,
   "id": "217af8dd",
   "metadata": {
    "execution": {
     "iopub.execute_input": "2023-10-05T04:15:15.348637Z",
     "iopub.status.busy": "2023-10-05T04:15:15.347242Z",
     "iopub.status.idle": "2023-10-05T04:15:15.456699Z",
     "shell.execute_reply": "2023-10-05T04:15:15.456015Z"
    },
    "papermill": {
     "duration": 0.119677,
     "end_time": "2023-10-05T04:15:15.458675",
     "exception": false,
     "start_time": "2023-10-05T04:15:15.338998",
     "status": "completed"
    },
    "tags": []
   },
   "outputs": [
    {
     "name": "stdout",
     "output_type": "stream",
     "text": [
      "train_data:  (3200, 32, 32, 3)\n",
      "test_data:  (800, 32, 32, 3)\n"
     ]
    }
   ],
   "source": [
    "def normalize(data, eps=1e-8): \n",
    "    data -= data.mean(axis=(1, 2, 3), keepdims=True) \n",
    "    std = np.sqrt(data.var(axis=(1, 2, 3), ddof=1, keepdims=True)) # calculating standard deviation\n",
    "    std[std < eps] = 1. \n",
    "    data /= std \n",
    "    return data \n",
    "# calling the function\n",
    "train_data = normalize(x_train) \n",
    "test_data = normalize(x_test) \n",
    "# prints the shape of train data and test data \n",
    "print('train_data: ', train_data.shape)\n",
    "print('test_data: ', test_data.shape)\n"
   ]
  },
  {
   "cell_type": "markdown",
   "id": "2d1f4869",
   "metadata": {
    "papermill": {
     "duration": 0.007106,
     "end_time": "2023-10-05T04:15:15.472670",
     "exception": false,
     "start_time": "2023-10-05T04:15:15.465564",
     "status": "completed"
    },
    "tags": []
   },
   "source": [
    "## ZCA Whitening\n",
    "Normalization is followed by a ZCA whitening process.\n",
    "\n",
    "The main aim of whitening is to reduce data redundancy, which means the features are less correlated and have the same variance.\n",
    "\n",
    "ZCA stands for zero-phase component analysis. ZCA whitened images resemble the normal image.\n",
    "\n"
   ]
  },
  {
   "cell_type": "code",
   "execution_count": 11,
   "id": "ef88b662",
   "metadata": {
    "execution": {
     "iopub.execute_input": "2023-10-05T04:15:15.487334Z",
     "iopub.status.busy": "2023-10-05T04:15:15.486988Z",
     "iopub.status.idle": "2023-10-05T04:15:15.548358Z",
     "shell.execute_reply": "2023-10-05T04:15:15.547509Z"
    },
    "papermill": {
     "duration": 0.072301,
     "end_time": "2023-10-05T04:15:15.551538",
     "exception": false,
     "start_time": "2023-10-05T04:15:15.479237",
     "status": "completed"
    },
    "tags": []
   },
   "outputs": [
    {
     "name": "stdout",
     "output_type": "stream",
     "text": [
      "train_data_flat:  (3072, 3200)\n",
      "test_data_flat:  (3072, 800)\n"
     ]
    }
   ],
   "source": [
    "# Computing whitening matrix \n",
    "train_data_flat = train_data.reshape(train_data.shape[0], -1).T\n",
    "test_data_flat = test_data.reshape(test_data.shape[0], -1).T\n",
    "print('train_data_flat: ', train_data_flat.shape)\n",
    "print('test_data_flat: ', test_data_flat.shape)\n",
    "train_data_flat_t = train_data_flat.T\n",
    "test_data_flat_t = test_data_flat.T"
   ]
  },
  {
   "cell_type": "markdown",
   "id": "a3ae022c",
   "metadata": {
    "papermill": {
     "duration": 0.006638,
     "end_time": "2023-10-05T04:15:15.566484",
     "exception": false,
     "start_time": "2023-10-05T04:15:15.559846",
     "status": "completed"
    },
    "tags": []
   },
   "source": [
    "## Principle Component Analysis (PCA)\n",
    "\n",
    "The major function of PCA is to decompose a multivariate dataset into a set of successive orthogonal components. These orthogonal components explain a maximum amount of the variance.\n",
    "\n",
    "PCA is a dimensionality reduction technique.\n",
    "\n",
    "The whitened data is given as the input to PCA.\n",
    "\n"
   ]
  },
  {
   "cell_type": "code",
   "execution_count": 12,
   "id": "7481df94",
   "metadata": {
    "execution": {
     "iopub.execute_input": "2023-10-05T04:15:15.582876Z",
     "iopub.status.busy": "2023-10-05T04:15:15.582347Z",
     "iopub.status.idle": "2023-10-05T04:15:31.662395Z",
     "shell.execute_reply": "2023-10-05T04:15:31.660852Z"
    },
    "papermill": {
     "duration": 16.092545,
     "end_time": "2023-10-05T04:15:31.666553",
     "exception": false,
     "start_time": "2023-10-05T04:15:15.574008",
     "status": "completed"
    },
    "tags": []
   },
   "outputs": [],
   "source": [
    "from sklearn.decomposition import PCA\n",
    "# n_components specify the no.of components to keep\n",
    "n_components_train = min(train_data_flat.shape[0], train_data_flat.shape[1])\n",
    "n_components_test = min(test_data_flat.shape[0], test_data_flat.shape[1])\n",
    "train_data_pca = PCA(n_components=n_components_train).fit_transform(train_data_flat)\n",
    "test_data_pca = PCA(n_components=n_components_test).fit_transform(test_data_flat)\n",
    "train_data_pca = train_data_pca.T\n",
    "test_data_pca = test_data_pca.T"
   ]
  },
  {
   "cell_type": "code",
   "execution_count": 13,
   "id": "7a90acf2",
   "metadata": {
    "execution": {
     "iopub.execute_input": "2023-10-05T04:15:31.711563Z",
     "iopub.status.busy": "2023-10-05T04:15:31.710928Z",
     "iopub.status.idle": "2023-10-05T04:15:31.727342Z",
     "shell.execute_reply": "2023-10-05T04:15:31.725942Z"
    },
    "papermill": {
     "duration": 0.043386,
     "end_time": "2023-10-05T04:15:31.731809",
     "exception": false,
     "start_time": "2023-10-05T04:15:31.688423",
     "status": "completed"
    },
    "tags": []
   },
   "outputs": [
    {
     "data": {
      "text/plain": [
       "(3072, 3072)"
      ]
     },
     "execution_count": 13,
     "metadata": {},
     "output_type": "execute_result"
    }
   ],
   "source": [
    "train_data_pca.shape"
   ]
  },
  {
   "cell_type": "markdown",
   "id": "5154d3ab",
   "metadata": {
    "papermill": {
     "duration": 0.01253,
     "end_time": "2023-10-05T04:15:31.764414",
     "exception": false,
     "start_time": "2023-10-05T04:15:31.751884",
     "status": "completed"
    },
    "tags": []
   },
   "source": [
    "# Model Training for Classification"
   ]
  },
  {
   "cell_type": "markdown",
   "id": "34ec78a5",
   "metadata": {
    "papermill": {
     "duration": 0.006336,
     "end_time": "2023-10-05T04:15:31.777581",
     "exception": false,
     "start_time": "2023-10-05T04:15:31.771245",
     "status": "completed"
    },
    "tags": []
   },
   "source": [
    "## Classification Algorithms\n",
    "There are various algorithms to solve the classification problems.\n",
    "Few of them are as follows:\n",
    "- Support Vector Machine Classifier (SVM)\n",
    "- Naive Bayes Classifier\n",
    "- Stochastic Gradient Descent Classifier"
   ]
  },
  {
   "cell_type": "markdown",
   "id": "4b2f0c97",
   "metadata": {
    "papermill": {
     "duration": 0.00659,
     "end_time": "2023-10-05T04:15:31.791494",
     "exception": false,
     "start_time": "2023-10-05T04:15:31.784904",
     "status": "completed"
    },
    "tags": []
   },
   "source": [
    "## Support Vector Machine (SVM)\n",
    "\n",
    "Support Vector Machine (SVM) is effective in:\n",
    "- High-dimensional spaces.\n",
    "- In cases, where, the number of dimensions > the number of samples.\n",
    "- In cases with a clear margin of separation."
   ]
  },
  {
   "cell_type": "code",
   "execution_count": 14,
   "id": "71aac1db",
   "metadata": {
    "execution": {
     "iopub.execute_input": "2023-10-05T04:15:31.806419Z",
     "iopub.status.busy": "2023-10-05T04:15:31.806044Z",
     "iopub.status.idle": "2023-10-05T04:18:11.750152Z",
     "shell.execute_reply": "2023-10-05T04:18:11.749141Z"
    },
    "papermill": {
     "duration": 159.961845,
     "end_time": "2023-10-05T04:18:11.759991",
     "exception": false,
     "start_time": "2023-10-05T04:15:31.798146",
     "status": "completed"
    },
    "tags": []
   },
   "outputs": [
    {
     "name": "stdout",
     "output_type": "stream",
     "text": [
      "score 0.39125\n"
     ]
    }
   ],
   "source": [
    "from sklearn import svm #Creating a svm classifier model\n",
    "\n",
    "clf = svm.SVC(gamma=.001,probability=True) #Model training\n",
    "clf.fit(train_data_flat_t, y_train) #After being fitted, the model can then be used to predict the output.\n",
    "\n",
    "predicted=clf.predict(test_data_flat_t)\n",
    "score= clf.score(test_data_flat_t,y_test) #classification score.\n",
    "print(\"score\",score)"
   ]
  },
  {
   "cell_type": "markdown",
   "id": "430356d2",
   "metadata": {
    "papermill": {
     "duration": 0.007201,
     "end_time": "2023-10-05T04:18:11.774227",
     "exception": false,
     "start_time": "2023-10-05T04:18:11.767026",
     "status": "completed"
    },
    "tags": []
   },
   "source": [
    "# Evaluation"
   ]
  },
  {
   "cell_type": "markdown",
   "id": "2abd40ea",
   "metadata": {
    "papermill": {
     "duration": 0.006682,
     "end_time": "2023-10-05T04:18:11.787895",
     "exception": false,
     "start_time": "2023-10-05T04:18:11.781213",
     "status": "completed"
    },
    "tags": []
   },
   "source": [
    "## Confusion Matrix\n",
    "\n",
    "\n",
    "Confusion Matrix is a technique used to evaluate the performance of a classifier.\n",
    "\n",
    "It visually depicts the performance in a tabular form that has two dimensions namely, actual and predicted sets of data.\n",
    "\n",
    "The rows and columns of the table show the count of false positives, false negatives, true positives, and true negatives.\n",
    "\n",
    "The first parameter shows true values and the second parameter shows predicted values."
   ]
  },
  {
   "cell_type": "code",
   "execution_count": 15,
   "id": "3a62873d",
   "metadata": {
    "execution": {
     "iopub.execute_input": "2023-10-05T04:18:11.803800Z",
     "iopub.status.busy": "2023-10-05T04:18:11.802982Z",
     "iopub.status.idle": "2023-10-05T04:18:11.811272Z",
     "shell.execute_reply": "2023-10-05T04:18:11.810003Z"
    },
    "papermill": {
     "duration": 0.018282,
     "end_time": "2023-10-05T04:18:11.813168",
     "exception": false,
     "start_time": "2023-10-05T04:18:11.794886",
     "status": "completed"
    },
    "tags": []
   },
   "outputs": [
    {
     "name": "stdout",
     "output_type": "stream",
     "text": [
      "[[35 11  5  1  3  3  2  3 15  2]\n",
      " [ 1 40  0  5  3  3  2  7  4 15]\n",
      " [ 8  4 27  9  5  6 13  3  4  1]\n",
      " [ 2  3  5 18  2 27  8  6  2  7]\n",
      " [ 4  5 18  3 23  8 10  7  1  1]\n",
      " [ 1  4  4 16  6 29  9  6  0  5]\n",
      " [ 2  5 10  7 10  6 31  5  1  3]\n",
      " [ 2  5  7  7 13  9  4 26  2  5]\n",
      " [ 4  5  1  1  0 12  0  3 47  7]\n",
      " [ 3 19  1  5  0  4  3  1  7 37]]\n"
     ]
    }
   ],
   "source": [
    "from sklearn import metrics\n",
    "\n",
    "conf_matrix=metrics.confusion_matrix(y_test,predicted)\n",
    "print(conf_matrix)"
   ]
  },
  {
   "cell_type": "markdown",
   "id": "807ee3d2",
   "metadata": {
    "papermill": {
     "duration": 0.006785,
     "end_time": "2023-10-05T04:18:11.827041",
     "exception": false,
     "start_time": "2023-10-05T04:18:11.820256",
     "status": "completed"
    },
    "tags": []
   },
   "source": [
    "**Here, the diagonal elements of the confusion matrix shows the number of correctly classified labels.**"
   ]
  },
  {
   "cell_type": "markdown",
   "id": "9eae04c4",
   "metadata": {
    "papermill": {
     "duration": 0.006517,
     "end_time": "2023-10-05T04:18:11.840362",
     "exception": false,
     "start_time": "2023-10-05T04:18:11.833845",
     "status": "completed"
    },
    "tags": []
   },
   "source": [
    "## Classification Accuracy\n",
    "Classification accuracy is defined as the percentage of correct predictions.\n",
    "\n",
    "To calculate class wise accuracy,\n",
    "         CA = (correctly predicted images of a class/(Total images of the class)) * 100"
   ]
  },
  {
   "cell_type": "code",
   "execution_count": 16,
   "id": "492c4698",
   "metadata": {
    "execution": {
     "iopub.execute_input": "2023-10-05T04:18:11.919592Z",
     "iopub.status.busy": "2023-10-05T04:18:11.919007Z",
     "iopub.status.idle": "2023-10-05T04:18:11.924780Z",
     "shell.execute_reply": "2023-10-05T04:18:11.923614Z"
    },
    "papermill": {
     "duration": 0.016257,
     "end_time": "2023-10-05T04:18:11.926724",
     "exception": false,
     "start_time": "2023-10-05T04:18:11.910467",
     "status": "completed"
    },
    "tags": []
   },
   "outputs": [
    {
     "name": "stdout",
     "output_type": "stream",
     "text": [
      "[43.7499999453125, 49.99999993750001, 33.749999957812506, 22.499999971875003, 28.7499999640625, 36.2499999546875, 38.7499999515625, 32.499999959375, 58.7499999265625, 46.2499999421875]\n"
     ]
    }
   ],
   "source": [
    "\n",
    "#To see the accuracy of each class. \n",
    "accuracy=[]\n",
    "\n",
    "leng = len(conf_matrix) #finding the length of confusion matrix\n",
    "for i in range(leng): \n",
    "#each diagonal element (conf_matrix[i,i]) is divided by the sum of the elements of that particular row (conf_matrix[i].sum()).\n",
    "    ac=(conf_matrix[i,i]/((conf_matrix[i].sum())+.0000001))*100 \n",
    "    accuracy.append(ac)\n",
    "\n",
    "print(accuracy)\n"
   ]
  },
  {
   "cell_type": "markdown",
   "id": "eeec022a",
   "metadata": {
    "papermill": {
     "duration": 0.006742,
     "end_time": "2023-10-05T04:18:11.940677",
     "exception": false,
     "start_time": "2023-10-05T04:18:11.933935",
     "status": "completed"
    },
    "tags": []
   },
   "source": [
    "\n",
    "Overall accuracy is given by, OA = Sum of class-wise accuracy/no of classes\n"
   ]
  },
  {
   "cell_type": "code",
   "execution_count": 17,
   "id": "c34c092b",
   "metadata": {
    "execution": {
     "iopub.execute_input": "2023-10-05T04:18:11.956515Z",
     "iopub.status.busy": "2023-10-05T04:18:11.956096Z",
     "iopub.status.idle": "2023-10-05T04:18:11.962779Z",
     "shell.execute_reply": "2023-10-05T04:18:11.961715Z"
    },
    "papermill": {
     "duration": 0.017702,
     "end_time": "2023-10-05T04:18:11.965312",
     "exception": false,
     "start_time": "2023-10-05T04:18:11.947610",
     "status": "completed"
    },
    "tags": []
   },
   "outputs": [
    {
     "name": "stdout",
     "output_type": "stream",
     "text": [
      "39.124999951093756\n"
     ]
    }
   ],
   "source": [
    "\n",
    "summation=0\n",
    "no_of_classes = 10\n",
    "\n",
    "for i in range(0,len(accuracy)):\n",
    "    summation+=accuracy[i]\n",
    "\n",
    "overall_accuracy = summation/no_of_classes\n",
    "print(overall_accuracy)"
   ]
  },
  {
   "cell_type": "code",
   "execution_count": null,
   "id": "dad26275",
   "metadata": {
    "papermill": {
     "duration": 0.006902,
     "end_time": "2023-10-05T04:18:11.979421",
     "exception": false,
     "start_time": "2023-10-05T04:18:11.972519",
     "status": "completed"
    },
    "tags": []
   },
   "outputs": [],
   "source": []
  }
 ],
 "metadata": {
  "kernelspec": {
   "display_name": "Python 3",
   "language": "python",
   "name": "python3"
  },
  "language_info": {
   "codemirror_mode": {
    "name": "ipython",
    "version": 3
   },
   "file_extension": ".py",
   "mimetype": "text/x-python",
   "name": "python",
   "nbconvert_exporter": "python",
   "pygments_lexer": "ipython3",
   "version": "3.10.12"
  },
  "papermill": {
   "default_parameters": {},
   "duration": 191.954372,
   "end_time": "2023-10-05T04:18:12.607350",
   "environment_variables": {},
   "exception": null,
   "input_path": "__notebook__.ipynb",
   "output_path": "__notebook__.ipynb",
   "parameters": {},
   "start_time": "2023-10-05T04:15:00.652978",
   "version": "2.4.0"
  }
 },
 "nbformat": 4,
 "nbformat_minor": 5
}
