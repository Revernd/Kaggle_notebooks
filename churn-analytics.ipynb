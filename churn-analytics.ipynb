{
 "cells": [
  {
   "cell_type": "markdown",
   "id": "2cc265d6",
   "metadata": {
    "_cell_guid": "b1076dfc-b9ad-4769-8c92-a6c4dae69d19",
    "_uuid": "8f2839f25d086af736a60e9eeb907d3b93b6e0e5",
    "papermill": {
     "duration": 0.010305,
     "end_time": "2023-04-27T21:53:17.136050",
     "exception": false,
     "start_time": "2023-04-27T21:53:17.125745",
     "status": "completed"
    },
    "tags": []
   },
   "source": [
    "### Importing all the required Libraries"
   ]
  },
  {
   "cell_type": "code",
   "execution_count": 1,
   "id": "1e10ca58",
   "metadata": {
    "execution": {
     "iopub.execute_input": "2023-04-27T21:53:17.156504Z",
     "iopub.status.busy": "2023-04-27T21:53:17.155738Z",
     "iopub.status.idle": "2023-04-27T21:53:18.144455Z",
     "shell.execute_reply": "2023-04-27T21:53:18.143211Z"
    },
    "papermill": {
     "duration": 1.002596,
     "end_time": "2023-04-27T21:53:18.147785",
     "exception": false,
     "start_time": "2023-04-27T21:53:17.145189",
     "status": "completed"
    },
    "tags": []
   },
   "outputs": [],
   "source": [
    "import numpy as np\n",
    "import pandas as pd\n",
    "from sklearn import preprocessing\n",
    "import numpy as np \n",
    "\n",
    "seed=7 #To generate same sequence of random numbers"
   ]
  },
  {
   "cell_type": "markdown",
   "id": "9740f592",
   "metadata": {
    "papermill": {
     "duration": 0.008737,
     "end_time": "2023-04-27T21:53:18.165897",
     "exception": false,
     "start_time": "2023-04-27T21:53:18.157160",
     "status": "completed"
    },
    "tags": []
   },
   "source": [
    "#### Preprocessing Libraries"
   ]
  },
  {
   "cell_type": "code",
   "execution_count": 2,
   "id": "9e513ca2",
   "metadata": {
    "execution": {
     "iopub.execute_input": "2023-04-27T21:53:18.185868Z",
     "iopub.status.busy": "2023-04-27T21:53:18.185432Z",
     "iopub.status.idle": "2023-04-27T21:53:18.438629Z",
     "shell.execute_reply": "2023-04-27T21:53:18.437514Z"
    },
    "papermill": {
     "duration": 0.266238,
     "end_time": "2023-04-27T21:53:18.441257",
     "exception": false,
     "start_time": "2023-04-27T21:53:18.175019",
     "status": "completed"
    },
    "tags": []
   },
   "outputs": [],
   "source": [
    "from sklearn.impute import SimpleImputer\n",
    "from sklearn.preprocessing import StandardScaler\n",
    "from sklearn.model_selection import train_test_split\n"
   ]
  },
  {
   "cell_type": "markdown",
   "id": "4d94187b",
   "metadata": {
    "papermill": {
     "duration": 0.00861,
     "end_time": "2023-04-27T21:53:18.458882",
     "exception": false,
     "start_time": "2023-04-27T21:53:18.450272",
     "status": "completed"
    },
    "tags": []
   },
   "source": [
    "#### Classifiers"
   ]
  },
  {
   "cell_type": "code",
   "execution_count": 3,
   "id": "5d8440f5",
   "metadata": {
    "execution": {
     "iopub.execute_input": "2023-04-27T21:53:18.479100Z",
     "iopub.status.busy": "2023-04-27T21:53:18.478315Z",
     "iopub.status.idle": "2023-04-27T21:53:18.661321Z",
     "shell.execute_reply": "2023-04-27T21:53:18.660058Z"
    },
    "papermill": {
     "duration": 0.196369,
     "end_time": "2023-04-27T21:53:18.664280",
     "exception": false,
     "start_time": "2023-04-27T21:53:18.467911",
     "status": "completed"
    },
    "tags": []
   },
   "outputs": [],
   "source": [
    "from sklearn.tree import DecisionTreeClassifier\n",
    "from sklearn.naive_bayes import GaussianNB\n",
    "from sklearn.linear_model import SGDClassifier\n",
    "from sklearn.svm import SVC\n",
    "from sklearn.ensemble import RandomForestClassifier\n",
    "from sklearn.model_selection import StratifiedShuffleSplit\n",
    "from sklearn.neighbors import KNeighborsClassifier\n",
    "from sklearn.multiclass import OneVsRestClassifier\n",
    "from sklearn.ensemble import AdaBoostClassifier\n",
    "from sklearn import svm"
   ]
  },
  {
   "cell_type": "markdown",
   "id": "f5444176",
   "metadata": {
    "papermill": {
     "duration": 0.008667,
     "end_time": "2023-04-27T21:53:18.682126",
     "exception": false,
     "start_time": "2023-04-27T21:53:18.673459",
     "status": "completed"
    },
    "tags": []
   },
   "source": [
    "#### Evaluating Libraries"
   ]
  },
  {
   "cell_type": "code",
   "execution_count": 4,
   "id": "3c7bcbc7",
   "metadata": {
    "execution": {
     "iopub.execute_input": "2023-04-27T21:53:18.703925Z",
     "iopub.status.busy": "2023-04-27T21:53:18.703065Z",
     "iopub.status.idle": "2023-04-27T21:53:18.708433Z",
     "shell.execute_reply": "2023-04-27T21:53:18.707549Z"
    },
    "papermill": {
     "duration": 0.018051,
     "end_time": "2023-04-27T21:53:18.710737",
     "exception": false,
     "start_time": "2023-04-27T21:53:18.692686",
     "status": "completed"
    },
    "tags": []
   },
   "outputs": [],
   "source": [
    "from sklearn.metrics import accuracy_score\n",
    "from sklearn.metrics import confusion_matrix\n",
    "from sklearn.metrics import classification_report"
   ]
  },
  {
   "cell_type": "markdown",
   "id": "94f2ca3e",
   "metadata": {
    "papermill": {
     "duration": 0.00856,
     "end_time": "2023-04-27T21:53:18.728319",
     "exception": false,
     "start_time": "2023-04-27T21:53:18.719759",
     "status": "completed"
    },
    "tags": []
   },
   "source": [
    "### To read Data File"
   ]
  },
  {
   "cell_type": "code",
   "execution_count": 5,
   "id": "3d45e1de",
   "metadata": {
    "execution": {
     "iopub.execute_input": "2023-04-27T21:53:18.748678Z",
     "iopub.status.busy": "2023-04-27T21:53:18.747893Z",
     "iopub.status.idle": "2023-04-27T21:53:18.782873Z",
     "shell.execute_reply": "2023-04-27T21:53:18.781803Z"
    },
    "papermill": {
     "duration": 0.048451,
     "end_time": "2023-04-27T21:53:18.785827",
     "exception": false,
     "start_time": "2023-04-27T21:53:18.737376",
     "status": "completed"
    },
    "tags": []
   },
   "outputs": [],
   "source": [
    "#To read csv file\n",
    "churn = pd.read_csv('/kaggle/input/churn-in-telecoms-dataset/bigml_59c28831336c6604c800002a.csv', sep=',')\n"
   ]
  },
  {
   "cell_type": "markdown",
   "id": "ff8a0579",
   "metadata": {
    "papermill": {
     "duration": 0.009274,
     "end_time": "2023-04-27T21:53:18.804255",
     "exception": false,
     "start_time": "2023-04-27T21:53:18.794981",
     "status": "completed"
    },
    "tags": []
   },
   "source": [
    "### Basic Data Analysis"
   ]
  },
  {
   "cell_type": "code",
   "execution_count": 6,
   "id": "36548317",
   "metadata": {
    "execution": {
     "iopub.execute_input": "2023-04-27T21:53:18.824643Z",
     "iopub.status.busy": "2023-04-27T21:53:18.824200Z",
     "iopub.status.idle": "2023-04-27T21:53:18.907997Z",
     "shell.execute_reply": "2023-04-27T21:53:18.906679Z"
    },
    "papermill": {
     "duration": 0.097473,
     "end_time": "2023-04-27T21:53:18.911273",
     "exception": false,
     "start_time": "2023-04-27T21:53:18.813800",
     "status": "completed"
    },
    "tags": []
   },
   "outputs": [
    {
     "name": "stdout",
     "output_type": "stream",
     "text": [
      "(3333, 21)\n",
      "['state', 'account length', 'area code', 'phone number', 'international plan', 'voice mail plan', 'number vmail messages', 'total day minutes', 'total day calls', 'total day charge', 'total eve minutes', 'total eve calls', 'total eve charge', 'total night minutes', 'total night calls', 'total night charge', 'total intl minutes', 'total intl calls', 'total intl charge', 'customer service calls', 'churn']\n",
      "       account length    area code  number vmail messages  total day minutes  \\\n",
      "count     3333.000000  3333.000000            3333.000000        3333.000000   \n",
      "mean       101.064806   437.182418               8.099010         179.775098   \n",
      "std         39.822106    42.371290              13.688365          54.467389   \n",
      "min          1.000000   408.000000               0.000000           0.000000   \n",
      "25%         74.000000   408.000000               0.000000         143.700000   \n",
      "50%        101.000000   415.000000               0.000000         179.400000   \n",
      "75%        127.000000   510.000000              20.000000         216.400000   \n",
      "max        243.000000   510.000000              51.000000         350.800000   \n",
      "\n",
      "       total day calls  total day charge  total eve minutes  total eve calls  \\\n",
      "count      3333.000000       3333.000000        3333.000000      3333.000000   \n",
      "mean        100.435644         30.562307         200.980348       100.114311   \n",
      "std          20.069084          9.259435          50.713844        19.922625   \n",
      "min           0.000000          0.000000           0.000000         0.000000   \n",
      "25%          87.000000         24.430000         166.600000        87.000000   \n",
      "50%         101.000000         30.500000         201.400000       100.000000   \n",
      "75%         114.000000         36.790000         235.300000       114.000000   \n",
      "max         165.000000         59.640000         363.700000       170.000000   \n",
      "\n",
      "       total eve charge  total night minutes  total night calls  \\\n",
      "count       3333.000000          3333.000000        3333.000000   \n",
      "mean          17.083540           200.872037         100.107711   \n",
      "std            4.310668            50.573847          19.568609   \n",
      "min            0.000000            23.200000          33.000000   \n",
      "25%           14.160000           167.000000          87.000000   \n",
      "50%           17.120000           201.200000         100.000000   \n",
      "75%           20.000000           235.300000         113.000000   \n",
      "max           30.910000           395.000000         175.000000   \n",
      "\n",
      "       total night charge  total intl minutes  total intl calls  \\\n",
      "count         3333.000000         3333.000000       3333.000000   \n",
      "mean             9.039325           10.237294          4.479448   \n",
      "std              2.275873            2.791840          2.461214   \n",
      "min              1.040000            0.000000          0.000000   \n",
      "25%              7.520000            8.500000          3.000000   \n",
      "50%              9.050000           10.300000          4.000000   \n",
      "75%             10.590000           12.100000          6.000000   \n",
      "max             17.770000           20.000000         20.000000   \n",
      "\n",
      "       total intl charge  customer service calls  \n",
      "count        3333.000000             3333.000000  \n",
      "mean            2.764581                1.562856  \n",
      "std             0.753773                1.315491  \n",
      "min             0.000000                0.000000  \n",
      "25%             2.300000                1.000000  \n",
      "50%             2.780000                1.000000  \n",
      "75%             3.270000                2.000000  \n",
      "max             5.400000                9.000000  \n",
      "  state  account length  area code phone number international plan  \\\n",
      "0    KS             128        415     382-4657                 no   \n",
      "1    OH             107        415     371-7191                 no   \n",
      "\n",
      "  voice mail plan  number vmail messages  total day minutes  total day calls  \\\n",
      "0             yes                     25              265.1              110   \n",
      "1             yes                     26              161.6              123   \n",
      "\n",
      "   total day charge  ...  total eve calls  total eve charge  \\\n",
      "0             45.07  ...               99             16.78   \n",
      "1             27.47  ...              103             16.62   \n",
      "\n",
      "   total night minutes  total night calls  total night charge  \\\n",
      "0                244.7                 91               11.01   \n",
      "1                254.4                103               11.45   \n",
      "\n",
      "   total intl minutes  total intl calls  total intl charge  \\\n",
      "0                10.0                 3                2.7   \n",
      "1                13.7                 3                3.7   \n",
      "\n",
      "   customer service calls  churn  \n",
      "0                       1  False  \n",
      "1                       1  False  \n",
      "\n",
      "[2 rows x 21 columns]\n",
      "[False  True]\n"
     ]
    }
   ],
   "source": [
    "data_size=churn.shape\n",
    "print(data_size)\n",
    "\n",
    "churn_col_names=list(churn.columns)\n",
    "print(churn_col_names)\n",
    "\n",
    "print(churn.describe())\n",
    "print(churn.head(2))\n",
    "\n",
    "#Identifying the outcome/target variable.\n",
    "#Churn = True. means customer will churn. \n",
    "churn_target=churn['churn'] \n",
    "print(churn_target.unique())\n"
   ]
  },
  {
   "cell_type": "markdown",
   "id": "bfebef7b",
   "metadata": {
    "papermill": {
     "duration": 0.008782,
     "end_time": "2023-04-27T21:53:18.929387",
     "exception": false,
     "start_time": "2023-04-27T21:53:18.920605",
     "status": "completed"
    },
    "tags": []
   },
   "source": [
    "### Dropping the target Column"
   ]
  },
  {
   "cell_type": "code",
   "execution_count": 7,
   "id": "d5e6ecff",
   "metadata": {
    "execution": {
     "iopub.execute_input": "2023-04-27T21:53:18.950304Z",
     "iopub.status.busy": "2023-04-27T21:53:18.949842Z",
     "iopub.status.idle": "2023-04-27T21:53:18.965250Z",
     "shell.execute_reply": "2023-04-27T21:53:18.963967Z"
    },
    "papermill": {
     "duration": 0.028656,
     "end_time": "2023-04-27T21:53:18.967671",
     "exception": false,
     "start_time": "2023-04-27T21:53:18.939015",
     "status": "completed"
    },
    "tags": []
   },
   "outputs": [
    {
     "name": "stdout",
     "output_type": "stream",
     "text": [
      "  state  account length  area code international plan voice mail plan  \\\n",
      "0    KS             128        415                 no             yes   \n",
      "1    OH             107        415                 no             yes   \n",
      "\n",
      "   number vmail messages  total day minutes  total day calls  \\\n",
      "0                     25              265.1              110   \n",
      "1                     26              161.6              123   \n",
      "\n",
      "   total day charge  total eve minutes  total eve calls  total eve charge  \\\n",
      "0             45.07              197.4               99             16.78   \n",
      "1             27.47              195.5              103             16.62   \n",
      "\n",
      "   total night minutes  total night calls  total night charge  \\\n",
      "0                244.7                 91               11.01   \n",
      "1                254.4                103               11.45   \n",
      "\n",
      "   total intl minutes  total intl calls  total intl charge  \\\n",
      "0                10.0                 3                2.7   \n",
      "1                13.7                 3                3.7   \n",
      "\n",
      "   customer service calls  \n",
      "0                       1  \n",
      "1                       1  \n"
     ]
    }
   ],
   "source": [
    "#Phone number : unique number (might not influence prediction)\n",
    "#churn : target variable (not required in feature set)\n",
    "cols_to_drop = ['phone number','churn']\n",
    "#axis=1 depicts drop along columns\n",
    "churn_feature = churn.drop(cols_to_drop,axis=1)\n",
    "print(churn_feature.head(2))\n"
   ]
  },
  {
   "cell_type": "markdown",
   "id": "4d2fa24e",
   "metadata": {
    "papermill": {
     "duration": 0.009089,
     "end_time": "2023-04-27T21:53:18.986230",
     "exception": false,
     "start_time": "2023-04-27T21:53:18.977141",
     "status": "completed"
    },
    "tags": []
   },
   "source": [
    "## Data Preprocessing"
   ]
  },
  {
   "cell_type": "markdown",
   "id": "bf57eb1e",
   "metadata": {
    "papermill": {
     "duration": 0.00903,
     "end_time": "2023-04-27T21:53:19.004417",
     "exception": false,
     "start_time": "2023-04-27T21:53:18.995387",
     "status": "completed"
    },
    "tags": []
   },
   "source": [
    "#### Coverting Yes/No to Boolean values"
   ]
  },
  {
   "cell_type": "code",
   "execution_count": 8,
   "id": "682be6ae",
   "metadata": {
    "execution": {
     "iopub.execute_input": "2023-04-27T21:53:19.024855Z",
     "iopub.status.busy": "2023-04-27T21:53:19.024104Z",
     "iopub.status.idle": "2023-04-27T21:53:19.040010Z",
     "shell.execute_reply": "2023-04-27T21:53:19.038603Z"
    },
    "papermill": {
     "duration": 0.029257,
     "end_time": "2023-04-27T21:53:19.042814",
     "exception": false,
     "start_time": "2023-04-27T21:53:19.013557",
     "status": "completed"
    },
    "tags": []
   },
   "outputs": [
    {
     "name": "stdout",
     "output_type": "stream",
     "text": [
      "  state  account length  area code  international plan  voice mail plan  \\\n",
      "0    KS             128        415               False             True   \n",
      "1    OH             107        415               False             True   \n",
      "\n",
      "   number vmail messages  total day minutes  total day calls  \\\n",
      "0                     25              265.1              110   \n",
      "1                     26              161.6              123   \n",
      "\n",
      "   total day charge  total eve minutes  total eve calls  total eve charge  \\\n",
      "0             45.07              197.4               99             16.78   \n",
      "1             27.47              195.5              103             16.62   \n",
      "\n",
      "   total night minutes  total night calls  total night charge  \\\n",
      "0                244.7                 91               11.01   \n",
      "1                254.4                103               11.45   \n",
      "\n",
      "   total intl minutes  total intl calls  total intl charge  \\\n",
      "0                10.0                 3                2.7   \n",
      "1                13.7                 3                3.7   \n",
      "\n",
      "   customer service calls  \n",
      "0                       1  \n",
      "1                       1  \n"
     ]
    }
   ],
   "source": [
    "#Changing the 'yes or no' values to boolean\n",
    "yes_no_cols = [\"international plan\",\"voice mail plan\"]\n",
    "churn_feature[yes_no_cols] = churn_feature[yes_no_cols] == 'yes'\n",
    "print(churn_feature.head(2))\n"
   ]
  },
  {
   "cell_type": "markdown",
   "id": "a9cc5307",
   "metadata": {
    "papermill": {
     "duration": 0.009073,
     "end_time": "2023-04-27T21:53:19.061408",
     "exception": false,
     "start_time": "2023-04-27T21:53:19.052335",
     "status": "completed"
    },
    "tags": []
   },
   "source": [
    "#### Label Encoding"
   ]
  },
  {
   "cell_type": "code",
   "execution_count": 9,
   "id": "7a579b63",
   "metadata": {
    "execution": {
     "iopub.execute_input": "2023-04-27T21:53:19.082474Z",
     "iopub.status.busy": "2023-04-27T21:53:19.081818Z",
     "iopub.status.idle": "2023-04-27T21:53:19.095563Z",
     "shell.execute_reply": "2023-04-27T21:53:19.094039Z"
    },
    "papermill": {
     "duration": 0.026976,
     "end_time": "2023-04-27T21:53:19.097984",
     "exception": false,
     "start_time": "2023-04-27T21:53:19.071008",
     "status": "completed"
    },
    "tags": []
   },
   "outputs": [
    {
     "name": "stdout",
     "output_type": "stream",
     "text": [
      "  state  account length  area code  international plan  voice mail plan  \\\n",
      "0    KS             128          1               False             True   \n",
      "1    OH             107          1               False             True   \n",
      "\n",
      "   number vmail messages  total day minutes  total day calls  \\\n",
      "0                     25              265.1              110   \n",
      "1                     26              161.6              123   \n",
      "\n",
      "   total day charge  total eve minutes  total eve calls  total eve charge  \\\n",
      "0             45.07              197.4               99             16.78   \n",
      "1             27.47              195.5              103             16.62   \n",
      "\n",
      "   total night minutes  total night calls  total night charge  \\\n",
      "0                244.7                 91               11.01   \n",
      "1                254.4                103               11.45   \n",
      "\n",
      "   total intl minutes  total intl calls  total intl charge  \\\n",
      "0                10.0                 3                2.7   \n",
      "1                13.7                 3                3.7   \n",
      "\n",
      "   customer service calls  \n",
      "0                       1  \n",
      "1                       1  \n"
     ]
    }
   ],
   "source": [
    "label_encoder = preprocessing.LabelEncoder()\n",
    "churn_feature['area code'] = label_encoder.fit_transform(churn_feature['area code'])\n",
    "print(churn_feature.head(2))\n"
   ]
  },
  {
   "cell_type": "markdown",
   "id": "c6c3c0ab",
   "metadata": {
    "papermill": {
     "duration": 0.009017,
     "end_time": "2023-04-27T21:53:19.116508",
     "exception": false,
     "start_time": "2023-04-27T21:53:19.107491",
     "status": "completed"
    },
    "tags": []
   },
   "source": [
    "#### One-hot Encoding"
   ]
  },
  {
   "cell_type": "code",
   "execution_count": 10,
   "id": "6ca063d5",
   "metadata": {
    "execution": {
     "iopub.execute_input": "2023-04-27T21:53:19.137737Z",
     "iopub.status.busy": "2023-04-27T21:53:19.136696Z",
     "iopub.status.idle": "2023-04-27T21:53:19.172483Z",
     "shell.execute_reply": "2023-04-27T21:53:19.170926Z"
    },
    "papermill": {
     "duration": 0.049257,
     "end_time": "2023-04-27T21:53:19.175220",
     "exception": false,
     "start_time": "2023-04-27T21:53:19.125963",
     "status": "completed"
    },
    "tags": []
   },
   "outputs": [
    {
     "name": "stdout",
     "output_type": "stream",
     "text": [
      "Churn data size before one hot encoding (3333, 19)\n",
      "No of unique states 51\n",
      "Churn data size after one hot encoding (3333, 69)\n"
     ]
    }
   ],
   "source": [
    "print('Churn data size before one hot encoding',churn_feature.shape)\n",
    "print('No of unique states',len(churn_feature['state'].unique()))\n",
    "#Give the feature and columns to one hot encode in 'columns' and column rename prefix in 'prefix'\n",
    "churn_dumm=pd.get_dummies(churn_feature, columns=[\"state\"], prefix=[\"state\"])\n",
    "print('Churn data size after one hot encoding',churn_dumm.shape)\n",
    "#converting to numpy matrix\n",
    "churn_matrix = churn_dumm.values.astype(np.float64)\n"
   ]
  },
  {
   "cell_type": "markdown",
   "id": "b834876e",
   "metadata": {
    "papermill": {
     "duration": 0.00926,
     "end_time": "2023-04-27T21:53:19.194155",
     "exception": false,
     "start_time": "2023-04-27T21:53:19.184895",
     "status": "completed"
    },
    "tags": []
   },
   "source": [
    "#### Handling missing values"
   ]
  },
  {
   "cell_type": "code",
   "execution_count": 11,
   "id": "2be544d5",
   "metadata": {
    "execution": {
     "iopub.execute_input": "2023-04-27T21:53:19.215466Z",
     "iopub.status.busy": "2023-04-27T21:53:19.214445Z",
     "iopub.status.idle": "2023-04-27T21:53:19.223954Z",
     "shell.execute_reply": "2023-04-27T21:53:19.222783Z"
    },
    "papermill": {
     "duration": 0.02282,
     "end_time": "2023-04-27T21:53:19.226568",
     "exception": false,
     "start_time": "2023-04-27T21:53:19.203748",
     "status": "completed"
    },
    "tags": []
   },
   "outputs": [],
   "source": [
    "#Missing values replaced by mean\n",
    "imp=SimpleImputer(missing_values=np.nan,strategy='mean',fill_value=None,verbose=0,copy=True)\n",
    "#Fit to data, then transform it.\n",
    "churn_matrix=imp.fit_transform(churn_matrix)"
   ]
  },
  {
   "cell_type": "markdown",
   "id": "e4b61655",
   "metadata": {
    "papermill": {
     "duration": 0.00919,
     "end_time": "2023-04-27T21:53:19.245416",
     "exception": false,
     "start_time": "2023-04-27T21:53:19.236226",
     "status": "completed"
    },
    "tags": []
   },
   "source": [
    "#### Scaling the Data"
   ]
  },
  {
   "cell_type": "code",
   "execution_count": 12,
   "id": "0993a73c",
   "metadata": {
    "execution": {
     "iopub.execute_input": "2023-04-27T21:53:19.266656Z",
     "iopub.status.busy": "2023-04-27T21:53:19.265839Z",
     "iopub.status.idle": "2023-04-27T21:53:19.274094Z",
     "shell.execute_reply": "2023-04-27T21:53:19.273104Z"
    },
    "papermill": {
     "duration": 0.021487,
     "end_time": "2023-04-27T21:53:19.276464",
     "exception": false,
     "start_time": "2023-04-27T21:53:19.254977",
     "status": "completed"
    },
    "tags": []
   },
   "outputs": [],
   "source": [
    "#Standardize the data by removing the mean and scaling to unit variance\n",
    "scaler = StandardScaler()\n",
    "#Fit to data, then transform it.\n",
    "churn_matrix = scaler.fit_transform(churn_matrix)\n"
   ]
  },
  {
   "cell_type": "markdown",
   "id": "b2dc6588",
   "metadata": {
    "papermill": {
     "duration": 0.0092,
     "end_time": "2023-04-27T21:53:19.295525",
     "exception": false,
     "start_time": "2023-04-27T21:53:19.286325",
     "status": "completed"
    },
    "tags": []
   },
   "source": [
    "#### Splitting the data for training and testing(90% train,10% test)"
   ]
  },
  {
   "cell_type": "code",
   "execution_count": 13,
   "id": "c5f8e77b",
   "metadata": {
    "execution": {
     "iopub.execute_input": "2023-04-27T21:53:19.316625Z",
     "iopub.status.busy": "2023-04-27T21:53:19.315877Z",
     "iopub.status.idle": "2023-04-27T21:53:19.324665Z",
     "shell.execute_reply": "2023-04-27T21:53:19.323582Z"
    },
    "papermill": {
     "duration": 0.022277,
     "end_time": "2023-04-27T21:53:19.327378",
     "exception": false,
     "start_time": "2023-04-27T21:53:19.305101",
     "status": "completed"
    },
    "tags": []
   },
   "outputs": [],
   "source": [
    "\n",
    "train_data,test_data, train_label, test_label = train_test_split(churn_matrix, churn_target, test_size=.1,random_state=seed)\n",
    "target_names = ['False.', 'True.']\n"
   ]
  },
  {
   "cell_type": "markdown",
   "id": "0db5f8be",
   "metadata": {
    "papermill": {
     "duration": 0.009129,
     "end_time": "2023-04-27T21:53:19.346119",
     "exception": false,
     "start_time": "2023-04-27T21:53:19.336990",
     "status": "completed"
    },
    "tags": []
   },
   "source": [
    "## Performing Classification"
   ]
  },
  {
   "cell_type": "markdown",
   "id": "8a9781d0",
   "metadata": {
    "papermill": {
     "duration": 0.009077,
     "end_time": "2023-04-27T21:53:19.364592",
     "exception": false,
     "start_time": "2023-04-27T21:53:19.355515",
     "status": "completed"
    },
    "tags": []
   },
   "source": [
    "#### Decision Tree Classifier"
   ]
  },
  {
   "cell_type": "code",
   "execution_count": 14,
   "id": "4857da80",
   "metadata": {
    "execution": {
     "iopub.execute_input": "2023-04-27T21:53:19.385940Z",
     "iopub.status.busy": "2023-04-27T21:53:19.385501Z",
     "iopub.status.idle": "2023-04-27T21:53:19.465441Z",
     "shell.execute_reply": "2023-04-27T21:53:19.464191Z"
    },
    "papermill": {
     "duration": 0.093914,
     "end_time": "2023-04-27T21:53:19.468404",
     "exception": false,
     "start_time": "2023-04-27T21:53:19.374490",
     "status": "completed"
    },
    "tags": []
   },
   "outputs": [
    {
     "name": "stdout",
     "output_type": "stream",
     "text": [
      "Decision Tree Classifier :  0.9101796407185628\n",
      "Confusion Matrix [[265  18]\n",
      " [ 12  39]]\n",
      "              precision    recall  f1-score   support\n",
      "\n",
      "      False.       0.96      0.94      0.95       283\n",
      "       True.       0.68      0.76      0.72        51\n",
      "\n",
      "    accuracy                           0.91       334\n",
      "   macro avg       0.82      0.85      0.83       334\n",
      "weighted avg       0.92      0.91      0.91       334\n",
      "\n"
     ]
    }
   ],
   "source": [
    "classifier=DecisionTreeClassifier(random_state=seed)\n",
    "classifier = classifier.fit(train_data, train_label)\n",
    "churn_predicted_target=classifier.predict(test_data)\n",
    "score = classifier.score(test_data, test_label)\n",
    "print('Decision Tree Classifier : ',score)\n",
    "print('Confusion Matrix',confusion_matrix(test_label,churn_predicted_target))\n",
    "print(classification_report(test_label, churn_predicted_target, target_names=target_names))\n"
   ]
  },
  {
   "cell_type": "markdown",
   "id": "1b9eca25",
   "metadata": {
    "papermill": {
     "duration": 0.009118,
     "end_time": "2023-04-27T21:53:19.487125",
     "exception": false,
     "start_time": "2023-04-27T21:53:19.478007",
     "status": "completed"
    },
    "tags": []
   },
   "source": [
    "#### Naive Bayes Classifier"
   ]
  },
  {
   "cell_type": "code",
   "execution_count": 15,
   "id": "e06732bb",
   "metadata": {
    "execution": {
     "iopub.execute_input": "2023-04-27T21:53:19.508863Z",
     "iopub.status.busy": "2023-04-27T21:53:19.508054Z",
     "iopub.status.idle": "2023-04-27T21:53:19.528256Z",
     "shell.execute_reply": "2023-04-27T21:53:19.526710Z"
    },
    "papermill": {
     "duration": 0.033824,
     "end_time": "2023-04-27T21:53:19.530750",
     "exception": false,
     "start_time": "2023-04-27T21:53:19.496926",
     "status": "completed"
    },
    "tags": []
   },
   "outputs": [
    {
     "name": "stdout",
     "output_type": "stream",
     "text": [
      "Naive Bayes :  0.5748502994011976\n",
      "Accuracy Score 0.5748502994011976\n",
      "Confusion Matrix [[169 114]\n",
      " [ 28  23]]\n",
      "              precision    recall  f1-score   support\n",
      "\n",
      "      False.       0.86      0.60      0.70       283\n",
      "       True.       0.17      0.45      0.24        51\n",
      "\n",
      "    accuracy                           0.57       334\n",
      "   macro avg       0.51      0.52      0.47       334\n",
      "weighted avg       0.75      0.57      0.63       334\n",
      "\n"
     ]
    }
   ],
   "source": [
    "\n",
    "classifier=GaussianNB()\n",
    "classifier = classifier.fit(train_data, train_label)\n",
    "churn_predicted_target=classifier.predict(test_data)\n",
    "score = classifier.score(test_data, test_label)\n",
    "print('Naive Bayes : ',score)\n",
    "print('Accuracy Score',accuracy_score(test_label,churn_predicted_target))  \n",
    "print('Confusion Matrix',confusion_matrix(test_label,churn_predicted_target))\n",
    "print(classification_report(test_label, churn_predicted_target, target_names=target_names))\n"
   ]
  },
  {
   "cell_type": "markdown",
   "id": "d7a56c33",
   "metadata": {
    "papermill": {
     "duration": 0.009028,
     "end_time": "2023-04-27T21:53:19.549399",
     "exception": false,
     "start_time": "2023-04-27T21:53:19.540371",
     "status": "completed"
    },
    "tags": []
   },
   "source": [
    "#### Stochastic Gradient Descent Classifier"
   ]
  },
  {
   "cell_type": "code",
   "execution_count": 16,
   "id": "3596c7ca",
   "metadata": {
    "execution": {
     "iopub.execute_input": "2023-04-27T21:53:19.570210Z",
     "iopub.status.busy": "2023-04-27T21:53:19.569808Z",
     "iopub.status.idle": "2023-04-27T21:53:19.680702Z",
     "shell.execute_reply": "2023-04-27T21:53:19.679282Z"
    },
    "papermill": {
     "duration": 0.125863,
     "end_time": "2023-04-27T21:53:19.684779",
     "exception": false,
     "start_time": "2023-04-27T21:53:19.558916",
     "status": "completed"
    },
    "tags": []
   },
   "outputs": [
    {
     "name": "stdout",
     "output_type": "stream",
     "text": [
      "SGD classifier :  0.781437125748503\n",
      "Accuracy Score 0.781437125748503\n",
      "Confusion Matrix [[243  40]\n",
      " [ 33  18]]\n",
      "              precision    recall  f1-score   support\n",
      "\n",
      "      False.       0.88      0.86      0.87       283\n",
      "       True.       0.31      0.35      0.33        51\n",
      "\n",
      "    accuracy                           0.78       334\n",
      "   macro avg       0.60      0.61      0.60       334\n",
      "weighted avg       0.79      0.78      0.79       334\n",
      "\n"
     ]
    }
   ],
   "source": [
    "\n",
    "classifier =  SGDClassifier(loss='modified_huber', shuffle=True,random_state=seed)\n",
    "classifier = classifier.fit(train_data, train_label)\n",
    "churn_predicted_target=classifier.predict(test_data)\n",
    "score = classifier.score(test_data, test_label)\n",
    "print('SGD classifier : ',score)\n",
    "print('Accuracy Score',accuracy_score(test_label,churn_predicted_target))  \n",
    "print('Confusion Matrix',confusion_matrix(test_label,churn_predicted_target))\n",
    "print(classification_report(test_label, churn_predicted_target, target_names=target_names))\n"
   ]
  },
  {
   "cell_type": "markdown",
   "id": "0d450a18",
   "metadata": {
    "papermill": {
     "duration": 0.014988,
     "end_time": "2023-04-27T21:53:19.715922",
     "exception": false,
     "start_time": "2023-04-27T21:53:19.700934",
     "status": "completed"
    },
    "tags": []
   },
   "source": [
    "#### Support Vector Machine Classifier"
   ]
  },
  {
   "cell_type": "code",
   "execution_count": 17,
   "id": "08fcb5af",
   "metadata": {
    "execution": {
     "iopub.execute_input": "2023-04-27T21:53:19.751464Z",
     "iopub.status.busy": "2023-04-27T21:53:19.749786Z",
     "iopub.status.idle": "2023-04-27T21:53:20.005287Z",
     "shell.execute_reply": "2023-04-27T21:53:20.003636Z"
    },
    "papermill": {
     "duration": 0.276278,
     "end_time": "2023-04-27T21:53:20.008191",
     "exception": false,
     "start_time": "2023-04-27T21:53:19.731913",
     "status": "completed"
    },
    "tags": []
   },
   "outputs": [
    {
     "name": "stdout",
     "output_type": "stream",
     "text": [
      "SVM Classifier :  0.8473053892215568\n",
      "Accuracy Score 0.8473053892215568\n",
      "Confusion Matrix [[283   0]\n",
      " [ 51   0]]\n",
      "              precision    recall  f1-score   support\n",
      "\n",
      "      False.       0.85      1.00      0.92       283\n",
      "       True.       0.00      0.00      0.00        51\n",
      "\n",
      "    accuracy                           0.85       334\n",
      "   macro avg       0.42      0.50      0.46       334\n",
      "weighted avg       0.72      0.85      0.78       334\n",
      "\n"
     ]
    },
    {
     "name": "stderr",
     "output_type": "stream",
     "text": [
      "/opt/conda/lib/python3.7/site-packages/sklearn/metrics/_classification.py:1318: UndefinedMetricWarning: Precision and F-score are ill-defined and being set to 0.0 in labels with no predicted samples. Use `zero_division` parameter to control this behavior.\n",
      "  _warn_prf(average, modifier, msg_start, len(result))\n",
      "/opt/conda/lib/python3.7/site-packages/sklearn/metrics/_classification.py:1318: UndefinedMetricWarning: Precision and F-score are ill-defined and being set to 0.0 in labels with no predicted samples. Use `zero_division` parameter to control this behavior.\n",
      "  _warn_prf(average, modifier, msg_start, len(result))\n",
      "/opt/conda/lib/python3.7/site-packages/sklearn/metrics/_classification.py:1318: UndefinedMetricWarning: Precision and F-score are ill-defined and being set to 0.0 in labels with no predicted samples. Use `zero_division` parameter to control this behavior.\n",
      "  _warn_prf(average, modifier, msg_start, len(result))\n"
     ]
    }
   ],
   "source": [
    "classifier = SVC(kernel=\"linear\", C=0.025,random_state=seed)\n",
    "classifier = classifier.fit(train_data, train_label)\n",
    "churn_predicted_target=classifier.predict(test_data)\n",
    "score = classifier.score(test_data, test_label)\n",
    "print('SVM Classifier : ',score)\n",
    "print('Accuracy Score',accuracy_score(test_label,churn_predicted_target))  \n",
    "print('Confusion Matrix',confusion_matrix(test_label,churn_predicted_target))\n",
    "print(classification_report(test_label, churn_predicted_target, target_names=target_names))\n"
   ]
  },
  {
   "cell_type": "markdown",
   "id": "f2c7c689",
   "metadata": {
    "papermill": {
     "duration": 0.009478,
     "end_time": "2023-04-27T21:53:20.027600",
     "exception": false,
     "start_time": "2023-04-27T21:53:20.018122",
     "status": "completed"
    },
    "tags": []
   },
   "source": [
    "#### Random Forest Classifier"
   ]
  },
  {
   "cell_type": "code",
   "execution_count": 18,
   "id": "95d51592",
   "metadata": {
    "execution": {
     "iopub.execute_input": "2023-04-27T21:53:20.049111Z",
     "iopub.status.busy": "2023-04-27T21:53:20.048666Z",
     "iopub.status.idle": "2023-04-27T21:53:20.108944Z",
     "shell.execute_reply": "2023-04-27T21:53:20.107118Z"
    },
    "papermill": {
     "duration": 0.074446,
     "end_time": "2023-04-27T21:53:20.111871",
     "exception": false,
     "start_time": "2023-04-27T21:53:20.037425",
     "status": "completed"
    },
    "tags": []
   },
   "outputs": [
    {
     "name": "stdout",
     "output_type": "stream",
     "text": [
      "Random Forest Classifier :  0.8682634730538922\n",
      "Accuracy Score 0.8682634730538922\n",
      "Confusion Matrix [[282   1]\n",
      " [ 43   8]]\n",
      "              precision    recall  f1-score   support\n",
      "\n",
      "      False.       0.87      1.00      0.93       283\n",
      "       True.       0.89      0.16      0.27        51\n",
      "\n",
      "    accuracy                           0.87       334\n",
      "   macro avg       0.88      0.58      0.60       334\n",
      "weighted avg       0.87      0.87      0.83       334\n",
      "\n"
     ]
    }
   ],
   "source": [
    "classifier = RandomForestClassifier(max_depth=5, n_estimators=10, max_features=10,random_state=seed)\n",
    "classifier = classifier.fit(train_data, train_label)\n",
    "churn_predicted_target=classifier.predict(test_data)\n",
    "score = classifier.score(test_data, test_label)\n",
    "print('Random Forest Classifier : ',score)\n",
    "print('Accuracy Score',accuracy_score(test_label,churn_predicted_target))  \n",
    "print('Confusion Matrix',confusion_matrix(test_label,churn_predicted_target))\n",
    "print(classification_report(test_label, churn_predicted_target, target_names=target_names))\n"
   ]
  },
  {
   "cell_type": "markdown",
   "id": "c70f6981",
   "metadata": {
    "papermill": {
     "duration": 0.009605,
     "end_time": "2023-04-27T21:53:20.131899",
     "exception": false,
     "start_time": "2023-04-27T21:53:20.122294",
     "status": "completed"
    },
    "tags": []
   },
   "source": [
    "#### Further tunning the parameters of Random Forest Classifier"
   ]
  },
  {
   "cell_type": "code",
   "execution_count": 19,
   "id": "1ab8a0e3",
   "metadata": {
    "execution": {
     "iopub.execute_input": "2023-04-27T21:53:20.153818Z",
     "iopub.status.busy": "2023-04-27T21:53:20.153362Z",
     "iopub.status.idle": "2023-04-27T21:53:20.376712Z",
     "shell.execute_reply": "2023-04-27T21:53:20.374972Z"
    },
    "papermill": {
     "duration": 0.23744,
     "end_time": "2023-04-27T21:53:20.379348",
     "exception": false,
     "start_time": "2023-04-27T21:53:20.141908",
     "status": "completed"
    },
    "tags": []
   },
   "outputs": [
    {
     "name": "stdout",
     "output_type": "stream",
     "text": [
      "Random Forest classification after model tuning 0.937125748502994\n",
      "Accuracy Score 0.8682634730538922\n",
      "Confusion Matrix [[282   1]\n",
      " [ 43   8]]\n",
      "              precision    recall  f1-score   support\n",
      "\n",
      "      False.       0.87      1.00      0.93       283\n",
      "       True.       0.89      0.16      0.27        51\n",
      "\n",
      "    accuracy                           0.87       334\n",
      "   macro avg       0.88      0.58      0.60       334\n",
      "weighted avg       0.87      0.87      0.83       334\n",
      "\n"
     ]
    }
   ],
   "source": [
    "classifier = RandomForestClassifier(max_depth=5, n_estimators=15, max_features=60,random_state=seed)\n",
    "classifier = classifier.fit(train_data, train_label)\n",
    "score=classifier.score(test_data, test_label)\n",
    "print('Random Forest classification after model tuning',score)\n",
    "print('Accuracy Score',accuracy_score(test_label,churn_predicted_target))  \n",
    "print('Confusion Matrix',confusion_matrix(test_label,churn_predicted_target))\n",
    "print(classification_report(test_label, churn_predicted_target, target_names=target_names))\n"
   ]
  },
  {
   "cell_type": "markdown",
   "id": "2c0e2d72",
   "metadata": {
    "papermill": {
     "duration": 0.009689,
     "end_time": "2023-04-27T21:53:20.399211",
     "exception": false,
     "start_time": "2023-04-27T21:53:20.389522",
     "status": "completed"
    },
    "tags": []
   },
   "source": [
    "### Using StratifiedShuffleSplit would suit our case study as the dataset has a class imbalance\n"
   ]
  },
  {
   "cell_type": "code",
   "execution_count": 20,
   "id": "78dc3820",
   "metadata": {
    "execution": {
     "iopub.execute_input": "2023-04-27T21:53:20.421360Z",
     "iopub.status.busy": "2023-04-27T21:53:20.420521Z",
     "iopub.status.idle": "2023-04-27T21:53:20.427406Z",
     "shell.execute_reply": "2023-04-27T21:53:20.426068Z"
    },
    "papermill": {
     "duration": 0.020796,
     "end_time": "2023-04-27T21:53:20.430023",
     "exception": false,
     "start_time": "2023-04-27T21:53:20.409227",
     "status": "completed"
    },
    "tags": []
   },
   "outputs": [
    {
     "name": "stdout",
     "output_type": "stream",
     "text": [
      "StratifiedShuffleSplit(n_splits=1, random_state=7, test_size=0.1,\n",
      "            train_size=None)\n"
     ]
    }
   ],
   "source": [
    "sss = StratifiedShuffleSplit(n_splits=1,test_size=0.1, random_state=7)\n",
    "sss.get_n_splits(churn_matrix,churn_target)\n",
    "print(sss)\n"
   ]
  },
  {
   "cell_type": "code",
   "execution_count": 21,
   "id": "bb89cdde",
   "metadata": {
    "execution": {
     "iopub.execute_input": "2023-04-27T21:53:20.452248Z",
     "iopub.status.busy": "2023-04-27T21:53:20.451398Z",
     "iopub.status.idle": "2023-04-27T21:53:22.158280Z",
     "shell.execute_reply": "2023-04-27T21:53:22.156597Z"
    },
    "papermill": {
     "duration": 1.720501,
     "end_time": "2023-04-27T21:53:22.160667",
     "exception": false,
     "start_time": "2023-04-27T21:53:20.440166",
     "status": "completed"
    },
    "tags": []
   },
   "outputs": [
    {
     "name": "stdout",
     "output_type": "stream",
     "text": [
      "0.9011976047904192\n",
      "0.6137724550898204\n",
      "0.8173652694610778\n",
      "0.8562874251497006\n",
      "0.8652694610778443\n"
     ]
    },
    {
     "name": "stderr",
     "output_type": "stream",
     "text": [
      "/opt/conda/lib/python3.7/site-packages/sklearn/svm/_base.py:1208: ConvergenceWarning: Liblinear failed to converge, increase the number of iterations.\n",
      "  ConvergenceWarning,\n"
     ]
    },
    {
     "name": "stdout",
     "output_type": "stream",
     "text": [
      "0.8652694610778443\n",
      "0.8892215568862275\n",
      "0.8832335329341318\n"
     ]
    }
   ],
   "source": [
    "classifiers = [\n",
    "    DecisionTreeClassifier(),\n",
    "    GaussianNB(),\n",
    "    SGDClassifier(loss='modified_huber', shuffle=True),\n",
    "    SVC(kernel=\"linear\", C=0.025),\n",
    "    KNeighborsClassifier(),\n",
    "    OneVsRestClassifier(svm.LinearSVC()),\n",
    "    RandomForestClassifier(max_depth=5, n_estimators=10, max_features=10),\n",
    "    AdaBoostClassifier(),\n",
    "   ]\n",
    "for clf in classifiers:\n",
    "    score=0\n",
    "    for train_index, test_index in sss.split(churn_matrix,churn_target):\n",
    "        X_train, X_test = churn_matrix[train_index], churn_matrix[test_index]\n",
    "        y_train, y_test = churn_target[train_index], churn_target[test_index]\n",
    "        clf.fit(X_train, y_train)\n",
    "        score=score+clf.score(X_test, y_test)\n",
    "    print(score)\n"
   ]
  },
  {
   "cell_type": "code",
   "execution_count": null,
   "id": "b857238a",
   "metadata": {
    "papermill": {
     "duration": 0.010299,
     "end_time": "2023-04-27T21:53:22.181628",
     "exception": false,
     "start_time": "2023-04-27T21:53:22.171329",
     "status": "completed"
    },
    "tags": []
   },
   "outputs": [],
   "source": []
  }
 ],
 "metadata": {
  "kernelspec": {
   "display_name": "Python 3",
   "language": "python",
   "name": "python3"
  },
  "language_info": {
   "codemirror_mode": {
    "name": "ipython",
    "version": 3
   },
   "file_extension": ".py",
   "mimetype": "text/x-python",
   "name": "python",
   "nbconvert_exporter": "python",
   "pygments_lexer": "ipython3",
   "version": "3.7.12"
  },
  "papermill": {
   "default_parameters": {},
   "duration": 15.854227,
   "end_time": "2023-04-27T21:53:22.914685",
   "environment_variables": {},
   "exception": null,
   "input_path": "__notebook__.ipynb",
   "output_path": "__notebook__.ipynb",
   "parameters": {},
   "start_time": "2023-04-27T21:53:07.060458",
   "version": "2.4.0"
  }
 },
 "nbformat": 4,
 "nbformat_minor": 5
}
