{
 "cells": [
  {
   "cell_type": "code",
   "execution_count": 1,
   "id": "f2a1544b",
   "metadata": {
    "_cell_guid": "b1076dfc-b9ad-4769-8c92-a6c4dae69d19",
    "_uuid": "8f2839f25d086af736a60e9eeb907d3b93b6e0e5",
    "execution": {
     "iopub.execute_input": "2023-10-07T00:01:01.607983Z",
     "iopub.status.busy": "2023-10-07T00:01:01.607593Z",
     "iopub.status.idle": "2023-10-07T00:01:01.984740Z",
     "shell.execute_reply": "2023-10-07T00:01:01.983812Z"
    },
    "papermill": {
     "duration": 0.401841,
     "end_time": "2023-10-07T00:01:01.987300",
     "exception": false,
     "start_time": "2023-10-07T00:01:01.585459",
     "status": "completed"
    },
    "tags": []
   },
   "outputs": [],
   "source": [
    "# This Python 3 environment comes with many helpful analytics libraries installed\n",
    "# It is defined by the kaggle/python Docker image: https://github.com/kaggle/docker-python\n",
    "# For example, here's several helpful packages to load\n",
    "\n",
    "import numpy as np # linear algebra\n",
    "import pandas as pd # data processing, CSV file I/O (e.g. pd.read_csv)\n",
    "\n",
    "# Input data files are available in the read-only \"../input/\" directory\n",
    "# For example, running this (by clicking run or pressing Shift+Enter) will list all files under the input directory\n",
    "\n",
    "import os\n",
    "for dirname, _, filenames in os.walk('/kaggle/input'):\n",
    "    for filename in filenames:\n",
    "        print(os.path.join(dirname, filename))\n",
    "\n",
    "# You can write up to 20GB to the current directory (/kaggle/working/) that gets preserved as output when you create a version using \"Save & Run All\" \n",
    "# You can also write temporary files to /kaggle/temp/, but they won't be saved outside of the current session"
   ]
  },
  {
   "cell_type": "code",
   "execution_count": 2,
   "id": "6de08cfc",
   "metadata": {
    "execution": {
     "iopub.execute_input": "2023-10-07T00:01:02.023458Z",
     "iopub.status.busy": "2023-10-07T00:01:02.022959Z",
     "iopub.status.idle": "2023-10-07T00:01:02.033054Z",
     "shell.execute_reply": "2023-10-07T00:01:02.032114Z"
    },
    "papermill": {
     "duration": 0.030019,
     "end_time": "2023-10-07T00:01:02.035210",
     "exception": false,
     "start_time": "2023-10-07T00:01:02.005191",
     "status": "completed"
    },
    "tags": []
   },
   "outputs": [],
   "source": [
    "import pandas as pd \n",
    "date = [pd.Timestamp(\"2017-01-01\"),\n",
    "        pd.Timestamp(\"2017-01-02\"),\n",
    "        pd.Timestamp(\"2017-01-03\")]\n",
    "timeSeries = pd.Series(np.random.randn(len(date)), index=date)\n"
   ]
  },
  {
   "cell_type": "code",
   "execution_count": 3,
   "id": "2726a6f1",
   "metadata": {
    "execution": {
     "iopub.execute_input": "2023-10-07T00:01:02.072601Z",
     "iopub.status.busy": "2023-10-07T00:01:02.071973Z",
     "iopub.status.idle": "2023-10-07T00:01:02.086924Z",
     "shell.execute_reply": "2023-10-07T00:01:02.086272Z"
    },
    "papermill": {
     "duration": 0.034927,
     "end_time": "2023-10-07T00:01:02.088752",
     "exception": false,
     "start_time": "2023-10-07T00:01:02.053825",
     "status": "completed"
    },
    "tags": []
   },
   "outputs": [
    {
     "data": {
      "text/plain": [
       "-0.1797078055358205"
      ]
     },
     "execution_count": 3,
     "metadata": {},
     "output_type": "execute_result"
    }
   ],
   "source": [
    "timeSeries.index = pd.DatetimeIndex(['2017-01-01', '2017-01-02', '2017-01-03'], dtype='datetime64[ns]', freq=None)\n",
    "timeSeries['2017-01-01']"
   ]
  },
  {
   "cell_type": "markdown",
   "id": "2ea3730e",
   "metadata": {
    "papermill": {
     "duration": 0.016016,
     "end_time": "2023-10-07T00:01:02.121163",
     "exception": false,
     "start_time": "2023-10-07T00:01:02.105147",
     "status": "completed"
    },
    "tags": []
   },
   "source": [
    "### Frequency Business Days"
   ]
  },
  {
   "cell_type": "code",
   "execution_count": 4,
   "id": "e0d4ee2b",
   "metadata": {
    "execution": {
     "iopub.execute_input": "2023-10-07T00:01:02.156089Z",
     "iopub.status.busy": "2023-10-07T00:01:02.155431Z",
     "iopub.status.idle": "2023-10-07T00:01:02.171612Z",
     "shell.execute_reply": "2023-10-07T00:01:02.170638Z"
    },
    "papermill": {
     "duration": 0.036033,
     "end_time": "2023-10-07T00:01:02.173517",
     "exception": false,
     "start_time": "2023-10-07T00:01:02.137484",
     "status": "completed"
    },
    "tags": []
   },
   "outputs": [
    {
     "data": {
      "text/plain": [
       "DatetimeIndex(['2017-01-02', '2017-01-03', '2017-01-04', '2017-01-05',\n",
       "               '2017-01-06', '2017-01-09', '2017-01-10', '2017-01-11',\n",
       "               '2017-01-12', '2017-01-13', '2017-01-16', '2017-01-17',\n",
       "               '2017-01-18', '2017-01-19'],\n",
       "              dtype='datetime64[ns]', freq='B')"
      ]
     },
     "execution_count": 4,
     "metadata": {},
     "output_type": "execute_result"
    }
   ],
   "source": [
    "pd.date_range(start='2017-01-01',end='2017-01-19',freq='B')"
   ]
  },
  {
   "cell_type": "markdown",
   "id": "42aa19da",
   "metadata": {
    "papermill": {
     "duration": 0.077474,
     "end_time": "2023-10-07T00:01:02.267652",
     "exception": false,
     "start_time": "2023-10-07T00:01:02.190178",
     "status": "completed"
    },
    "tags": []
   },
   "source": [
    "### Frequency Hours"
   ]
  },
  {
   "cell_type": "code",
   "execution_count": 5,
   "id": "6c3ba1a1",
   "metadata": {
    "execution": {
     "iopub.execute_input": "2023-10-07T00:01:02.303040Z",
     "iopub.status.busy": "2023-10-07T00:01:02.302654Z",
     "iopub.status.idle": "2023-10-07T00:01:02.310479Z",
     "shell.execute_reply": "2023-10-07T00:01:02.309390Z"
    },
    "papermill": {
     "duration": 0.027663,
     "end_time": "2023-10-07T00:01:02.312348",
     "exception": false,
     "start_time": "2023-10-07T00:01:02.284685",
     "status": "completed"
    },
    "tags": []
   },
   "outputs": [
    {
     "data": {
      "text/plain": [
       "DatetimeIndex(['2017-01-01 00:00:00', '2017-01-01 01:00:00',\n",
       "               '2017-01-01 02:00:00'],\n",
       "              dtype='datetime64[ns]', freq='H')"
      ]
     },
     "execution_count": 5,
     "metadata": {},
     "output_type": "execute_result"
    }
   ],
   "source": [
    "pd.date_range(start=\"2017-01-01\", periods=3, freq='H')"
   ]
  },
  {
   "cell_type": "markdown",
   "id": "a09bf3e7",
   "metadata": {
    "papermill": {
     "duration": 0.016378,
     "end_time": "2023-10-07T00:01:02.345995",
     "exception": false,
     "start_time": "2023-10-07T00:01:02.329617",
     "status": "completed"
    },
    "tags": []
   },
   "source": [
    "### Frequency Minutes"
   ]
  },
  {
   "cell_type": "code",
   "execution_count": 6,
   "id": "34dece3f",
   "metadata": {
    "execution": {
     "iopub.execute_input": "2023-10-07T00:01:02.381289Z",
     "iopub.status.busy": "2023-10-07T00:01:02.380771Z",
     "iopub.status.idle": "2023-10-07T00:01:02.388986Z",
     "shell.execute_reply": "2023-10-07T00:01:02.387875Z"
    },
    "papermill": {
     "duration": 0.028184,
     "end_time": "2023-10-07T00:01:02.390870",
     "exception": false,
     "start_time": "2023-10-07T00:01:02.362686",
     "status": "completed"
    },
    "tags": []
   },
   "outputs": [
    {
     "data": {
      "text/plain": [
       "DatetimeIndex(['2017-01-01 00:00:00', '2017-01-01 00:01:00',\n",
       "               '2017-01-01 00:02:00'],\n",
       "              dtype='datetime64[ns]', freq='T')"
      ]
     },
     "execution_count": 6,
     "metadata": {},
     "output_type": "execute_result"
    }
   ],
   "source": [
    "pd.date_range(start=\"2017-01-01\", periods=3, freq='T')"
   ]
  },
  {
   "cell_type": "markdown",
   "id": "9a5f1c94",
   "metadata": {
    "papermill": {
     "duration": 0.016459,
     "end_time": "2023-10-07T00:01:02.424240",
     "exception": false,
     "start_time": "2023-10-07T00:01:02.407781",
     "status": "completed"
    },
    "tags": []
   },
   "source": [
    "### Frequency Seconds"
   ]
  },
  {
   "cell_type": "code",
   "execution_count": 7,
   "id": "b26d5124",
   "metadata": {
    "execution": {
     "iopub.execute_input": "2023-10-07T00:01:02.459445Z",
     "iopub.status.busy": "2023-10-07T00:01:02.458919Z",
     "iopub.status.idle": "2023-10-07T00:01:02.467164Z",
     "shell.execute_reply": "2023-10-07T00:01:02.465779Z"
    },
    "papermill": {
     "duration": 0.028429,
     "end_time": "2023-10-07T00:01:02.469284",
     "exception": false,
     "start_time": "2023-10-07T00:01:02.440855",
     "status": "completed"
    },
    "tags": []
   },
   "outputs": [
    {
     "data": {
      "text/plain": [
       "DatetimeIndex(['2017-01-01 00:00:00', '2017-01-01 00:00:01',\n",
       "               '2017-01-01 00:00:02'],\n",
       "              dtype='datetime64[ns]', freq='S')"
      ]
     },
     "execution_count": 7,
     "metadata": {},
     "output_type": "execute_result"
    }
   ],
   "source": [
    "pd.date_range(start=\"2017-01-01\", periods=3, freq='S')"
   ]
  },
  {
   "cell_type": "markdown",
   "id": "c25d6a7c",
   "metadata": {
    "papermill": {
     "duration": 0.017255,
     "end_time": "2023-10-07T00:01:02.503657",
     "exception": false,
     "start_time": "2023-10-07T00:01:02.486402",
     "status": "completed"
    },
    "tags": []
   },
   "source": [
    "### Frequency Combination of Days/Hours/Minutes/seconds"
   ]
  },
  {
   "cell_type": "code",
   "execution_count": 8,
   "id": "69488f87",
   "metadata": {
    "execution": {
     "iopub.execute_input": "2023-10-07T00:01:02.539577Z",
     "iopub.status.busy": "2023-10-07T00:01:02.539199Z",
     "iopub.status.idle": "2023-10-07T00:01:02.547442Z",
     "shell.execute_reply": "2023-10-07T00:01:02.546130Z"
    },
    "papermill": {
     "duration": 0.028531,
     "end_time": "2023-10-07T00:01:02.549487",
     "exception": false,
     "start_time": "2023-10-07T00:01:02.520956",
     "status": "completed"
    },
    "tags": []
   },
   "outputs": [
    {
     "data": {
      "text/plain": [
       "DatetimeIndex(['2017-01-01 00:00:00', '2017-01-02 01:01:10',\n",
       "               '2017-01-03 02:02:20', '2017-01-04 03:03:30',\n",
       "               '2017-01-05 04:04:40'],\n",
       "              dtype='datetime64[ns]', freq='90070S')"
      ]
     },
     "execution_count": 8,
     "metadata": {},
     "output_type": "execute_result"
    }
   ],
   "source": [
    "pd.date_range(start=\"2017-01-01\", periods=5, freq='1D1h1min10s')"
   ]
  },
  {
   "cell_type": "markdown",
   "id": "494593cc",
   "metadata": {
    "papermill": {
     "duration": 0.01662,
     "end_time": "2023-10-07T00:01:02.583226",
     "exception": false,
     "start_time": "2023-10-07T00:01:02.566606",
     "status": "completed"
    },
    "tags": []
   },
   "source": [
    "### Frequency Week-Friday"
   ]
  },
  {
   "cell_type": "code",
   "execution_count": 9,
   "id": "72aa8419",
   "metadata": {
    "execution": {
     "iopub.execute_input": "2023-10-07T00:01:02.618939Z",
     "iopub.status.busy": "2023-10-07T00:01:02.618621Z",
     "iopub.status.idle": "2023-10-07T00:01:02.625801Z",
     "shell.execute_reply": "2023-10-07T00:01:02.624630Z"
    },
    "papermill": {
     "duration": 0.027748,
     "end_time": "2023-10-07T00:01:02.627912",
     "exception": false,
     "start_time": "2023-10-07T00:01:02.600164",
     "status": "completed"
    },
    "tags": []
   },
   "outputs": [
    {
     "data": {
      "text/plain": [
       "DatetimeIndex(['2017-01-06', '2017-01-13', '2017-01-20', '2017-01-27',\n",
       "               '2017-02-03'],\n",
       "              dtype='datetime64[ns]', freq='W-FRI')"
      ]
     },
     "execution_count": 9,
     "metadata": {},
     "output_type": "execute_result"
    }
   ],
   "source": [
    "pd.date_range(start=\"2017-01-01\", periods=5, freq='W-FRI')"
   ]
  },
  {
   "cell_type": "markdown",
   "id": "342c0b40",
   "metadata": {
    "papermill": {
     "duration": 0.018722,
     "end_time": "2023-10-07T00:01:02.663903",
     "exception": false,
     "start_time": "2023-10-07T00:01:02.645181",
     "status": "completed"
    },
    "tags": []
   },
   "source": [
    "### Combining Frequency indexes\n",
    "####  First 10 Business Days for January\n",
    "####  Last 10 Business Days for February"
   ]
  },
  {
   "cell_type": "code",
   "execution_count": 10,
   "id": "474991da",
   "metadata": {
    "execution": {
     "iopub.execute_input": "2023-10-07T00:01:02.700572Z",
     "iopub.status.busy": "2023-10-07T00:01:02.700222Z",
     "iopub.status.idle": "2023-10-07T00:01:02.721259Z",
     "shell.execute_reply": "2023-10-07T00:01:02.720364Z"
    },
    "papermill": {
     "duration": 0.042178,
     "end_time": "2023-10-07T00:01:02.723618",
     "exception": false,
     "start_time": "2023-10-07T00:01:02.681440",
     "status": "completed"
    },
    "tags": []
   },
   "outputs": [
    {
     "data": {
      "text/plain": [
       "DatetimeIndex(['2017-01-02', '2017-02-28', '2018-01-01', '2018-02-28',\n",
       "               '2019-01-01', '2019-02-28', '2020-01-01', '2020-02-29',\n",
       "               '2021-01-01', '2021-02-28', '2022-01-03', '2022-02-28',\n",
       "               '2023-01-02', '2023-02-28', '2024-01-01', '2024-02-29',\n",
       "               '2025-01-01', '2025-02-28', '2026-01-01', '2026-02-28'],\n",
       "              dtype='datetime64[ns]', freq=None)"
      ]
     },
     "execution_count": 10,
     "metadata": {},
     "output_type": "execute_result"
    }
   ],
   "source": [
    "a = pd.date_range(start=\"2017-01-01\", periods=10, freq='BAS-JAN')\n",
    "b = pd.date_range(start=\"2017-01-01\", periods=10, freq='A-FEB')\n",
    "a.union(b)"
   ]
  },
  {
   "cell_type": "markdown",
   "id": "3ab1e708",
   "metadata": {
    "papermill": {
     "duration": 0.019369,
     "end_time": "2023-10-07T00:01:02.760768",
     "exception": false,
     "start_time": "2023-10-07T00:01:02.741399",
     "status": "completed"
    },
    "tags": []
   },
   "source": [
    "## Sampling\n"
   ]
  },
  {
   "cell_type": "markdown",
   "id": "e47ff3b8",
   "metadata": {
    "papermill": {
     "duration": 0.017656,
     "end_time": "2023-10-07T00:01:02.795488",
     "exception": false,
     "start_time": "2023-10-07T00:01:02.777832",
     "status": "completed"
    },
    "tags": []
   },
   "source": [
    "### DownSample Scenario"
   ]
  },
  {
   "cell_type": "code",
   "execution_count": 11,
   "id": "8fc661ac",
   "metadata": {
    "execution": {
     "iopub.execute_input": "2023-10-07T00:01:02.831605Z",
     "iopub.status.busy": "2023-10-07T00:01:02.831225Z",
     "iopub.status.idle": "2023-10-07T00:01:02.841437Z",
     "shell.execute_reply": "2023-10-07T00:01:02.840280Z"
    },
    "papermill": {
     "duration": 0.031023,
     "end_time": "2023-10-07T00:01:02.843661",
     "exception": false,
     "start_time": "2023-10-07T00:01:02.812638",
     "status": "completed"
    },
    "tags": []
   },
   "outputs": [
    {
     "data": {
      "text/plain": [
       "2017-09-18 08:00:00    38\n",
       "2017-09-18 08:01:00    44\n",
       "2017-09-18 08:02:00    84\n",
       "2017-09-18 08:03:00    14\n",
       "2017-09-18 08:04:00    62\n",
       "2017-09-18 08:05:00    72\n",
       "2017-09-18 08:06:00    90\n",
       "2017-09-18 08:07:00    13\n",
       "2017-09-18 08:08:00    38\n",
       "2017-09-18 08:09:00    28\n",
       "Freq: T, dtype: int64"
      ]
     },
     "execution_count": 11,
     "metadata": {},
     "output_type": "execute_result"
    }
   ],
   "source": [
    "customerArrival = pd.date_range('18/09/2017 8:00', periods=600, freq='T')\n",
    "custArrivalTs = pd.Series(np.random.randint(0, 100, len(customerArrival)), index=customerArrival)\n",
    "custArrivalTs.head(10)\n"
   ]
  },
  {
   "cell_type": "code",
   "execution_count": 12,
   "id": "26767159",
   "metadata": {
    "execution": {
     "iopub.execute_input": "2023-10-07T00:01:02.880891Z",
     "iopub.status.busy": "2023-10-07T00:01:02.880557Z",
     "iopub.status.idle": "2023-10-07T00:01:02.899723Z",
     "shell.execute_reply": "2023-10-07T00:01:02.898490Z"
    },
    "papermill": {
     "duration": 0.040328,
     "end_time": "2023-10-07T00:01:02.901904",
     "exception": false,
     "start_time": "2023-10-07T00:01:02.861576",
     "status": "completed"
    },
    "tags": []
   },
   "outputs": [
    {
     "data": {
      "text/plain": [
       "2017-09-18 08:00:00    48.3\n",
       "2017-09-18 08:10:00    47.5\n",
       "2017-09-18 08:20:00    50.9\n",
       "2017-09-18 08:30:00    60.0\n",
       "2017-09-18 08:40:00    32.9\n",
       "Freq: 10T, dtype: float64"
      ]
     },
     "execution_count": 12,
     "metadata": {},
     "output_type": "execute_result"
    }
   ],
   "source": [
    "custArrivalTs.resample('10min').mean().head()"
   ]
  },
  {
   "cell_type": "markdown",
   "id": "f3b9a5d4",
   "metadata": {
    "papermill": {
     "duration": 0.017136,
     "end_time": "2023-10-07T00:01:02.937354",
     "exception": false,
     "start_time": "2023-10-07T00:01:02.920218",
     "status": "completed"
    },
    "tags": []
   },
   "source": [
    "#### Custom Aggregation"
   ]
  },
  {
   "cell_type": "code",
   "execution_count": 13,
   "id": "3e593462",
   "metadata": {
    "execution": {
     "iopub.execute_input": "2023-10-07T00:01:02.975157Z",
     "iopub.status.busy": "2023-10-07T00:01:02.974218Z",
     "iopub.status.idle": "2023-10-07T00:01:02.986376Z",
     "shell.execute_reply": "2023-10-07T00:01:02.985335Z"
    },
    "papermill": {
     "duration": 0.033462,
     "end_time": "2023-10-07T00:01:02.988325",
     "exception": false,
     "start_time": "2023-10-07T00:01:02.954863",
     "status": "completed"
    },
    "tags": []
   },
   "outputs": [
    {
     "data": {
      "text/plain": [
       "2017-09-18 08:00:00    483\n",
       "2017-09-18 08:10:00    475\n",
       "2017-09-18 08:20:00    509\n",
       "2017-09-18 08:30:00    600\n",
       "2017-09-18 08:40:00    329\n",
       "Freq: 10T, dtype: int64"
      ]
     },
     "execution_count": 13,
     "metadata": {},
     "output_type": "execute_result"
    }
   ],
   "source": [
    "custArrivalTs.resample('10min').sum().head()"
   ]
  },
  {
   "cell_type": "code",
   "execution_count": 14,
   "id": "125c3889",
   "metadata": {
    "execution": {
     "iopub.execute_input": "2023-10-07T00:01:03.025604Z",
     "iopub.status.busy": "2023-10-07T00:01:03.024953Z",
     "iopub.status.idle": "2023-10-07T00:01:03.032914Z",
     "shell.execute_reply": "2023-10-07T00:01:03.032237Z"
    },
    "papermill": {
     "duration": 0.028732,
     "end_time": "2023-10-07T00:01:03.034674",
     "exception": false,
     "start_time": "2023-10-07T00:01:03.005942",
     "status": "completed"
    },
    "tags": []
   },
   "outputs": [
    {
     "data": {
      "text/plain": [
       "2017-09-18 08:00:00    99\n",
       "2017-09-18 09:00:00    99\n",
       "2017-09-18 10:00:00    98\n",
       "2017-09-18 11:00:00    98\n",
       "2017-09-18 12:00:00    98\n",
       "Freq: H, dtype: int64"
      ]
     },
     "execution_count": 14,
     "metadata": {},
     "output_type": "execute_result"
    }
   ],
   "source": [
    "custArrivalTs.resample('1h').max().head()"
   ]
  },
  {
   "cell_type": "code",
   "execution_count": 15,
   "id": "dabbab32",
   "metadata": {
    "execution": {
     "iopub.execute_input": "2023-10-07T00:01:03.071872Z",
     "iopub.status.busy": "2023-10-07T00:01:03.071505Z",
     "iopub.status.idle": "2023-10-07T00:01:03.085916Z",
     "shell.execute_reply": "2023-10-07T00:01:03.085222Z"
    },
    "papermill": {
     "duration": 0.035874,
     "end_time": "2023-10-07T00:01:03.088064",
     "exception": false,
     "start_time": "2023-10-07T00:01:03.052190",
     "status": "completed"
    },
    "tags": []
   },
   "outputs": [
    {
     "data": {
      "text/plain": [
       "2017-09-18 08:00:00    26\n",
       "2017-09-18 09:00:00    71\n",
       "2017-09-18 10:00:00     5\n",
       "2017-09-18 11:00:00    78\n",
       "2017-09-18 12:00:00    48\n",
       "Freq: H, dtype: int64"
      ]
     },
     "execution_count": 15,
     "metadata": {},
     "output_type": "execute_result"
    }
   ],
   "source": [
    "import random\n",
    "custArrivalTs.resample('1h').apply(lambda m: random.choice(m)).head()"
   ]
  },
  {
   "cell_type": "markdown",
   "id": "b1a11196",
   "metadata": {
    "papermill": {
     "duration": 0.017668,
     "end_time": "2023-10-07T00:01:03.123494",
     "exception": false,
     "start_time": "2023-10-07T00:01:03.105826",
     "status": "completed"
    },
    "tags": []
   },
   "source": [
    "#### Open High Low Close\n",
    "- you are analyzing customer incidence data. You would wish to see the opening, closing, high and low incidence values in a given interval of time.\n"
   ]
  },
  {
   "cell_type": "code",
   "execution_count": 16,
   "id": "9d2f9b90",
   "metadata": {
    "execution": {
     "iopub.execute_input": "2023-10-07T00:01:03.160388Z",
     "iopub.status.busy": "2023-10-07T00:01:03.160041Z",
     "iopub.status.idle": "2023-10-07T00:01:03.177042Z",
     "shell.execute_reply": "2023-10-07T00:01:03.176285Z"
    },
    "papermill": {
     "duration": 0.037961,
     "end_time": "2023-10-07T00:01:03.178920",
     "exception": false,
     "start_time": "2023-10-07T00:01:03.140959",
     "status": "completed"
    },
    "tags": []
   },
   "outputs": [
    {
     "data": {
      "text/html": [
       "<div>\n",
       "<style scoped>\n",
       "    .dataframe tbody tr th:only-of-type {\n",
       "        vertical-align: middle;\n",
       "    }\n",
       "\n",
       "    .dataframe tbody tr th {\n",
       "        vertical-align: top;\n",
       "    }\n",
       "\n",
       "    .dataframe thead th {\n",
       "        text-align: right;\n",
       "    }\n",
       "</style>\n",
       "<table border=\"1\" class=\"dataframe\">\n",
       "  <thead>\n",
       "    <tr style=\"text-align: right;\">\n",
       "      <th></th>\n",
       "      <th>open</th>\n",
       "      <th>high</th>\n",
       "      <th>low</th>\n",
       "      <th>close</th>\n",
       "    </tr>\n",
       "  </thead>\n",
       "  <tbody>\n",
       "    <tr>\n",
       "      <th>2017-09-18 08:00:00</th>\n",
       "      <td>38</td>\n",
       "      <td>99</td>\n",
       "      <td>2</td>\n",
       "      <td>13</td>\n",
       "    </tr>\n",
       "    <tr>\n",
       "      <th>2017-09-18 09:00:00</th>\n",
       "      <td>40</td>\n",
       "      <td>99</td>\n",
       "      <td>1</td>\n",
       "      <td>78</td>\n",
       "    </tr>\n",
       "    <tr>\n",
       "      <th>2017-09-18 10:00:00</th>\n",
       "      <td>87</td>\n",
       "      <td>98</td>\n",
       "      <td>3</td>\n",
       "      <td>91</td>\n",
       "    </tr>\n",
       "    <tr>\n",
       "      <th>2017-09-18 11:00:00</th>\n",
       "      <td>26</td>\n",
       "      <td>98</td>\n",
       "      <td>0</td>\n",
       "      <td>75</td>\n",
       "    </tr>\n",
       "    <tr>\n",
       "      <th>2017-09-18 12:00:00</th>\n",
       "      <td>78</td>\n",
       "      <td>98</td>\n",
       "      <td>0</td>\n",
       "      <td>21</td>\n",
       "    </tr>\n",
       "  </tbody>\n",
       "</table>\n",
       "</div>"
      ],
      "text/plain": [
       "                     open  high  low  close\n",
       "2017-09-18 08:00:00    38    99    2     13\n",
       "2017-09-18 09:00:00    40    99    1     78\n",
       "2017-09-18 10:00:00    87    98    3     91\n",
       "2017-09-18 11:00:00    26    98    0     75\n",
       "2017-09-18 12:00:00    78    98    0     21"
      ]
     },
     "execution_count": 16,
     "metadata": {},
     "output_type": "execute_result"
    }
   ],
   "source": [
    "custArrivalTs.resample('1h').apply('ohlc').head()"
   ]
  },
  {
   "cell_type": "markdown",
   "id": "eb0e2013",
   "metadata": {
    "papermill": {
     "duration": 0.01782,
     "end_time": "2023-10-07T00:01:03.214540",
     "exception": false,
     "start_time": "2023-10-07T00:01:03.196720",
     "status": "completed"
    },
    "tags": []
   },
   "source": [
    "### Upsampling Scenario"
   ]
  },
  {
   "cell_type": "code",
   "execution_count": 17,
   "id": "43675e76",
   "metadata": {
    "execution": {
     "iopub.execute_input": "2023-10-07T00:01:03.253302Z",
     "iopub.status.busy": "2023-10-07T00:01:03.252944Z",
     "iopub.status.idle": "2023-10-07T00:01:03.261602Z",
     "shell.execute_reply": "2023-10-07T00:01:03.260492Z"
    },
    "papermill": {
     "duration": 0.030244,
     "end_time": "2023-10-07T00:01:03.263485",
     "exception": false,
     "start_time": "2023-10-07T00:01:03.233241",
     "status": "completed"
    },
    "tags": []
   },
   "outputs": [
    {
     "data": {
      "text/plain": [
       "2017-09-18 08:00:00    87\n",
       "2017-09-18 09:00:00     7\n",
       "2017-09-18 10:00:00    48\n",
       "2017-09-18 11:00:00    16\n",
       "2017-09-18 12:00:00    83\n",
       "2017-09-18 13:00:00    10\n",
       "2017-09-18 14:00:00    97\n",
       "2017-09-18 15:00:00    55\n",
       "2017-09-18 16:00:00     4\n",
       "2017-09-18 17:00:00    29\n",
       "Freq: H, dtype: int64"
      ]
     },
     "execution_count": 17,
     "metadata": {},
     "output_type": "execute_result"
    }
   ],
   "source": [
    "sampleRng = pd.date_range('9/18/2017 8:00', periods=10, freq='H')\n",
    "sampleTs = pd.Series(np.random.randint(0, 100, len(sampleRng)), index=sampleRng)\n",
    "sampleTs"
   ]
  },
  {
   "cell_type": "code",
   "execution_count": 18,
   "id": "44bb30d9",
   "metadata": {
    "execution": {
     "iopub.execute_input": "2023-10-07T00:01:03.301025Z",
     "iopub.status.busy": "2023-10-07T00:01:03.300686Z",
     "iopub.status.idle": "2023-10-07T00:01:03.310407Z",
     "shell.execute_reply": "2023-10-07T00:01:03.309321Z"
    },
    "papermill": {
     "duration": 0.031007,
     "end_time": "2023-10-07T00:01:03.312442",
     "exception": false,
     "start_time": "2023-10-07T00:01:03.281435",
     "status": "completed"
    },
    "tags": []
   },
   "outputs": [
    {
     "data": {
      "text/plain": [
       "2017-09-18 08:00:00    87.0\n",
       "2017-09-18 08:15:00     NaN\n",
       "2017-09-18 08:30:00     NaN\n",
       "2017-09-18 08:45:00     NaN\n",
       "2017-09-18 09:00:00     7.0\n",
       "2017-09-18 09:15:00     NaN\n",
       "2017-09-18 09:30:00     NaN\n",
       "2017-09-18 09:45:00     NaN\n",
       "2017-09-18 10:00:00    48.0\n",
       "2017-09-18 10:15:00     NaN\n",
       "Freq: 15T, dtype: float64"
      ]
     },
     "execution_count": 18,
     "metadata": {},
     "output_type": "execute_result"
    }
   ],
   "source": [
    "sampleTs.resample('15min').mean().head(10)\n"
   ]
  },
  {
   "cell_type": "markdown",
   "id": "a1364f60",
   "metadata": {
    "papermill": {
     "duration": 0.017484,
     "end_time": "2023-10-07T00:01:03.348778",
     "exception": false,
     "start_time": "2023-10-07T00:01:03.331294",
     "status": "completed"
    },
    "tags": []
   },
   "source": [
    "#### Filling NaN(s) with forward fill"
   ]
  },
  {
   "cell_type": "code",
   "execution_count": 19,
   "id": "12c5edb8",
   "metadata": {
    "execution": {
     "iopub.execute_input": "2023-10-07T00:01:03.386636Z",
     "iopub.status.busy": "2023-10-07T00:01:03.386004Z",
     "iopub.status.idle": "2023-10-07T00:01:03.398389Z",
     "shell.execute_reply": "2023-10-07T00:01:03.397522Z"
    },
    "papermill": {
     "duration": 0.033712,
     "end_time": "2023-10-07T00:01:03.400408",
     "exception": false,
     "start_time": "2023-10-07T00:01:03.366696",
     "status": "completed"
    },
    "tags": []
   },
   "outputs": [
    {
     "data": {
      "text/plain": [
       "2017-09-18 08:00:00    87\n",
       "2017-09-18 08:15:00    87\n",
       "2017-09-18 08:30:00    87\n",
       "2017-09-18 08:45:00    87\n",
       "2017-09-18 09:00:00     7\n",
       "2017-09-18 09:15:00     7\n",
       "2017-09-18 09:30:00     7\n",
       "2017-09-18 09:45:00     7\n",
       "2017-09-18 10:00:00    48\n",
       "2017-09-18 10:15:00    48\n",
       "Freq: 15T, dtype: int64"
      ]
     },
     "execution_count": 19,
     "metadata": {},
     "output_type": "execute_result"
    }
   ],
   "source": [
    "sampleTs = sampleTs.resample('15min')\n",
    "sampleTs.ffill().head(10)"
   ]
  },
  {
   "cell_type": "markdown",
   "id": "28c4f468",
   "metadata": {
    "papermill": {
     "duration": 0.018164,
     "end_time": "2023-10-07T00:01:03.436796",
     "exception": false,
     "start_time": "2023-10-07T00:01:03.418632",
     "status": "completed"
    },
    "tags": []
   },
   "source": [
    "#### Filling NaN(s) with backward fill"
   ]
  },
  {
   "cell_type": "code",
   "execution_count": 20,
   "id": "c2c6107c",
   "metadata": {
    "execution": {
     "iopub.execute_input": "2023-10-07T00:01:03.474382Z",
     "iopub.status.busy": "2023-10-07T00:01:03.474002Z",
     "iopub.status.idle": "2023-10-07T00:01:03.477684Z",
     "shell.execute_reply": "2023-10-07T00:01:03.476687Z"
    },
    "papermill": {
     "duration": 0.025068,
     "end_time": "2023-10-07T00:01:03.479568",
     "exception": false,
     "start_time": "2023-10-07T00:01:03.454500",
     "status": "completed"
    },
    "tags": []
   },
   "outputs": [],
   "source": [
    "# sampleTs = sampleTs.resample('15min')\n",
    "# sampleTs.bfill().head()"
   ]
  },
  {
   "cell_type": "code",
   "execution_count": 21,
   "id": "8cab57bb",
   "metadata": {
    "execution": {
     "iopub.execute_input": "2023-10-07T00:01:03.518313Z",
     "iopub.status.busy": "2023-10-07T00:01:03.517926Z",
     "iopub.status.idle": "2023-10-07T00:01:03.522399Z",
     "shell.execute_reply": "2023-10-07T00:01:03.521372Z"
    },
    "papermill": {
     "duration": 0.025959,
     "end_time": "2023-10-07T00:01:03.524452",
     "exception": false,
     "start_time": "2023-10-07T00:01:03.498493",
     "status": "completed"
    },
    "tags": []
   },
   "outputs": [],
   "source": [
    "#sampleTs.resample('15min').ffill(limit=2).head()"
   ]
  },
  {
   "cell_type": "markdown",
   "id": "822346a3",
   "metadata": {
    "papermill": {
     "duration": 0.018002,
     "end_time": "2023-10-07T00:01:03.561151",
     "exception": false,
     "start_time": "2023-10-07T00:01:03.543149",
     "status": "completed"
    },
    "tags": []
   },
   "source": [
    "#### Interpolation"
   ]
  },
  {
   "cell_type": "code",
   "execution_count": 22,
   "id": "bf415660",
   "metadata": {
    "execution": {
     "iopub.execute_input": "2023-10-07T00:01:03.600023Z",
     "iopub.status.busy": "2023-10-07T00:01:03.598836Z",
     "iopub.status.idle": "2023-10-07T00:01:03.603711Z",
     "shell.execute_reply": "2023-10-07T00:01:03.603014Z"
    },
    "papermill": {
     "duration": 0.026512,
     "end_time": "2023-10-07T00:01:03.605842",
     "exception": false,
     "start_time": "2023-10-07T00:01:03.579330",
     "status": "completed"
    },
    "tags": []
   },
   "outputs": [],
   "source": [
    "#interEx = sampleTs.resample('15min')\n",
    "\n",
    "#interEx.interpolate().head(10)"
   ]
  },
  {
   "cell_type": "markdown",
   "id": "ff5647dd",
   "metadata": {
    "papermill": {
     "duration": 0.018082,
     "end_time": "2023-10-07T00:01:03.642186",
     "exception": false,
     "start_time": "2023-10-07T00:01:03.624104",
     "status": "completed"
    },
    "tags": []
   },
   "source": [
    "## Time Zones\n"
   ]
  },
  {
   "cell_type": "code",
   "execution_count": 23,
   "id": "fe5b870e",
   "metadata": {
    "execution": {
     "iopub.execute_input": "2023-10-07T00:01:03.682501Z",
     "iopub.status.busy": "2023-10-07T00:01:03.681417Z",
     "iopub.status.idle": "2023-10-07T00:01:03.730994Z",
     "shell.execute_reply": "2023-10-07T00:01:03.729935Z"
    },
    "papermill": {
     "duration": 0.072357,
     "end_time": "2023-10-07T00:01:03.733164",
     "exception": false,
     "start_time": "2023-10-07T00:01:03.660807",
     "status": "completed"
    },
    "tags": []
   },
   "outputs": [
    {
     "data": {
      "text/plain": [
       "['US/Eastern', 'US/Hawaii', 'US/Mountain', 'US/Pacific', 'UTC']"
      ]
     },
     "execution_count": 23,
     "metadata": {},
     "output_type": "execute_result"
    }
   ],
   "source": [
    "import pytz \n",
    "pytz.common_timezones[-5:]\n"
   ]
  },
  {
   "cell_type": "code",
   "execution_count": 24,
   "id": "df05764c",
   "metadata": {
    "execution": {
     "iopub.execute_input": "2023-10-07T00:01:03.773455Z",
     "iopub.status.busy": "2023-10-07T00:01:03.773001Z",
     "iopub.status.idle": "2023-10-07T00:01:03.781168Z",
     "shell.execute_reply": "2023-10-07T00:01:03.780218Z"
    },
    "papermill": {
     "duration": 0.031416,
     "end_time": "2023-10-07T00:01:03.783203",
     "exception": false,
     "start_time": "2023-10-07T00:01:03.751787",
     "status": "completed"
    },
    "tags": []
   },
   "outputs": [
    {
     "data": {
      "text/plain": [
       "<DstTzInfo 'US/Eastern' LMT-1 day, 19:04:00 STD>"
      ]
     },
     "execution_count": 24,
     "metadata": {},
     "output_type": "execute_result"
    }
   ],
   "source": [
    "usEastTz = pytz.timezone('US/Eastern')\n",
    "usEastTz"
   ]
  },
  {
   "cell_type": "markdown",
   "id": "ac0d6c26",
   "metadata": {
    "papermill": {
     "duration": 0.018054,
     "end_time": "2023-10-07T00:01:03.819616",
     "exception": false,
     "start_time": "2023-10-07T00:01:03.801562",
     "status": "completed"
    },
    "tags": []
   },
   "source": [
    "#### Localizing time series"
   ]
  },
  {
   "cell_type": "code",
   "execution_count": 25,
   "id": "203ab7c8",
   "metadata": {
    "execution": {
     "iopub.execute_input": "2023-10-07T00:01:03.857903Z",
     "iopub.status.busy": "2023-10-07T00:01:03.857389Z",
     "iopub.status.idle": "2023-10-07T00:01:03.866061Z",
     "shell.execute_reply": "2023-10-07T00:01:03.865020Z"
    },
    "papermill": {
     "duration": 0.030266,
     "end_time": "2023-10-07T00:01:03.868109",
     "exception": false,
     "start_time": "2023-10-07T00:01:03.837843",
     "status": "completed"
    },
    "tags": []
   },
   "outputs": [
    {
     "data": {
      "text/plain": [
       "datetime.timezone.utc"
      ]
     },
     "execution_count": 25,
     "metadata": {},
     "output_type": "execute_result"
    }
   ],
   "source": [
    "\n",
    "timeZoneRng = pd.date_range('9/18/2017 9:30', periods=6, freq='D',tz='UTC')\n",
    "timeZoneTs = pd.Series(np.random.randn(len(timeZoneRng)), index=timeZoneRng)\n",
    "timeZoneTs.index.tz"
   ]
  },
  {
   "cell_type": "code",
   "execution_count": 26,
   "id": "d539fea8",
   "metadata": {
    "execution": {
     "iopub.execute_input": "2023-10-07T00:01:03.906951Z",
     "iopub.status.busy": "2023-10-07T00:01:03.906624Z",
     "iopub.status.idle": "2023-10-07T00:01:03.914235Z",
     "shell.execute_reply": "2023-10-07T00:01:03.913249Z"
    },
    "papermill": {
     "duration": 0.029795,
     "end_time": "2023-10-07T00:01:03.916485",
     "exception": false,
     "start_time": "2023-10-07T00:01:03.886690",
     "status": "completed"
    },
    "tags": []
   },
   "outputs": [
    {
     "data": {
      "text/plain": [
       "2017-09-18 09:30:00+00:00   -1.155157\n",
       "2017-09-19 09:30:00+00:00    0.109732\n",
       "2017-09-20 09:30:00+00:00    0.744928\n",
       "2017-09-21 09:30:00+00:00   -0.780775\n",
       "2017-09-22 09:30:00+00:00    0.070128\n",
       "2017-09-23 09:30:00+00:00   -0.923899\n",
       "Freq: D, dtype: float64"
      ]
     },
     "execution_count": 26,
     "metadata": {},
     "output_type": "execute_result"
    }
   ],
   "source": [
    "timeZoneTs\n"
   ]
  },
  {
   "cell_type": "code",
   "execution_count": 27,
   "id": "e593b905",
   "metadata": {
    "execution": {
     "iopub.execute_input": "2023-10-07T00:01:03.956464Z",
     "iopub.status.busy": "2023-10-07T00:01:03.956124Z",
     "iopub.status.idle": "2023-10-07T00:01:03.969270Z",
     "shell.execute_reply": "2023-10-07T00:01:03.968235Z"
    },
    "papermill": {
     "duration": 0.035615,
     "end_time": "2023-10-07T00:01:03.971199",
     "exception": false,
     "start_time": "2023-10-07T00:01:03.935584",
     "status": "completed"
    },
    "tags": []
   },
   "outputs": [
    {
     "data": {
      "text/plain": [
       "2017-09-18 05:30:00-04:00   -1.155157\n",
       "2017-09-19 05:30:00-04:00    0.109732\n",
       "2017-09-20 05:30:00-04:00    0.744928\n",
       "2017-09-21 05:30:00-04:00   -0.780775\n",
       "2017-09-22 05:30:00-04:00    0.070128\n",
       "2017-09-23 05:30:00-04:00   -0.923899\n",
       "Freq: D, dtype: float64"
      ]
     },
     "execution_count": 27,
     "metadata": {},
     "output_type": "execute_result"
    }
   ],
   "source": [
    "timeZoneTs.tz_convert('US/Eastern')\n"
   ]
  },
  {
   "cell_type": "markdown",
   "id": "59fcbe58",
   "metadata": {
    "papermill": {
     "duration": 0.020189,
     "end_time": "2023-10-07T00:01:04.010944",
     "exception": false,
     "start_time": "2023-10-07T00:01:03.990755",
     "status": "completed"
    },
    "tags": []
   },
   "source": [
    "#### Using timestamp"
   ]
  },
  {
   "cell_type": "code",
   "execution_count": 28,
   "id": "a29477f6",
   "metadata": {
    "execution": {
     "iopub.execute_input": "2023-10-07T00:01:04.052800Z",
     "iopub.status.busy": "2023-10-07T00:01:04.052446Z",
     "iopub.status.idle": "2023-10-07T00:01:04.057762Z",
     "shell.execute_reply": "2023-10-07T00:01:04.057031Z"
    },
    "papermill": {
     "duration": 0.028344,
     "end_time": "2023-10-07T00:01:04.059501",
     "exception": false,
     "start_time": "2023-10-07T00:01:04.031157",
     "status": "completed"
    },
    "tags": []
   },
   "outputs": [
    {
     "data": {
      "text/plain": [
       "Timestamp('2011-09-19 04:00:00+0000', tz='UTC')"
      ]
     },
     "execution_count": 28,
     "metadata": {},
     "output_type": "execute_result"
    }
   ],
   "source": [
    "sampleTimeStamp =  pd.Timestamp('2011-09-19 04:00')\n",
    "timeStamp_utc = sampleTimeStamp.tz_localize('UTC')\n",
    "timeStamp_utc"
   ]
  },
  {
   "cell_type": "code",
   "execution_count": 29,
   "id": "a3cfd350",
   "metadata": {
    "execution": {
     "iopub.execute_input": "2023-10-07T00:01:04.100416Z",
     "iopub.status.busy": "2023-10-07T00:01:04.099866Z",
     "iopub.status.idle": "2023-10-07T00:01:04.106832Z",
     "shell.execute_reply": "2023-10-07T00:01:04.105770Z"
    },
    "papermill": {
     "duration": 0.030915,
     "end_time": "2023-10-07T00:01:04.109460",
     "exception": false,
     "start_time": "2023-10-07T00:01:04.078545",
     "status": "completed"
    },
    "tags": []
   },
   "outputs": [
    {
     "data": {
      "text/plain": [
       "Timestamp('2011-09-19 00:00:00-0400', tz='US/Eastern')"
      ]
     },
     "execution_count": 29,
     "metadata": {},
     "output_type": "execute_result"
    }
   ],
   "source": [
    "timeStamp_utc.tz_convert('US/Eastern')"
   ]
  },
  {
   "cell_type": "markdown",
   "id": "afe20f97",
   "metadata": {
    "papermill": {
     "duration": 0.019262,
     "end_time": "2023-10-07T00:01:04.147910",
     "exception": false,
     "start_time": "2023-10-07T00:01:04.128648",
     "status": "completed"
    },
    "tags": []
   },
   "source": [
    "#### Daylight savings"
   ]
  },
  {
   "cell_type": "code",
   "execution_count": 30,
   "id": "2c07af1a",
   "metadata": {
    "execution": {
     "iopub.execute_input": "2023-10-07T00:01:04.187594Z",
     "iopub.status.busy": "2023-10-07T00:01:04.187253Z",
     "iopub.status.idle": "2023-10-07T00:01:04.194585Z",
     "shell.execute_reply": "2023-10-07T00:01:04.193474Z"
    },
    "papermill": {
     "duration": 0.029594,
     "end_time": "2023-10-07T00:01:04.196525",
     "exception": false,
     "start_time": "2023-10-07T00:01:04.166931",
     "status": "completed"
    },
    "tags": []
   },
   "outputs": [
    {
     "data": {
      "text/plain": [
       "Timestamp('2012-03-12 01:30:00-0400', tz='US/Eastern')"
      ]
     },
     "execution_count": 30,
     "metadata": {},
     "output_type": "execute_result"
    }
   ],
   "source": [
    "# 30 minutes before DST transition\n",
    "from pandas.tseries.offsets import Hour\n",
    "stamp = pd.Timestamp('2012-03-12 01:30', tz='US/Eastern')\n",
    "stamp"
   ]
  },
  {
   "cell_type": "code",
   "execution_count": 31,
   "id": "72a43757",
   "metadata": {
    "execution": {
     "iopub.execute_input": "2023-10-07T00:01:04.236422Z",
     "iopub.status.busy": "2023-10-07T00:01:04.236023Z",
     "iopub.status.idle": "2023-10-07T00:01:04.243237Z",
     "shell.execute_reply": "2023-10-07T00:01:04.242155Z"
    },
    "papermill": {
     "duration": 0.030079,
     "end_time": "2023-10-07T00:01:04.245758",
     "exception": false,
     "start_time": "2023-10-07T00:01:04.215679",
     "status": "completed"
    },
    "tags": []
   },
   "outputs": [
    {
     "data": {
      "text/plain": [
       "Timestamp('2012-03-12 02:30:00-0400', tz='US/Eastern')"
      ]
     },
     "execution_count": 31,
     "metadata": {},
     "output_type": "execute_result"
    }
   ],
   "source": [
    "stamp + Hour()\n"
   ]
  },
  {
   "cell_type": "code",
   "execution_count": 32,
   "id": "89f77398",
   "metadata": {
    "execution": {
     "iopub.execute_input": "2023-10-07T00:01:04.286012Z",
     "iopub.status.busy": "2023-10-07T00:01:04.285671Z",
     "iopub.status.idle": "2023-10-07T00:01:04.292740Z",
     "shell.execute_reply": "2023-10-07T00:01:04.291636Z"
    },
    "papermill": {
     "duration": 0.02988,
     "end_time": "2023-10-07T00:01:04.294927",
     "exception": false,
     "start_time": "2023-10-07T00:01:04.265047",
     "status": "completed"
    },
    "tags": []
   },
   "outputs": [
    {
     "data": {
      "text/plain": [
       "Timestamp('2012-11-04 00:30:00-0400', tz='US/Eastern')"
      ]
     },
     "execution_count": 32,
     "metadata": {},
     "output_type": "execute_result"
    }
   ],
   "source": [
    "# 90 minutes before DST transition\n",
    "stamp = pd.Timestamp('2012-11-04 00:30', tz='US/Eastern')\n",
    "stamp\n"
   ]
  },
  {
   "cell_type": "code",
   "execution_count": 33,
   "id": "879271f9",
   "metadata": {
    "execution": {
     "iopub.execute_input": "2023-10-07T00:01:04.335763Z",
     "iopub.status.busy": "2023-10-07T00:01:04.335429Z",
     "iopub.status.idle": "2023-10-07T00:01:04.342756Z",
     "shell.execute_reply": "2023-10-07T00:01:04.341448Z"
    },
    "papermill": {
     "duration": 0.030252,
     "end_time": "2023-10-07T00:01:04.345122",
     "exception": false,
     "start_time": "2023-10-07T00:01:04.314870",
     "status": "completed"
    },
    "tags": []
   },
   "outputs": [
    {
     "data": {
      "text/plain": [
       "Timestamp('2012-11-04 01:30:00-0500', tz='US/Eastern')"
      ]
     },
     "execution_count": 33,
     "metadata": {},
     "output_type": "execute_result"
    }
   ],
   "source": [
    "stamp + 2 * Hour()\n"
   ]
  },
  {
   "cell_type": "markdown",
   "id": "b1971ffd",
   "metadata": {
    "papermill": {
     "duration": 0.019055,
     "end_time": "2023-10-07T00:01:04.384666",
     "exception": false,
     "start_time": "2023-10-07T00:01:04.365611",
     "status": "completed"
    },
    "tags": []
   },
   "source": [
    "#### Combining different timezones"
   ]
  },
  {
   "cell_type": "code",
   "execution_count": 34,
   "id": "8222262f",
   "metadata": {
    "execution": {
     "iopub.execute_input": "2023-10-07T00:01:04.424923Z",
     "iopub.status.busy": "2023-10-07T00:01:04.424578Z",
     "iopub.status.idle": "2023-10-07T00:01:04.438128Z",
     "shell.execute_reply": "2023-10-07T00:01:04.437160Z"
    },
    "papermill": {
     "duration": 0.036138,
     "end_time": "2023-10-07T00:01:04.440268",
     "exception": false,
     "start_time": "2023-10-07T00:01:04.404130",
     "status": "completed"
    },
    "tags": []
   },
   "outputs": [
    {
     "data": {
      "text/plain": [
       "DatetimeIndex(['2017-09-19 01:30:00+00:00', '2017-09-20 01:30:00+00:00',\n",
       "               '2017-09-21 01:30:00+00:00', '2017-09-22 01:30:00+00:00',\n",
       "               '2017-09-25 01:30:00+00:00', '2017-09-26 01:30:00+00:00',\n",
       "               '2017-09-27 01:30:00+00:00'],\n",
       "              dtype='datetime64[ns, UTC]', freq=None)"
      ]
     },
     "execution_count": 34,
     "metadata": {},
     "output_type": "execute_result"
    }
   ],
   "source": [
    "dateRng = pd.date_range('9/19/2017 9:30', periods=10, freq='B')\n",
    "timeSeries =  pd.Series(np.random.randn(len(dateRng)), index=dateRng)\n",
    "tz1 = timeSeries[:7].tz_localize('Asia/Singapore')\n",
    "tz2 = tz1[2:].tz_convert('Asia/Seoul')\n",
    "combine = tz1 + tz2\n",
    "combine.index"
   ]
  },
  {
   "cell_type": "markdown",
   "id": "298b2e22",
   "metadata": {
    "papermill": {
     "duration": 0.019169,
     "end_time": "2023-10-07T00:01:04.479748",
     "exception": false,
     "start_time": "2023-10-07T00:01:04.460579",
     "status": "completed"
    },
    "tags": []
   },
   "source": [
    "## TimeSeries Plotting"
   ]
  },
  {
   "cell_type": "code",
   "execution_count": 35,
   "id": "6c78f255",
   "metadata": {
    "execution": {
     "iopub.execute_input": "2023-10-07T00:01:04.520275Z",
     "iopub.status.busy": "2023-10-07T00:01:04.519886Z",
     "iopub.status.idle": "2023-10-07T00:01:04.532208Z",
     "shell.execute_reply": "2023-10-07T00:01:04.531161Z"
    },
    "papermill": {
     "duration": 0.034974,
     "end_time": "2023-10-07T00:01:04.534358",
     "exception": false,
     "start_time": "2023-10-07T00:01:04.499384",
     "status": "completed"
    },
    "tags": []
   },
   "outputs": [
    {
     "data": {
      "text/plain": [
       "2017-01-01     5\n",
       "2017-02-01     9\n",
       "2017-03-01     7\n",
       "2017-04-01     6\n",
       "2017-05-01    13\n",
       "Freq: MS, dtype: int64"
      ]
     },
     "execution_count": 35,
     "metadata": {},
     "output_type": "execute_result"
    }
   ],
   "source": [
    "%matplotlib inline \n",
    "random.seed(10)\n",
    "sampleRng = pd.date_range(start='2017', periods=120, freq='MS')\n",
    "sampleTs = pd.Series(np.random.randint(-10, 10, size=len(sampleRng)), sampleRng).cumsum()\n",
    "sampleTs.head()"
   ]
  },
  {
   "cell_type": "markdown",
   "id": "9c4cc539",
   "metadata": {
    "papermill": {
     "duration": 0.019082,
     "end_time": "2023-10-07T00:01:04.572942",
     "exception": false,
     "start_time": "2023-10-07T00:01:04.553860",
     "status": "completed"
    },
    "tags": []
   },
   "source": [
    "#### Basic Plot"
   ]
  },
  {
   "cell_type": "code",
   "execution_count": 36,
   "id": "23dd9867",
   "metadata": {
    "execution": {
     "iopub.execute_input": "2023-10-07T00:01:04.613598Z",
     "iopub.status.busy": "2023-10-07T00:01:04.613059Z",
     "iopub.status.idle": "2023-10-07T00:01:05.046296Z",
     "shell.execute_reply": "2023-10-07T00:01:05.045125Z"
    },
    "papermill": {
     "duration": 0.455818,
     "end_time": "2023-10-07T00:01:05.048274",
     "exception": false,
     "start_time": "2023-10-07T00:01:04.592456",
     "status": "completed"
    },
    "tags": []
   },
   "outputs": [
    {
     "data": {
      "text/plain": [
       "<Axes: title={'center': 'Sample time series'}>"
      ]
     },
     "execution_count": 36,
     "metadata": {},
     "output_type": "execute_result"
    },
    {
     "data": {
      "image/png": "[encoded data removed]",
      "text/plain": [
       "<Figure size 640x480 with 1 Axes>"
      ]
     },
     "metadata": {},
     "output_type": "display_data"
    }
   ],
   "source": [
    "sampleTs.plot(c='r', title='Sample time series')"
   ]
  },
  {
   "cell_type": "markdown",
   "id": "04da0fa7",
   "metadata": {
    "papermill": {
     "duration": 0.020522,
     "end_time": "2023-10-07T00:01:05.088661",
     "exception": false,
     "start_time": "2023-10-07T00:01:05.068139",
     "status": "completed"
    },
    "tags": []
   },
   "source": [
    "#### Aggregation Plot"
   ]
  },
  {
   "cell_type": "code",
   "execution_count": 37,
   "id": "cc660cc4",
   "metadata": {
    "execution": {
     "iopub.execute_input": "2023-10-07T00:01:05.132165Z",
     "iopub.status.busy": "2023-10-07T00:01:05.131578Z",
     "iopub.status.idle": "2023-10-07T00:01:05.522741Z",
     "shell.execute_reply": "2023-10-07T00:01:05.521749Z"
    },
    "papermill": {
     "duration": 0.416282,
     "end_time": "2023-10-07T00:01:05.524988",
     "exception": false,
     "start_time": "2023-10-07T00:01:05.108706",
     "status": "completed"
    },
    "tags": []
   },
   "outputs": [
    {
     "data": {
      "text/plain": [
       "<Axes: title={'center': 'Sample time series'}>"
      ]
     },
     "execution_count": 37,
     "metadata": {},
     "output_type": "execute_result"
    },
    {
     "data": {
      "image/png": "[encoded data removed]",
      "text/plain": [
       "<Figure size 640x480 with 1 Axes>"
      ]
     },
     "metadata": {},
     "output_type": "display_data"
    }
   ],
   "source": [
    "sampleTs.plot(c='r', title='Sample time series')\n",
    "sampleTs.resample('2A').mean().plot(c='b', ls='--')"
   ]
  },
  {
   "cell_type": "code",
   "execution_count": 38,
   "id": "a7a97699",
   "metadata": {
    "execution": {
     "iopub.execute_input": "2023-10-07T00:01:05.568955Z",
     "iopub.status.busy": "2023-10-07T00:01:05.568611Z",
     "iopub.status.idle": "2023-10-07T00:01:05.985127Z",
     "shell.execute_reply": "2023-10-07T00:01:05.983894Z"
    },
    "papermill": {
     "duration": 0.441914,
     "end_time": "2023-10-07T00:01:05.987444",
     "exception": false,
     "start_time": "2023-10-07T00:01:05.545530",
     "status": "completed"
    },
    "tags": []
   },
   "outputs": [
    {
     "data": {
      "text/plain": [
       "<Axes: title={'center': 'Sample time series'}>"
      ]
     },
     "execution_count": 38,
     "metadata": {},
     "output_type": "execute_result"
    },
    {
     "data": {
      "image/png": "[encoded data removed]",
      "text/plain": [
       "<Figure size 640x480 with 1 Axes>"
      ]
     },
     "metadata": {},
     "output_type": "display_data"
    }
   ],
   "source": [
    "sampleTs.plot(c='r', title='Sample time series')\n",
    "sampleTs.resample('2A').mean().plot(c='b', ls='--')\n",
    "sampleTs.resample('5A').mean().plot(c='g', ls='-.')"
   ]
  },
  {
   "cell_type": "markdown",
   "id": "055e719d",
   "metadata": {
    "papermill": {
     "duration": 0.021438,
     "end_time": "2023-10-07T00:01:06.030743",
     "exception": false,
     "start_time": "2023-10-07T00:01:06.009305",
     "status": "completed"
    },
    "tags": []
   },
   "source": [
    "### Lag Plot\n",
    "The Lag Plot is a very important and useful visualization for Time Series Data.\n",
    "\n",
    "Time Series is a Univariate Data.\n",
    "\n",
    "In the lag plot, you plotted the actual data against the data with a time lag. This helps in determining how the current data is predicting the future data."
   ]
  },
  {
   "cell_type": "code",
   "execution_count": 39,
   "id": "3d03212b",
   "metadata": {
    "execution": {
     "iopub.execute_input": "2023-10-07T00:01:06.075517Z",
     "iopub.status.busy": "2023-10-07T00:01:06.075149Z",
     "iopub.status.idle": "2023-10-07T00:01:06.330929Z",
     "shell.execute_reply": "2023-10-07T00:01:06.330170Z"
    },
    "papermill": {
     "duration": 0.280681,
     "end_time": "2023-10-07T00:01:06.332865",
     "exception": false,
     "start_time": "2023-10-07T00:01:06.052184",
     "status": "completed"
    },
    "tags": []
   },
   "outputs": [
    {
     "data": {
      "text/plain": [
       "<Axes: xlabel='y(t)', ylabel='y(t + 1)'>"
      ]
     },
     "execution_count": 39,
     "metadata": {},
     "output_type": "execute_result"
    },
    {
     "data": {
      "image/png": "[encoded data removed]",
      "text/plain": [
       "<Figure size 640x480 with 1 Axes>"
      ]
     },
     "metadata": {},
     "output_type": "display_data"
    }
   ],
   "source": [
    "from pandas.plotting import lag_plot\n",
    "lag_plot(sampleTs)"
   ]
  },
  {
   "cell_type": "markdown",
   "id": "41e72898",
   "metadata": {
    "papermill": {
     "duration": 0.022336,
     "end_time": "2023-10-07T00:01:06.377265",
     "exception": false,
     "start_time": "2023-10-07T00:01:06.354929",
     "status": "completed"
    },
    "tags": []
   },
   "source": [
    "### Auto Correlation Plot\n",
    "In the lag plot, we have just seen how the data is scattered when plotted against one-time lag.\n",
    "\n",
    "- Autocorrelation plot goes one step further.\n",
    "\n",
    "- Auto Correlation refers to correlating the data with itself. Here we are correlating the data with a one-time lag.\n",
    "\n",
    "- The plot gives a more accurate picture of how the data point is correlated among themselves."
   ]
  },
  {
   "cell_type": "code",
   "execution_count": 40,
   "id": "a6b0ebca",
   "metadata": {
    "execution": {
     "iopub.execute_input": "2023-10-07T00:01:06.425468Z",
     "iopub.status.busy": "2023-10-07T00:01:06.424733Z",
     "iopub.status.idle": "2023-10-07T00:01:06.640154Z",
     "shell.execute_reply": "2023-10-07T00:01:06.638118Z"
    },
    "papermill": {
     "duration": 0.242339,
     "end_time": "2023-10-07T00:01:06.642770",
     "exception": false,
     "start_time": "2023-10-07T00:01:06.400431",
     "status": "completed"
    },
    "tags": []
   },
   "outputs": [
    {
     "data": {
      "text/plain": [
       "<Axes: xlabel='Lag', ylabel='Autocorrelation'>"
      ]
     },
     "execution_count": 40,
     "metadata": {},
     "output_type": "execute_result"
    },
    {
     "data": {
      "image/png": "[encoded data removed]",
      "text/plain": [
       "<Figure size 640x480 with 1 Axes>"
      ]
     },
     "metadata": {},
     "output_type": "display_data"
    }
   ],
   "source": [
    "from pandas.plotting import autocorrelation_plot\n",
    "autocorrelation_plot(sampleTs)"
   ]
  },
  {
   "cell_type": "markdown",
   "id": "6d38bb94",
   "metadata": {
    "papermill": {
     "duration": 0.031526,
     "end_time": "2023-10-07T00:01:06.698802",
     "exception": false,
     "start_time": "2023-10-07T00:01:06.667276",
     "status": "completed"
    },
    "tags": []
   },
   "source": [
    "## Stationarity\n",
    "Stationarity is a very significant property in Time Series Analysis. In Time series, data is collected at different time intervals. The data might behave in a deterministic or stochastic nature."
   ]
  },
  {
   "cell_type": "markdown",
   "id": "cc75ea45",
   "metadata": {
    "papermill": {
     "duration": 0.022914,
     "end_time": "2023-10-07T00:01:06.745805",
     "exception": false,
     "start_time": "2023-10-07T00:01:06.722891",
     "status": "completed"
    },
    "tags": []
   },
   "source": [
    "#### What is Stationarity?\n",
    "- In statistical terms, the mean, variance and the temporal correlation remain constant over time.\n",
    "\n",
    "- A simpler definition is that there are no seasonal or trend components in the time series."
   ]
  },
  {
   "cell_type": "markdown",
   "id": "94faabeb",
   "metadata": {
    "papermill": {
     "duration": 0.022819,
     "end_time": "2023-10-07T00:01:06.792339",
     "exception": false,
     "start_time": "2023-10-07T00:01:06.769520",
     "status": "completed"
    },
    "tags": []
   },
   "source": [
    "#### Augmented Dickey - Fuller test\n",
    "ADF test is the best way to determine if the time series data is stationary or not.\n",
    "\n",
    "This kind of test is known as Unit Root Test.\n",
    "\n",
    "The main objective of this test is that it identifies how the trend component determines the time series."
   ]
  },
  {
   "cell_type": "code",
   "execution_count": 41,
   "id": "5592b272",
   "metadata": {
    "execution": {
     "iopub.execute_input": "2023-10-07T00:01:06.839101Z",
     "iopub.status.busy": "2023-10-07T00:01:06.838736Z",
     "iopub.status.idle": "2023-10-07T00:01:08.432782Z",
     "shell.execute_reply": "2023-10-07T00:01:08.431017Z"
    },
    "papermill": {
     "duration": 1.620397,
     "end_time": "2023-10-07T00:01:08.435193",
     "exception": false,
     "start_time": "2023-10-07T00:01:06.814796",
     "status": "completed"
    },
    "tags": []
   },
   "outputs": [
    {
     "name": "stdout",
     "output_type": "stream",
     "text": [
      "ADF Statistic: -0.655988\n",
      "p-value: 0.857823\n",
      "\t1%: -3.487\n",
      "\t5%: -2.886\n",
      "\t10%: -2.580\n"
     ]
    }
   ],
   "source": [
    "from statsmodels.tsa.stattools import adfuller\n",
    "sampleRng = pd.date_range(start='2017', periods=120, freq='MS')\n",
    "sampleTs = pd.Series(np.random.randint(-10, 10, size=len(sampleRng)), sampleRng).cumsum()\n",
    "tsResult = adfuller(sampleTs)\n",
    "print('ADF Statistic: %f' % tsResult[0])\n",
    "print('p-value: %f' % tsResult[1])\n",
    "for key, value in tsResult[4].items():\n",
    "    print('\\t%s: %.3f' % (key, value))"
   ]
  },
  {
   "cell_type": "markdown",
   "id": "165310d9",
   "metadata": {
    "papermill": {
     "duration": 0.026694,
     "end_time": "2023-10-07T00:01:08.484447",
     "exception": false,
     "start_time": "2023-10-07T00:01:08.457753",
     "status": "completed"
    },
    "tags": []
   },
   "source": [
    "*he more negative the ADF statistic value is the more likely the data is stationary.*\n",
    "\n",
    "*The ADF Statistic should be compared to critical p-values that are at 1, 5, and 10%.*\n",
    "\n",
    "*If the ADF statistic value is less than the critical value at 5% and the p-value is less than 0.05, then we can reject the null hypothesis that the data is non-stationary with 95% confidence level.*"
   ]
  },
  {
   "cell_type": "markdown",
   "id": "cce98401",
   "metadata": {
    "papermill": {
     "duration": 0.028466,
     "end_time": "2023-10-07T00:01:08.541487",
     "exception": false,
     "start_time": "2023-10-07T00:01:08.513021",
     "status": "completed"
    },
    "tags": []
   },
   "source": [
    "## Case Study"
   ]
  },
  {
   "cell_type": "markdown",
   "id": "24e61df9",
   "metadata": {
    "papermill": {
     "duration": 0.038164,
     "end_time": "2023-10-07T00:01:08.605858",
     "exception": false,
     "start_time": "2023-10-07T00:01:08.567694",
     "status": "completed"
    },
    "tags": []
   },
   "source": [
    "#### The dataset we are using is dow jones index data for different stock values."
   ]
  },
  {
   "cell_type": "code",
   "execution_count": 42,
   "id": "bbbaf088",
   "metadata": {
    "execution": {
     "iopub.execute_input": "2023-10-07T00:01:08.654950Z",
     "iopub.status.busy": "2023-10-07T00:01:08.654558Z",
     "iopub.status.idle": "2023-10-07T00:01:10.586436Z",
     "shell.execute_reply": "2023-10-07T00:01:10.584920Z"
    },
    "papermill": {
     "duration": 1.958333,
     "end_time": "2023-10-07T00:01:10.588878",
     "exception": false,
     "start_time": "2023-10-07T00:01:08.630545",
     "status": "completed"
    },
    "tags": []
   },
   "outputs": [
    {
     "name": "stdout",
     "output_type": "stream",
     "text": [
      "curl: /opt/conda/lib/libcurl.so.4: no version information available (required by curl)\r\n",
      "  % Total    % Received % Xferd  Average Speed   Time    Time     Time  Current\r\n",
      "                                 Dload  Upload   Total   Spent    Left  Speed\r\n",
      "100 35074    0 35074    0     0  46493      0 --:--:-- --:--:-- --:--:-- 46455\r\n"
     ]
    }
   ],
   "source": [
    "!curl http://archive.ics.uci.edu/ml/machine-learning-databases/00312/dow_jones_index.zip > data.zip"
   ]
  },
  {
   "cell_type": "code",
   "execution_count": 43,
   "id": "345ca652",
   "metadata": {
    "execution": {
     "iopub.execute_input": "2023-10-07T00:01:10.636917Z",
     "iopub.status.busy": "2023-10-07T00:01:10.636484Z",
     "iopub.status.idle": "2023-10-07T00:01:11.768895Z",
     "shell.execute_reply": "2023-10-07T00:01:11.767612Z"
    },
    "papermill": {
     "duration": 1.159727,
     "end_time": "2023-10-07T00:01:11.771789",
     "exception": false,
     "start_time": "2023-10-07T00:01:10.612062",
     "status": "completed"
    },
    "tags": []
   },
   "outputs": [
    {
     "name": "stdout",
     "output_type": "stream",
     "text": [
      "Archive:  data.zip\r\n",
      "  inflating: dow_jones_index.data    \r\n",
      "  inflating: dow_jones_index.names   \r\n"
     ]
    }
   ],
   "source": [
    "!unzip data.zip "
   ]
  },
  {
   "cell_type": "code",
   "execution_count": 44,
   "id": "f2c4d9e8",
   "metadata": {
    "execution": {
     "iopub.execute_input": "2023-10-07T00:01:11.824403Z",
     "iopub.status.busy": "2023-10-07T00:01:11.823977Z",
     "iopub.status.idle": "2023-10-07T00:01:11.852502Z",
     "shell.execute_reply": "2023-10-07T00:01:11.851051Z"
    },
    "papermill": {
     "duration": 0.057576,
     "end_time": "2023-10-07T00:01:11.854950",
     "exception": false,
     "start_time": "2023-10-07T00:01:11.797374",
     "status": "completed"
    },
    "tags": []
   },
   "outputs": [],
   "source": [
    "dataFrame = pd.read_csv('/kaggle/working/dow_jones_index.data',parse_dates=[\"date\"], index_col=\"date\")"
   ]
  },
  {
   "cell_type": "markdown",
   "id": "0ef23f07",
   "metadata": {
    "papermill": {
     "duration": 0.022539,
     "end_time": "2023-10-07T00:01:11.902220",
     "exception": false,
     "start_time": "2023-10-07T00:01:11.879681",
     "status": "completed"
    },
    "tags": []
   },
   "source": [
    "#### Scenario 1: Performing stationary test on WMT opening Stock prices. "
   ]
  },
  {
   "cell_type": "code",
   "execution_count": 45,
   "id": "e6f2a458",
   "metadata": {
    "execution": {
     "iopub.execute_input": "2023-10-07T00:01:11.950975Z",
     "iopub.status.busy": "2023-10-07T00:01:11.949930Z",
     "iopub.status.idle": "2023-10-07T00:01:11.957095Z",
     "shell.execute_reply": "2023-10-07T00:01:11.956138Z"
    },
    "papermill": {
     "duration": 0.033572,
     "end_time": "2023-10-07T00:01:11.959160",
     "exception": false,
     "start_time": "2023-10-07T00:01:11.925588",
     "status": "completed"
    },
    "tags": []
   },
   "outputs": [],
   "source": [
    "open_WMT_Ts = dataFrame[(dataFrame.stock == 'WMT')].open.str.replace('$',' ').astype(float)\n"
   ]
  },
  {
   "cell_type": "code",
   "execution_count": 46,
   "id": "480b6ce3",
   "metadata": {
    "execution": {
     "iopub.execute_input": "2023-10-07T00:01:12.006894Z",
     "iopub.status.busy": "2023-10-07T00:01:12.006523Z",
     "iopub.status.idle": "2023-10-07T00:01:12.014421Z",
     "shell.execute_reply": "2023-10-07T00:01:12.013524Z"
    },
    "papermill": {
     "duration": 0.034105,
     "end_time": "2023-10-07T00:01:12.016197",
     "exception": false,
     "start_time": "2023-10-07T00:01:11.982092",
     "status": "completed"
    },
    "tags": []
   },
   "outputs": [
    {
     "data": {
      "text/plain": [
       "date\n",
       "2011-01-07    54.23\n",
       "2011-01-14    53.65\n",
       "2011-01-21    55.11\n",
       "2011-01-28    55.39\n",
       "2011-02-04    56.45\n",
       "Name: open, dtype: float64"
      ]
     },
     "execution_count": 46,
     "metadata": {},
     "output_type": "execute_result"
    }
   ],
   "source": [
    "open_WMT_Ts.head()"
   ]
  },
  {
   "cell_type": "code",
   "execution_count": 47,
   "id": "369306de",
   "metadata": {
    "execution": {
     "iopub.execute_input": "2023-10-07T00:01:12.068150Z",
     "iopub.status.busy": "2023-10-07T00:01:12.067448Z",
     "iopub.status.idle": "2023-10-07T00:01:12.080173Z",
     "shell.execute_reply": "2023-10-07T00:01:12.078561Z"
    },
    "papermill": {
     "duration": 0.042619,
     "end_time": "2023-10-07T00:01:12.082412",
     "exception": false,
     "start_time": "2023-10-07T00:01:12.039793",
     "status": "completed"
    },
    "tags": []
   },
   "outputs": [
    {
     "name": "stdout",
     "output_type": "stream",
     "text": [
      "ADF Statistic: -3.892828\n",
      "p-value: 0.002088\n",
      "\t1%: -3.924\n",
      "\t5%: -3.068\n",
      "\t10%: -2.674\n"
     ]
    }
   ],
   "source": [
    "tsResult1 = adfuller(open_WMT_Ts)\n",
    "print('ADF Statistic: %f' % tsResult1[0])\n",
    "print('p-value: %f' % tsResult1[1])\n",
    "for key, value in tsResult1[4].items():\n",
    "    print('\\t%s: %.3f' % (key, value))"
   ]
  },
  {
   "cell_type": "markdown",
   "id": "ec4edf12",
   "metadata": {
    "papermill": {
     "duration": 0.025548,
     "end_time": "2023-10-07T00:01:12.132054",
     "exception": false,
     "start_time": "2023-10-07T00:01:12.106506",
     "status": "completed"
    },
    "tags": []
   },
   "source": [
    "**As ADF Statistic is negative and p-value is less than 0.05, the times series is not-stationary.**"
   ]
  },
  {
   "cell_type": "markdown",
   "id": "5363e29f",
   "metadata": {
    "papermill": {
     "duration": 0.023604,
     "end_time": "2023-10-07T00:01:12.179361",
     "exception": false,
     "start_time": "2023-10-07T00:01:12.155757",
     "status": "completed"
    },
    "tags": []
   },
   "source": [
    "#### Scenario 2: Performing stationary test on XOM closing Stock prices. "
   ]
  },
  {
   "cell_type": "code",
   "execution_count": 48,
   "id": "9d79c445",
   "metadata": {
    "execution": {
     "iopub.execute_input": "2023-10-07T00:01:12.227904Z",
     "iopub.status.busy": "2023-10-07T00:01:12.227217Z",
     "iopub.status.idle": "2023-10-07T00:01:12.233504Z",
     "shell.execute_reply": "2023-10-07T00:01:12.232460Z"
    },
    "papermill": {
     "duration": 0.033183,
     "end_time": "2023-10-07T00:01:12.235749",
     "exception": false,
     "start_time": "2023-10-07T00:01:12.202566",
     "status": "completed"
    },
    "tags": []
   },
   "outputs": [],
   "source": [
    "close_XOM_Ts = dataFrame[(dataFrame.stock == 'XOM')].close.str.replace('$',' ').astype(float)"
   ]
  },
  {
   "cell_type": "code",
   "execution_count": 49,
   "id": "021c9213",
   "metadata": {
    "execution": {
     "iopub.execute_input": "2023-10-07T00:01:12.284705Z",
     "iopub.status.busy": "2023-10-07T00:01:12.284351Z",
     "iopub.status.idle": "2023-10-07T00:01:12.297916Z",
     "shell.execute_reply": "2023-10-07T00:01:12.296140Z"
    },
    "papermill": {
     "duration": 0.040349,
     "end_time": "2023-10-07T00:01:12.300199",
     "exception": false,
     "start_time": "2023-10-07T00:01:12.259850",
     "status": "completed"
    },
    "tags": []
   },
   "outputs": [
    {
     "name": "stdout",
     "output_type": "stream",
     "text": [
      "ADF Statistic: 0.913251\n",
      "p-value: 0.993261\n",
      "\t1%: -3.964\n",
      "\t5%: -3.085\n",
      "\t10%: -2.682\n"
     ]
    }
   ],
   "source": [
    "tsResult2 = adfuller(close_XOM_Ts)\n",
    "print('ADF Statistic: %f' % tsResult2[0])\n",
    "print('p-value: %f' % tsResult2[1])\n",
    "for key, value in tsResult2[4].items():\n",
    "    print('\\t%s: %.3f' % (key, value))"
   ]
  },
  {
   "cell_type": "markdown",
   "id": "d8d400ac",
   "metadata": {
    "papermill": {
     "duration": 0.02326,
     "end_time": "2023-10-07T00:01:12.347550",
     "exception": false,
     "start_time": "2023-10-07T00:01:12.324290",
     "status": "completed"
    },
    "tags": []
   },
   "source": [
    "**As ADF Statistic is positive and p-value is more than 0.05, the times series is not-stationary.**"
   ]
  },
  {
   "cell_type": "markdown",
   "id": "04b79b57",
   "metadata": {
    "papermill": {
     "duration": 0.022851,
     "end_time": "2023-10-07T00:01:12.393798",
     "exception": false,
     "start_time": "2023-10-07T00:01:12.370947",
     "status": "completed"
    },
    "tags": []
   },
   "source": [
    "# Components of Time Series Data\n",
    "\n",
    "Time Series data is not just what it is.\n",
    "There are several components underlying it. They are\n",
    "\n",
    "- Trend\n",
    "- Seasonal\n",
    "- Cycle\n",
    "- Random"
   ]
  },
  {
   "cell_type": "markdown",
   "id": "cb9b8def",
   "metadata": {
    "papermill": {
     "duration": 0.022798,
     "end_time": "2023-10-07T00:01:12.440399",
     "exception": false,
     "start_time": "2023-10-07T00:01:12.417601",
     "status": "completed"
    },
    "tags": []
   },
   "source": [
    "### Steps in Time Series Analysis\n",
    "Few steps to be followed while performing time series analysis:\n",
    "\n",
    "1. Check for Stationarity.\n",
    "1. Decompose the model into its various components.\n",
    "1. Analyse the components.\n",
    "1. Fit the time series forecasting model and predict future values."
   ]
  },
  {
   "cell_type": "markdown",
   "id": "39e5101d",
   "metadata": {
    "papermill": {
     "duration": 0.022879,
     "end_time": "2023-10-07T00:01:12.486473",
     "exception": false,
     "start_time": "2023-10-07T00:01:12.463594",
     "status": "completed"
    },
    "tags": []
   },
   "source": [
    "#### Seasonal Decomposition"
   ]
  },
  {
   "cell_type": "code",
   "execution_count": 50,
   "id": "a594fae9",
   "metadata": {
    "execution": {
     "iopub.execute_input": "2023-10-07T00:01:12.537253Z",
     "iopub.status.busy": "2023-10-07T00:01:12.536518Z",
     "iopub.status.idle": "2023-10-07T00:01:12.582140Z",
     "shell.execute_reply": "2023-10-07T00:01:12.581101Z"
    },
    "papermill": {
     "duration": 0.074357,
     "end_time": "2023-10-07T00:01:12.584792",
     "exception": false,
     "start_time": "2023-10-07T00:01:12.510435",
     "status": "completed"
    },
    "tags": []
   },
   "outputs": [],
   "source": [
    "\n",
    "from statsmodels.tsa.seasonal import seasonal_decompose\n",
    "sampleTs_decomp = seasonal_decompose(sampleTs) \n",
    "sampleTs_trend = sampleTs_decomp.trend \n",
    "sampleTs_seasonal = sampleTs_decomp.seasonal \n",
    "sampleTs_residual = sampleTs_decomp.resid"
   ]
  },
  {
   "cell_type": "markdown",
   "id": "deafa395",
   "metadata": {
    "papermill": {
     "duration": 0.022723,
     "end_time": "2023-10-07T00:01:12.630770",
     "exception": false,
     "start_time": "2023-10-07T00:01:12.608047",
     "status": "completed"
    },
    "tags": []
   },
   "source": [
    "#### Actual Time Series"
   ]
  },
  {
   "cell_type": "code",
   "execution_count": 51,
   "id": "289ac81d",
   "metadata": {
    "execution": {
     "iopub.execute_input": "2023-10-07T00:01:12.679386Z",
     "iopub.status.busy": "2023-10-07T00:01:12.678999Z",
     "iopub.status.idle": "2023-10-07T00:01:13.030825Z",
     "shell.execute_reply": "2023-10-07T00:01:13.029660Z"
    },
    "papermill": {
     "duration": 0.379063,
     "end_time": "2023-10-07T00:01:13.032995",
     "exception": false,
     "start_time": "2023-10-07T00:01:12.653932",
     "status": "completed"
    },
    "tags": []
   },
   "outputs": [
    {
     "data": {
      "text/plain": [
       "<Axes: >"
      ]
     },
     "execution_count": 51,
     "metadata": {},
     "output_type": "execute_result"
    },
    {
     "data": {
      "image/png": "[encoded data removed]",
      "text/plain": [
       "<Figure size 640x480 with 1 Axes>"
      ]
     },
     "metadata": {},
     "output_type": "display_data"
    }
   ],
   "source": [
    "sampleTs.plot()"
   ]
  },
  {
   "cell_type": "markdown",
   "id": "9af5191c",
   "metadata": {
    "papermill": {
     "duration": 0.024455,
     "end_time": "2023-10-07T00:01:13.082112",
     "exception": false,
     "start_time": "2023-10-07T00:01:13.057657",
     "status": "completed"
    },
    "tags": []
   },
   "source": [
    "#### Visualizing the Decomposition - Trends"
   ]
  },
  {
   "cell_type": "code",
   "execution_count": 52,
   "id": "341c382e",
   "metadata": {
    "execution": {
     "iopub.execute_input": "2023-10-07T00:01:13.131948Z",
     "iopub.status.busy": "2023-10-07T00:01:13.131582Z",
     "iopub.status.idle": "2023-10-07T00:01:13.475457Z",
     "shell.execute_reply": "2023-10-07T00:01:13.474367Z"
    },
    "papermill": {
     "duration": 0.371483,
     "end_time": "2023-10-07T00:01:13.477619",
     "exception": false,
     "start_time": "2023-10-07T00:01:13.106136",
     "status": "completed"
    },
    "tags": []
   },
   "outputs": [
    {
     "data": {
      "text/plain": [
       "<Axes: >"
      ]
     },
     "execution_count": 52,
     "metadata": {},
     "output_type": "execute_result"
    },
    {
     "data": {
      "image/png": "[encoded data removed]",
      "text/plain": [
       "<Figure size 640x480 with 1 Axes>"
      ]
     },
     "metadata": {},
     "output_type": "display_data"
    }
   ],
   "source": [
    "sampleTs_trend.plot()"
   ]
  },
  {
   "cell_type": "markdown",
   "id": "8a88cfd7",
   "metadata": {
    "papermill": {
     "duration": 0.023943,
     "end_time": "2023-10-07T00:01:13.525605",
     "exception": false,
     "start_time": "2023-10-07T00:01:13.501662",
     "status": "completed"
    },
    "tags": []
   },
   "source": [
    "#### Visualizing the Decomposition - Seasons"
   ]
  },
  {
   "cell_type": "code",
   "execution_count": 53,
   "id": "216e2237",
   "metadata": {
    "execution": {
     "iopub.execute_input": "2023-10-07T00:01:13.576693Z",
     "iopub.status.busy": "2023-10-07T00:01:13.575699Z",
     "iopub.status.idle": "2023-10-07T00:01:13.933249Z",
     "shell.execute_reply": "2023-10-07T00:01:13.932144Z"
    },
    "papermill": {
     "duration": 0.385745,
     "end_time": "2023-10-07T00:01:13.935424",
     "exception": false,
     "start_time": "2023-10-07T00:01:13.549679",
     "status": "completed"
    },
    "tags": []
   },
   "outputs": [
    {
     "data": {
      "text/plain": [
       "<Axes: >"
      ]
     },
     "execution_count": 53,
     "metadata": {},
     "output_type": "execute_result"
    },
    {
     "data": {
      "image/png": "[encoded data removed]",
      "text/plain": [
       "<Figure size 640x480 with 1 Axes>"
      ]
     },
     "metadata": {},
     "output_type": "display_data"
    }
   ],
   "source": [
    "sampleTs_seasonal.plot()"
   ]
  },
  {
   "cell_type": "markdown",
   "id": "c500c99a",
   "metadata": {
    "papermill": {
     "duration": 0.025643,
     "end_time": "2023-10-07T00:01:13.986773",
     "exception": false,
     "start_time": "2023-10-07T00:01:13.961130",
     "status": "completed"
    },
    "tags": []
   },
   "source": [
    "#### Visualizing the Decomposition - Random Component"
   ]
  },
  {
   "cell_type": "code",
   "execution_count": 54,
   "id": "eb3a7582",
   "metadata": {
    "execution": {
     "iopub.execute_input": "2023-10-07T00:01:14.042500Z",
     "iopub.status.busy": "2023-10-07T00:01:14.042148Z",
     "iopub.status.idle": "2023-10-07T00:01:14.394430Z",
     "shell.execute_reply": "2023-10-07T00:01:14.393525Z"
    },
    "papermill": {
     "duration": 0.382452,
     "end_time": "2023-10-07T00:01:14.396412",
     "exception": false,
     "start_time": "2023-10-07T00:01:14.013960",
     "status": "completed"
    },
    "tags": []
   },
   "outputs": [
    {
     "data": {
      "text/plain": [
       "<Axes: >"
      ]
     },
     "execution_count": 54,
     "metadata": {},
     "output_type": "execute_result"
    },
    {
     "data": {
      "image/png": "[encoded data removed]",
      "text/plain": [
       "<Figure size 640x480 with 1 Axes>"
      ]
     },
     "metadata": {},
     "output_type": "display_data"
    }
   ],
   "source": [
    "sampleTs_residual.plot()"
   ]
  },
  {
   "cell_type": "markdown",
   "id": "4711b8bc",
   "metadata": {
    "papermill": {
     "duration": 0.026156,
     "end_time": "2023-10-07T00:01:14.449159",
     "exception": false,
     "start_time": "2023-10-07T00:01:14.423003",
     "status": "completed"
    },
    "tags": []
   },
   "source": [
    "## Modelling Time Series"
   ]
  },
  {
   "cell_type": "markdown",
   "id": "cc9c4a49",
   "metadata": {
    "papermill": {
     "duration": 0.026525,
     "end_time": "2023-10-07T00:01:14.502018",
     "exception": false,
     "start_time": "2023-10-07T00:01:14.475493",
     "status": "completed"
    },
    "tags": []
   },
   "source": [
    "### Autoregression\n",
    "\n",
    "- In Autoregression, you use the current value of the variable to predict its future values.\n",
    "- Here, the current and past time stamp values of the time series are used to predict the future values."
   ]
  },
  {
   "cell_type": "code",
   "execution_count": 55,
   "id": "391b7cdd",
   "metadata": {
    "execution": {
     "iopub.execute_input": "2023-10-07T00:01:14.559340Z",
     "iopub.status.busy": "2023-10-07T00:01:14.558567Z",
     "iopub.status.idle": "2023-10-07T00:01:14.918261Z",
     "shell.execute_reply": "2023-10-07T00:01:14.917147Z"
    },
    "papermill": {
     "duration": 0.390641,
     "end_time": "2023-10-07T00:01:14.920478",
     "exception": false,
     "start_time": "2023-10-07T00:01:14.529837",
     "status": "completed"
    },
    "tags": []
   },
   "outputs": [
    {
     "data": {
      "text/plain": [
       "ar.L1      0.007124\n",
       "sigma2    31.754518\n",
       "dtype: float64"
      ]
     },
     "execution_count": 55,
     "metadata": {},
     "output_type": "execute_result"
    }
   ],
   "source": [
    "from statsmodels.tsa.arima.model import ARIMA \n",
    "model = ARIMA(sampleTs, order=(1, 1, 0)) \n",
    "predValues = model.fit()\n",
    "predValues.params"
   ]
  },
  {
   "cell_type": "markdown",
   "id": "036d2d02",
   "metadata": {
    "papermill": {
     "duration": 0.027021,
     "end_time": "2023-10-07T00:01:14.974490",
     "exception": false,
     "start_time": "2023-10-07T00:01:14.947469",
     "status": "completed"
    },
    "tags": []
   },
   "source": [
    "#### Moving average\n",
    "- Moving average is another way to predict the time series data.\n",
    "- Here the dependent variable is expressed as a function of the previous values along with an average component.\n",
    "- Average component keeps moving along the time series.\n",
    "\n"
   ]
  },
  {
   "cell_type": "code",
   "execution_count": 56,
   "id": "c73d3c9c",
   "metadata": {
    "execution": {
     "iopub.execute_input": "2023-10-07T00:01:15.030968Z",
     "iopub.status.busy": "2023-10-07T00:01:15.030630Z",
     "iopub.status.idle": "2023-10-07T00:01:15.102619Z",
     "shell.execute_reply": "2023-10-07T00:01:15.101169Z"
    },
    "papermill": {
     "duration": 0.106529,
     "end_time": "2023-10-07T00:01:15.107517",
     "exception": false,
     "start_time": "2023-10-07T00:01:15.000988",
     "status": "completed"
    },
    "tags": []
   },
   "outputs": [
    {
     "data": {
      "text/plain": [
       "ma.L1      0.009644\n",
       "sigma2    31.754163\n",
       "dtype: float64"
      ]
     },
     "execution_count": 56,
     "metadata": {},
     "output_type": "execute_result"
    }
   ],
   "source": [
    "model = ARIMA(sampleTs, order=(0, 1, 1)) \n",
    "movingAvgRes = model.fit() \n",
    "movingAvgRes.params"
   ]
  },
  {
   "cell_type": "markdown",
   "id": "9c4da6df",
   "metadata": {
    "papermill": {
     "duration": 0.026307,
     "end_time": "2023-10-07T00:01:15.196726",
     "exception": false,
     "start_time": "2023-10-07T00:01:15.170419",
     "status": "completed"
    },
    "tags": []
   },
   "source": [
    "#### Selecting p and q\n",
    "- The **p** and **q** parameters of the Autoregressive and Moving Average models. These parameters have to be selected by how they fit the historical data.\n",
    "- The AIC(Akaike Information Criterion) or BIC(Bayesian Information Criterion) have to be validated among the results and the model which has the lowest value should be chosen."
   ]
  },
  {
   "cell_type": "markdown",
   "id": "4976ef71",
   "metadata": {
    "papermill": {
     "duration": 0.026307,
     "end_time": "2023-10-07T00:01:15.249563",
     "exception": false,
     "start_time": "2023-10-07T00:01:15.223256",
     "status": "completed"
    },
    "tags": []
   },
   "source": [
    "### ARIMA\n",
    "- ARIMA is the combination of Autoregressive and Moving Average.\n",
    "- ARIMA stands for Autoregressive Integrated Moving Average.\n",
    "- It is another model used for forecasting in Time Series Analysis."
   ]
  },
  {
   "cell_type": "code",
   "execution_count": 57,
   "id": "de8bf4d3",
   "metadata": {
    "execution": {
     "iopub.execute_input": "2023-10-07T00:01:15.303855Z",
     "iopub.status.busy": "2023-10-07T00:01:15.303483Z",
     "iopub.status.idle": "2023-10-07T00:01:15.396728Z",
     "shell.execute_reply": "2023-10-07T00:01:15.395473Z"
    },
    "papermill": {
     "duration": 0.123497,
     "end_time": "2023-10-07T00:01:15.399321",
     "exception": false,
     "start_time": "2023-10-07T00:01:15.275824",
     "status": "completed"
    },
    "tags": []
   },
   "outputs": [],
   "source": [
    "model = ARIMA(sampleTs, order=(1, 0, 1)) \n",
    "arimares = model.fit() "
   ]
  },
  {
   "cell_type": "markdown",
   "id": "0e5de6bd",
   "metadata": {
    "papermill": {
     "duration": 0.029093,
     "end_time": "2023-10-07T00:01:15.454776",
     "exception": false,
     "start_time": "2023-10-07T00:01:15.425683",
     "status": "completed"
    },
    "tags": []
   },
   "source": [
    "## Auto Correlation Function\n",
    "Auto Correlation is a very important step in Time Series Model Building"
   ]
  },
  {
   "cell_type": "markdown",
   "id": "45a728ae",
   "metadata": {
    "papermill": {
     "duration": 0.025685,
     "end_time": "2023-10-07T00:01:15.506692",
     "exception": false,
     "start_time": "2023-10-07T00:01:15.481007",
     "status": "completed"
    },
    "tags": []
   },
   "source": [
    "- *The ACF plot is a very useful graph while performing Time Series Modeling*\n",
    "- *It tell the correlation value for each lag*\n",
    "- *An ideal ACF plot will decay exponentially*\n",
    "- *Depending on the ACF plot value , you can decide to stop at any given lag*"
   ]
  },
  {
   "cell_type": "code",
   "execution_count": 58,
   "id": "35b37689",
   "metadata": {
    "execution": {
     "iopub.execute_input": "2023-10-07T00:01:15.562722Z",
     "iopub.status.busy": "2023-10-07T00:01:15.561638Z",
     "iopub.status.idle": "2023-10-07T00:01:52.480095Z",
     "shell.execute_reply": "2023-10-07T00:01:52.478506Z"
    },
    "papermill": {
     "duration": 36.949902,
     "end_time": "2023-10-07T00:01:52.482930",
     "exception": false,
     "start_time": "2023-10-07T00:01:15.533028",
     "status": "completed"
    },
    "tags": []
   },
   "outputs": [
    {
     "name": "stdout",
     "output_type": "stream",
     "text": [
      "Collecting yfinance\r\n",
      "  Downloading yfinance-0.2.31-py2.py3-none-any.whl (65 kB)\r\n",
      "\u001b[2K     \u001b[90m━━━━━━━━━━━━━━━━━━━━━━━━━━━━━━━━━━━━━━━━\u001b[0m \u001b[32m65.6/65.6 kB\u001b[0m \u001b[31m3.1 MB/s\u001b[0m eta \u001b[36m0:00:00\u001b[0m\r\n",
      "\u001b[?25hRequirement already satisfied: pandas>=1.3.0 in /opt/conda/lib/python3.10/site-packages (from yfinance) (2.0.3)\r\n",
      "Requirement already satisfied: numpy>=1.16.5 in /opt/conda/lib/python3.10/site-packages (from yfinance) (1.23.5)\r\n",
      "Requirement already satisfied: requests>=2.31 in /opt/conda/lib/python3.10/site-packages (from yfinance) (2.31.0)\r\n",
      "Collecting multitasking>=0.0.7 (from yfinance)\r\n",
      "  Downloading multitasking-0.0.11-py3-none-any.whl (8.5 kB)\r\n",
      "Requirement already satisfied: lxml>=4.9.1 in /opt/conda/lib/python3.10/site-packages (from yfinance) (4.9.3)\r\n",
      "Requirement already satisfied: appdirs>=1.4.4 in /opt/conda/lib/python3.10/site-packages (from yfinance) (1.4.4)\r\n",
      "Requirement already satisfied: pytz>=2022.5 in /opt/conda/lib/python3.10/site-packages (from yfinance) (2023.3)\r\n",
      "Requirement already satisfied: frozendict>=2.3.4 in /opt/conda/lib/python3.10/site-packages (from yfinance) (2.3.8)\r\n",
      "Collecting peewee>=3.16.2 (from yfinance)\r\n",
      "  Downloading peewee-3.16.3.tar.gz (928 kB)\r\n",
      "\u001b[2K     \u001b[90m━━━━━━━━━━━━━━━━━━━━━━━━━━━━━━━━━━━━━━\u001b[0m \u001b[32m928.0/928.0 kB\u001b[0m \u001b[31m31.1 MB/s\u001b[0m eta \u001b[36m0:00:00\u001b[0m\r\n",
      "\u001b[?25h  Installing build dependencies ... \u001b[?25l-\b \b\\\b \b|\b \b/\b \bdone\r\n",
      "\u001b[?25h  Getting requirements to build wheel ... \u001b[?25l-\b \bdone\r\n",
      "\u001b[?25h  Preparing metadata (pyproject.toml) ... \u001b[?25l-\b \bdone\r\n",
      "\u001b[?25hRequirement already satisfied: beautifulsoup4>=4.11.1 in /opt/conda/lib/python3.10/site-packages (from yfinance) (4.12.2)\r\n",
      "Requirement already satisfied: html5lib>=1.1 in /opt/conda/lib/python3.10/site-packages (from yfinance) (1.1)\r\n",
      "Requirement already satisfied: soupsieve>1.2 in /opt/conda/lib/python3.10/site-packages (from beautifulsoup4>=4.11.1->yfinance) (2.3.2.post1)\r\n",
      "Requirement already satisfied: six>=1.9 in /opt/conda/lib/python3.10/site-packages (from html5lib>=1.1->yfinance) (1.16.0)\r\n",
      "Requirement already satisfied: webencodings in /opt/conda/lib/python3.10/site-packages (from html5lib>=1.1->yfinance) (0.5.1)\r\n",
      "Requirement already satisfied: python-dateutil>=2.8.2 in /opt/conda/lib/python3.10/site-packages (from pandas>=1.3.0->yfinance) (2.8.2)\r\n",
      "Requirement already satisfied: tzdata>=2022.1 in /opt/conda/lib/python3.10/site-packages (from pandas>=1.3.0->yfinance) (2023.3)\r\n",
      "Requirement already satisfied: charset-normalizer<4,>=2 in /opt/conda/lib/python3.10/site-packages (from requests>=2.31->yfinance) (3.1.0)\r\n",
      "Requirement already satisfied: idna<4,>=2.5 in /opt/conda/lib/python3.10/site-packages (from requests>=2.31->yfinance) (3.4)\r\n",
      "Requirement already satisfied: urllib3<3,>=1.21.1 in /opt/conda/lib/python3.10/site-packages (from requests>=2.31->yfinance) (1.26.15)\r\n",
      "Requirement already satisfied: certifi>=2017.4.17 in /opt/conda/lib/python3.10/site-packages (from requests>=2.31->yfinance) (2023.7.22)\r\n",
      "Building wheels for collected packages: peewee\r\n",
      "  Building wheel for peewee (pyproject.toml) ... \u001b[?25l-\b \b\\\b \b|\b \b/\b \bdone\r\n",
      "\u001b[?25h  Created wheel for peewee: filename=peewee-3.16.3-cp310-cp310-linux_x86_64.whl size=314460 sha256=7eb4000d675a140a53c01aa2e5085ae97f11b45c11ab8540f364274a13fa0c68\r\n",
      "  Stored in directory: /root/.cache/pip/wheels/c8/ac/6d/ad6d828725ffbe3abc508c95d25dd0c5fcc63539ae47913790\r\n",
      "Successfully built peewee\r\n",
      "Installing collected packages: peewee, multitasking, yfinance\r\n",
      "Successfully installed multitasking-0.0.11 peewee-3.16.3 yfinance-0.2.31\r\n"
     ]
    }
   ],
   "source": [
    "! pip install yfinance"
   ]
  },
  {
   "cell_type": "code",
   "execution_count": 59,
   "id": "8ea2ad3d",
   "metadata": {
    "execution": {
     "iopub.execute_input": "2023-10-07T00:01:52.543223Z",
     "iopub.status.busy": "2023-10-07T00:01:52.542808Z",
     "iopub.status.idle": "2023-10-07T00:01:53.108943Z",
     "shell.execute_reply": "2023-10-07T00:01:53.107673Z"
    },
    "papermill": {
     "duration": 0.600114,
     "end_time": "2023-10-07T00:01:53.111460",
     "exception": false,
     "start_time": "2023-10-07T00:01:52.511346",
     "status": "completed"
    },
    "tags": []
   },
   "outputs": [
    {
     "name": "stdout",
     "output_type": "stream",
     "text": [
      "[*********************100%%**********************]  1 of 1 completed\n",
      "                  Open        High         Low       Close   Adj Close  \\\n",
      "Date                                                                     \n",
      "2021-01-04  133.520004  133.610001  126.760002  129.410004  127.331673   \n",
      "2021-01-05  128.889999  131.740005  128.429993  131.009995  128.905991   \n",
      "2021-01-06  127.720001  131.050003  126.379997  126.599998  124.566811   \n",
      "2021-01-07  128.360001  131.630005  127.860001  130.919998  128.817444   \n",
      "2021-01-08  132.429993  132.630005  130.229996  132.050003  129.929291   \n",
      "\n",
      "               Volume  \n",
      "Date                   \n",
      "2021-01-04  143301900  \n",
      "2021-01-05   97664900  \n",
      "2021-01-06  155088000  \n",
      "2021-01-07  109578200  \n",
      "2021-01-08  105158200  \n"
     ]
    }
   ],
   "source": [
    "import yfinance as yf\n",
    "\n",
    "appleData = yf.download('AAPL', start='2021-01-01', end='2022-01-01')\n",
    "print(appleData.head())"
   ]
  },
  {
   "cell_type": "markdown",
   "id": "66ceafd8",
   "metadata": {
    "papermill": {
     "duration": 0.0294,
     "end_time": "2023-10-07T00:01:53.169714",
     "exception": false,
     "start_time": "2023-10-07T00:01:53.140314",
     "status": "completed"
    },
    "tags": []
   },
   "source": [
    "The above data set has the stock prices of APPLE Inc. It is a Series of Open, High, Low , Close, Adj stock prices for a given data.\n",
    "Plotting the ACF Values for various lags\n"
   ]
  },
  {
   "cell_type": "code",
   "execution_count": 60,
   "id": "cfd95048",
   "metadata": {
    "execution": {
     "iopub.execute_input": "2023-10-07T00:01:53.230637Z",
     "iopub.status.busy": "2023-10-07T00:01:53.229551Z",
     "iopub.status.idle": "2023-10-07T00:01:54.657453Z",
     "shell.execute_reply": "2023-10-07T00:01:54.656190Z"
    },
    "papermill": {
     "duration": 1.461397,
     "end_time": "2023-10-07T00:01:54.659782",
     "exception": false,
     "start_time": "2023-10-07T00:01:53.198385",
     "status": "completed"
    },
    "tags": []
   },
   "outputs": [
    {
     "name": "stdout",
     "output_type": "stream",
     "text": [
      "[ 1.00000000e+00  9.74918713e-01  9.50034277e-01  9.23836061e-01\n",
      "  8.99715541e-01  8.74602017e-01  8.52932021e-01  8.30571052e-01\n",
      "  8.10207278e-01  7.91617878e-01  7.72337509e-01  7.50718711e-01\n",
      "  7.22762022e-01  6.96946481e-01  6.72888593e-01  6.46661078e-01\n",
      "  6.22574888e-01  5.94550211e-01  5.70470907e-01  5.49834789e-01\n",
      "  5.32671835e-01  5.17405439e-01  5.02574756e-01  4.86046668e-01\n",
      "  4.72552656e-01  4.60975287e-01  4.46690582e-01  4.32073969e-01\n",
      "  4.17980010e-01  4.04391859e-01  3.93246205e-01  3.85235481e-01\n",
      "  3.79178037e-01  3.73506947e-01  3.66941085e-01  3.61247472e-01\n",
      "  3.55501671e-01  3.48522907e-01  3.40707426e-01  3.31399501e-01\n",
      "  3.23772596e-01  3.16458206e-01  3.09216930e-01  3.01792947e-01\n",
      "  2.92813782e-01  2.84742248e-01  2.79081382e-01  2.73029851e-01\n",
      "  2.66902313e-01  2.61266801e-01  2.55766183e-01  2.50976503e-01\n",
      "  2.46932309e-01  2.43340223e-01  2.40052319e-01  2.34293575e-01\n",
      "  2.31168338e-01  2.28453524e-01  2.24335158e-01  2.20465315e-01\n",
      "  2.15134920e-01  2.12034488e-01  2.09305545e-01  2.10534578e-01\n",
      "  2.08438963e-01  2.06658751e-01  2.03560119e-01  2.02254733e-01\n",
      "  1.98662455e-01  1.94255085e-01  1.88351803e-01  1.81964544e-01\n",
      "  1.78154042e-01  1.76549808e-01  1.72381189e-01  1.67158703e-01\n",
      "  1.59594482e-01  1.53681122e-01  1.48310461e-01  1.43939754e-01\n",
      "  1.33802366e-01  1.23705229e-01  1.12602235e-01  1.03929449e-01\n",
      "  9.35063154e-02  8.32915863e-02  7.32733031e-02  6.29648251e-02\n",
      "  5.55993941e-02  4.99316107e-02  4.37328343e-02  3.64918843e-02\n",
      "  2.88508621e-02  2.10944721e-02  1.52334483e-02  8.38587658e-03\n",
      "  2.20939523e-05 -9.22937974e-03 -1.74455755e-02 -2.61314005e-02\n",
      " -3.29585473e-02]\n"
     ]
    },
    {
     "data": {
      "image/png": "[encoded data removed]",
      "text/plain": [
       "<Figure size 640x480 with 1 Axes>"
      ]
     },
     "metadata": {},
     "output_type": "display_data"
    }
   ],
   "source": [
    "from matplotlib import pyplot\n",
    "from statsmodels.graphics.tsaplots import plot_acf\n",
    "import statsmodels.api as sm\n",
    "acf_corr = sm.tsa.acf(appleData.Close, nlags=100)\n",
    "plot_acf(appleData.Close,lags=100)\n",
    "print(acf_corr)\n",
    "pyplot.show()"
   ]
  },
  {
   "cell_type": "markdown",
   "id": "ec777614",
   "metadata": {
    "papermill": {
     "duration": 0.030376,
     "end_time": "2023-10-07T00:01:54.721380",
     "exception": false,
     "start_time": "2023-10-07T00:01:54.691004",
     "status": "completed"
    },
    "tags": []
   },
   "source": [
    "- Fitting ACF is the first step during Model Building\n",
    "- Depending on the pattern you can decide what should be the order of the Auto Regression process"
   ]
  },
  {
   "cell_type": "markdown",
   "id": "9ec024de",
   "metadata": {
    "papermill": {
     "duration": 0.029245,
     "end_time": "2023-10-07T00:01:54.781524",
     "exception": false,
     "start_time": "2023-10-07T00:01:54.752279",
     "status": "completed"
    },
    "tags": []
   },
   "source": [
    "## Partial Auto Correlation (PACF)\n",
    "\n",
    "- Partial Auto Correlation is another important step in the Time Series Modeling Process\n",
    "- The partial auto correlation at any given lag k is the correlation obtained after cancelling the effect of correlations due to terms at shorter lags.\n",
    "- In simple terms , in partial auto correlation , the effects due to intermediate terms are nullified to determine the correlation\n",
    "- If you have a time series that is represented by [yt , yt-1 , yt-2 , .... yt-s]\n",
    "- If you want to determine the Partial Auto Correlation between yt and yt-s then you have to nullify the effect of all intermediate terms to get the PACF value"
   ]
  },
  {
   "cell_type": "code",
   "execution_count": 61,
   "id": "3b7b1537",
   "metadata": {
    "execution": {
     "iopub.execute_input": "2023-10-07T00:01:54.845608Z",
     "iopub.status.busy": "2023-10-07T00:01:54.845217Z",
     "iopub.status.idle": "2023-10-07T00:01:55.133276Z",
     "shell.execute_reply": "2023-10-07T00:01:55.131950Z"
    },
    "papermill": {
     "duration": 0.323303,
     "end_time": "2023-10-07T00:01:55.135941",
     "exception": false,
     "start_time": "2023-10-07T00:01:54.812638",
     "status": "completed"
    },
    "tags": []
   },
   "outputs": [
    {
     "name": "stdout",
     "output_type": "stream",
     "text": [
      "[ 1.          0.97880285 -0.01002435 -0.04656877  0.03428863 -0.03783536\n",
      "  0.06549501 -0.02722059  0.02781726  0.0395095  -0.03840433]\n"
     ]
    },
    {
     "data": {
      "image/png": "[encoded data removed]",
      "text/plain": [
       "<Figure size 640x480 with 1 Axes>"
      ]
     },
     "metadata": {},
     "output_type": "display_data"
    }
   ],
   "source": [
    "from statsmodels.graphics.tsaplots import plot_pacf\n",
    "pacf_corr = sm.tsa.pacf(appleData.Close, nlags=10)\n",
    "plot_pacf(appleData.Close,lags=10)\n",
    "print(pacf_corr)\n",
    "pyplot.show()"
   ]
  },
  {
   "cell_type": "markdown",
   "id": "34dc83ac",
   "metadata": {
    "papermill": {
     "duration": 0.029788,
     "end_time": "2023-10-07T00:01:55.198146",
     "exception": false,
     "start_time": "2023-10-07T00:01:55.168358",
     "status": "completed"
    },
    "tags": []
   },
   "source": [
    "- The PACF plot has lag on X axis and correlation value on Y axis.\n",
    "- Reading the PACF Plot we will understand the number of significant lags to determine the order of AR Process.\n",
    "- From the plot in the previous card , it is evident that the order of AR will be 2 for the time series."
   ]
  },
  {
   "cell_type": "code",
   "execution_count": null,
   "id": "ff15397a",
   "metadata": {
    "papermill": {
     "duration": 0.030515,
     "end_time": "2023-10-07T00:01:55.259203",
     "exception": false,
     "start_time": "2023-10-07T00:01:55.228688",
     "status": "completed"
    },
    "tags": []
   },
   "outputs": [],
   "source": []
  }
 ],
 "metadata": {
  "kernelspec": {
   "display_name": "Python 3",
   "language": "python",
   "name": "python3"
  },
  "language_info": {
   "codemirror_mode": {
    "name": "ipython",
    "version": 3
   },
   "file_extension": ".py",
   "mimetype": "text/x-python",
   "name": "python",
   "nbconvert_exporter": "python",
   "pygments_lexer": "ipython3",
   "version": "3.10.12"
  },
  "papermill": {
   "default_parameters": {},
   "duration": 57.881652,
   "end_time": "2023-10-07T00:01:56.111661",
   "environment_variables": {},
   "exception": null,
   "input_path": "__notebook__.ipynb",
   "output_path": "__notebook__.ipynb",
   "parameters": {},
   "start_time": "2023-10-07T00:00:58.230009",
   "version": "2.4.0"
  }
 },
 "nbformat": 4,
 "nbformat_minor": 5
}
