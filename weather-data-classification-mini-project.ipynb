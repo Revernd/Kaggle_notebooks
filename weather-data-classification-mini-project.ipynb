{
 "cells": [
  {
   "cell_type": "markdown",
   "id": "25fdc717",
   "metadata": {
    "_cell_guid": "b1076dfc-b9ad-4769-8c92-a6c4dae69d19",
    "_uuid": "8f2839f25d086af736a60e9eeb907d3b93b6e0e5",
    "papermill": {
     "duration": 0.007406,
     "end_time": "2023-04-27T22:24:18.368225",
     "exception": false,
     "start_time": "2023-04-27T22:24:18.360819",
     "status": "completed"
    },
    "tags": []
   },
   "source": [
    "**Run the Cell to import the packages**"
   ]
  },
  {
   "cell_type": "code",
   "execution_count": 1,
   "id": "8d813ba0",
   "metadata": {
    "execution": {
     "iopub.execute_input": "2023-04-27T22:24:18.382703Z",
     "iopub.status.busy": "2023-04-27T22:24:18.382297Z",
     "iopub.status.idle": "2023-04-27T22:24:18.392878Z",
     "shell.execute_reply": "2023-04-27T22:24:18.391708Z"
    },
    "papermill": {
     "duration": 0.021094,
     "end_time": "2023-04-27T22:24:18.395618",
     "exception": false,
     "start_time": "2023-04-27T22:24:18.374524",
     "status": "completed"
    },
    "tags": []
   },
   "outputs": [],
   "source": [
    "import pandas as pd\n",
    "import numpy as np\n"
   ]
  },
  {
   "cell_type": "markdown",
   "id": "3817b9b2",
   "metadata": {
    "papermill": {
     "duration": 0.005879,
     "end_time": "2023-04-27T22:24:18.407879",
     "exception": false,
     "start_time": "2023-04-27T22:24:18.402000",
     "status": "completed"
    },
    "tags": []
   },
   "source": [
    "**Data Loading**\n",
    "**Fill in the Command to load your CSV dataset \"weather.csv\" with pandas**"
   ]
  },
  {
   "cell_type": "code",
   "execution_count": 2,
   "id": "6cf95593",
   "metadata": {
    "execution": {
     "iopub.execute_input": "2023-04-27T22:24:18.422371Z",
     "iopub.status.busy": "2023-04-27T22:24:18.421981Z",
     "iopub.status.idle": "2023-04-27T22:24:18.574752Z",
     "shell.execute_reply": "2023-04-27T22:24:18.573767Z"
    },
    "papermill": {
     "duration": 0.163643,
     "end_time": "2023-04-27T22:24:18.577728",
     "exception": false,
     "start_time": "2023-04-27T22:24:18.414085",
     "status": "completed"
    },
    "tags": []
   },
   "outputs": [],
   "source": [
    "weather = pd.read_csv('/kaggle/input/weather-data/weather.csv', sep=',')"
   ]
  },
  {
   "cell_type": "markdown",
   "id": "1c9c417b",
   "metadata": {
    "papermill": {
     "duration": 0.005917,
     "end_time": "2023-04-27T22:24:18.590039",
     "exception": false,
     "start_time": "2023-04-27T22:24:18.584122",
     "status": "completed"
    },
    "tags": []
   },
   "source": [
    "**Data Analysis**\n",
    "\n",
    "- Get the shape of the dataset and print it.\n",
    "\n",
    "- Get the column names in list and print it.\n",
    "\n",
    "- Describe the dataset to understand the basic statistics of the dataset.\n",
    "\n",
    "- Print the first three rows of the dataset"
   ]
  },
  {
   "cell_type": "code",
   "execution_count": 3,
   "id": "0680b1ed",
   "metadata": {
    "execution": {
     "iopub.execute_input": "2023-04-27T22:24:18.605100Z",
     "iopub.status.busy": "2023-04-27T22:24:18.604305Z",
     "iopub.status.idle": "2023-04-27T22:24:18.720298Z",
     "shell.execute_reply": "2023-04-27T22:24:18.718755Z"
    },
    "papermill": {
     "duration": 0.127227,
     "end_time": "2023-04-27T22:24:18.723523",
     "exception": false,
     "start_time": "2023-04-27T22:24:18.596296",
     "status": "completed"
    },
    "tags": []
   },
   "outputs": [
    {
     "name": "stdout",
     "output_type": "stream",
     "text": [
      "(25000, 25)\n",
      "Index(['Unnamed: 0', 'Date', 'Location', 'MinTemp', 'MaxTemp', 'Rainfall',\n",
      "       'Evaporation', 'Sunshine', 'WindGustDir', 'WindGustSpeed', 'WindDir9am',\n",
      "       'WindDir3pm', 'WindSpeed9am', 'WindSpeed3pm', 'Humidity9am',\n",
      "       'Humidity3pm', 'Pressure9am', 'Pressure3pm', 'Cloud9am', 'Cloud3pm',\n",
      "       'Temp9am', 'Temp3pm', 'RainToday', 'RISK_MM', 'RainTomorrow'],\n",
      "      dtype='object')\n",
      "         Unnamed: 0       MinTemp       MaxTemp      Rainfall  Evaporation  \\\n",
      "count  25000.000000  24669.000000  24824.000000  24721.000000  9432.000000   \n",
      "mean   12499.500000     13.294568     23.990558      2.674467     5.825138   \n",
      "std     7217.022701      5.848304      6.114348      9.720306     4.871567   \n",
      "min        0.000000     -3.300000      6.800000      0.000000     0.000000   \n",
      "25%     6249.750000      8.900000     19.500000      0.000000     3.000000   \n",
      "50%    12499.500000     14.000000     23.400000      0.000000     4.800000   \n",
      "75%    18749.250000     17.900000     27.700000      0.600000     7.200000   \n",
      "max    24999.000000     29.700000     47.300000    371.000000    86.200000   \n",
      "\n",
      "          Sunshine  WindGustSpeed  WindSpeed9am  WindSpeed3pm   Humidity9am  \\\n",
      "count  6664.000000   21545.000000  24428.000000  23770.000000  24609.000000   \n",
      "mean      7.811945      37.772755     12.686917     16.837106     69.822951   \n",
      "std       3.718698      13.212331      9.136115      9.095719     17.755908   \n",
      "min       0.000000       7.000000      0.000000      0.000000      3.000000   \n",
      "25%       5.500000      28.000000      6.000000      9.000000     58.000000   \n",
      "50%       8.900000      35.000000     11.000000     17.000000     71.000000   \n",
      "75%      10.600000      46.000000     19.000000     22.000000     83.000000   \n",
      "max      14.000000     135.000000    130.000000     83.000000    100.000000   \n",
      "\n",
      "        Humidity3pm   Pressure9am   Pressure3pm      Cloud9am      Cloud3pm  \\\n",
      "count  23936.000000  20172.000000  20173.000000  14136.000000  13815.000000   \n",
      "mean      52.762826   1018.173290   1015.627438      4.251556      4.409265   \n",
      "std       21.210121      6.481112      6.394829      2.968785      2.719235   \n",
      "min        1.000000    980.500000    979.000000      0.000000      0.000000   \n",
      "25%       37.000000   1013.800000   1011.300000      1.000000      2.000000   \n",
      "50%       54.000000   1018.200000   1015.700000      5.000000      5.000000   \n",
      "75%       68.000000   1022.600000   1020.000000      7.000000      7.000000   \n",
      "max      100.000000   1039.900000   1036.800000      8.000000      8.000000   \n",
      "\n",
      "            Temp9am       Temp3pm       RISK_MM  \n",
      "count  24755.000000  24082.000000  25000.000000  \n",
      "mean      17.953084     22.507171      2.677376  \n",
      "std        5.394685      5.954540      9.705604  \n",
      "min        0.300000      6.400000      0.000000  \n",
      "25%       14.200000     18.100000      0.000000  \n",
      "50%       18.400000     21.900000      0.000000  \n",
      "75%       21.900000     26.100000      0.800000  \n",
      "max       37.700000     46.700000    371.000000  \n",
      "   Unnamed: 0        Date Location  MinTemp  MaxTemp  Rainfall  Evaporation  \\\n",
      "0           0  2008-12-01   Albury     13.4     22.9       0.6          NaN   \n",
      "1           1  2008-12-02   Albury      7.4     25.1       0.0          NaN   \n",
      "2           2  2008-12-03   Albury     12.9     25.7       0.0          NaN   \n",
      "\n",
      "   Sunshine WindGustDir  WindGustSpeed  ... Humidity3pm Pressure9am  \\\n",
      "0       NaN           W           44.0  ...        22.0      1007.7   \n",
      "1       NaN         WNW           44.0  ...        25.0      1010.6   \n",
      "2       NaN         WSW           46.0  ...        30.0      1007.6   \n",
      "\n",
      "   Pressure3pm  Cloud9am  Cloud3pm  Temp9am  Temp3pm  RainToday  RISK_MM  \\\n",
      "0       1007.1       8.0       NaN     16.9     21.8         No      0.0   \n",
      "1       1007.8       NaN       NaN     17.2     24.3         No      0.0   \n",
      "2       1008.7       NaN       2.0     21.0     23.2         No      0.0   \n",
      "\n",
      "   RainTomorrow  \n",
      "0            No  \n",
      "1            No  \n",
      "2            No  \n",
      "\n",
      "[3 rows x 25 columns]\n"
     ]
    }
   ],
   "source": [
    "data_size=weather.shape\n",
    "\n",
    "print(data_size)\n",
    "\n",
    "weather_col_names =weather.columns\n",
    "\n",
    "print(weather_col_names)\n",
    "\n",
    "print(weather.describe())\n",
    "\n",
    "print(weather.head(3))"
   ]
  },
  {
   "cell_type": "markdown",
   "id": "5b15922c",
   "metadata": {
    "papermill": {
     "duration": 0.006125,
     "end_time": "2023-04-27T22:24:18.736317",
     "exception": false,
     "start_time": "2023-04-27T22:24:18.730192",
     "status": "completed"
    },
    "tags": []
   },
   "source": [
    "**Target Identification**\n",
    "\n",
    "Execute the below cell to identify the target variables. If yes it will Rain Tommorow otherwise it will not Rain."
   ]
  },
  {
   "cell_type": "code",
   "execution_count": 4,
   "id": "ad2dcff0",
   "metadata": {
    "execution": {
     "iopub.execute_input": "2023-04-27T22:24:18.751081Z",
     "iopub.status.busy": "2023-04-27T22:24:18.750657Z",
     "iopub.status.idle": "2023-04-27T22:24:18.759264Z",
     "shell.execute_reply": "2023-04-27T22:24:18.757980Z"
    },
    "papermill": {
     "duration": 0.019428,
     "end_time": "2023-04-27T22:24:18.762069",
     "exception": false,
     "start_time": "2023-04-27T22:24:18.742641",
     "status": "completed"
    },
    "tags": []
   },
   "outputs": [
    {
     "name": "stdout",
     "output_type": "stream",
     "text": [
      "0        No\n",
      "1        No\n",
      "2        No\n",
      "3        No\n",
      "4        No\n",
      "         ..\n",
      "24995    No\n",
      "24996    No\n",
      "24997    No\n",
      "24998    No\n",
      "24999    No\n",
      "Name: RainTomorrow, Length: 25000, dtype: object\n"
     ]
    }
   ],
   "source": [
    "weather_target=weather['RainTomorrow'] \n",
    "\n",
    "print(weather_target)"
   ]
  },
  {
   "cell_type": "markdown",
   "id": "3658a6a0",
   "metadata": {
    "papermill": {
     "duration": 0.006542,
     "end_time": "2023-04-27T22:24:18.775114",
     "exception": false,
     "start_time": "2023-04-27T22:24:18.768572",
     "status": "completed"
    },
    "tags": []
   },
   "source": [
    "**Feature Identification**\n",
    "\n",
    "In our case by analyzing the dataset, we can understand that the columns like **Date** might be irrelevant as they are not dependent on call usage pattern.\n",
    "\n",
    "Since **RainTomorrow** is our target variable, we will be removing it from the feature set.\n",
    "\n",
    "- Perform appropriate operation to drop the columns **Date** and **RainTomorrow** "
   ]
  },
  {
   "cell_type": "code",
   "execution_count": 5,
   "id": "0640484a",
   "metadata": {
    "execution": {
     "iopub.execute_input": "2023-04-27T22:24:18.790975Z",
     "iopub.status.busy": "2023-04-27T22:24:18.789700Z",
     "iopub.status.idle": "2023-04-27T22:24:18.812545Z",
     "shell.execute_reply": "2023-04-27T22:24:18.810699Z"
    },
    "papermill": {
     "duration": 0.033693,
     "end_time": "2023-04-27T22:24:18.815484",
     "exception": false,
     "start_time": "2023-04-27T22:24:18.781791",
     "status": "completed"
    },
    "tags": []
   },
   "outputs": [
    {
     "name": "stdout",
     "output_type": "stream",
     "text": [
      "   Unnamed: 0 Location  MinTemp  MaxTemp  Rainfall  Evaporation  Sunshine  \\\n",
      "0           0   Albury     13.4     22.9       0.6          NaN       NaN   \n",
      "1           1   Albury      7.4     25.1       0.0          NaN       NaN   \n",
      "2           2   Albury     12.9     25.7       0.0          NaN       NaN   \n",
      "3           3   Albury      9.2     28.0       0.0          NaN       NaN   \n",
      "4           4   Albury     17.5     32.3       1.0          NaN       NaN   \n",
      "\n",
      "  WindGustDir  WindGustSpeed WindDir9am  ... Humidity9am  Humidity3pm  \\\n",
      "0           W           44.0          W  ...        71.0         22.0   \n",
      "1         WNW           44.0        NNW  ...        44.0         25.0   \n",
      "2         WSW           46.0          W  ...        38.0         30.0   \n",
      "3          NE           24.0         SE  ...        45.0         16.0   \n",
      "4           W           41.0        ENE  ...        82.0         33.0   \n",
      "\n",
      "   Pressure9am  Pressure3pm  Cloud9am  Cloud3pm  Temp9am  Temp3pm  RainToday  \\\n",
      "0       1007.7       1007.1       8.0       NaN     16.9     21.8         No   \n",
      "1       1010.6       1007.8       NaN       NaN     17.2     24.3         No   \n",
      "2       1007.6       1008.7       NaN       2.0     21.0     23.2         No   \n",
      "3       1017.6       1012.8       NaN       NaN     18.1     26.5         No   \n",
      "4       1010.8       1006.0       7.0       8.0     17.8     29.7         No   \n",
      "\n",
      "   RISK_MM  \n",
      "0      0.0  \n",
      "1      0.0  \n",
      "2      0.0  \n",
      "3      1.0  \n",
      "4      0.2  \n",
      "\n",
      "[5 rows x 23 columns]\n"
     ]
    }
   ],
   "source": [
    "cols_to_drop = ['Date','RainTomorrow']\n",
    "\n",
    "weather_feature = weather.drop(cols_to_drop, axis=1)\n",
    "\n",
    "print(weather_feature.head(5))"
   ]
  },
  {
   "cell_type": "markdown",
   "id": "92e206c8",
   "metadata": {
    "papermill": {
     "duration": 0.006758,
     "end_time": "2023-04-27T22:24:18.828899",
     "exception": false,
     "start_time": "2023-04-27T22:24:18.822141",
     "status": "completed"
    },
    "tags": []
   },
   "source": [
    "**Categorical Data**\n",
    "\n",
    "In order to Identify the categorical variable in a data, use the following command in the below cell,"
   ]
  },
  {
   "cell_type": "code",
   "execution_count": 6,
   "id": "205cbbe7",
   "metadata": {
    "execution": {
     "iopub.execute_input": "2023-04-27T22:24:18.846485Z",
     "iopub.status.busy": "2023-04-27T22:24:18.846047Z",
     "iopub.status.idle": "2023-04-27T22:24:18.861589Z",
     "shell.execute_reply": "2023-04-27T22:24:18.859950Z"
    },
    "papermill": {
     "duration": 0.027724,
     "end_time": "2023-04-27T22:24:18.864298",
     "exception": false,
     "start_time": "2023-04-27T22:24:18.836574",
     "status": "completed"
    },
    "tags": []
   },
   "outputs": [
    {
     "name": "stdout",
     "output_type": "stream",
     "text": [
      "          Date Location WindGustDir WindDir9am WindDir3pm RainToday  \\\n",
      "0   2008-12-01   Albury           W          W        WNW        No   \n",
      "1   2008-12-02   Albury         WNW        NNW        WSW        No   \n",
      "2   2008-12-03   Albury         WSW          W        WSW        No   \n",
      "3   2008-12-04   Albury          NE         SE          E        No   \n",
      "4   2008-12-05   Albury           W        ENE         NW        No   \n",
      "5   2008-12-06   Albury         WNW          W          W        No   \n",
      "6   2008-12-07   Albury           W         SW          W        No   \n",
      "7   2008-12-08   Albury           W        SSE          W        No   \n",
      "8   2008-12-09   Albury         NNW         SE         NW        No   \n",
      "9   2008-12-10   Albury           W          S        SSE       Yes   \n",
      "10  2008-12-11   Albury           N        SSE        ESE        No   \n",
      "11  2008-12-12   Albury         NNE         NE        ENE       Yes   \n",
      "12  2008-12-13   Albury           W        NNW        NNW       Yes   \n",
      "13  2008-12-14   Albury          SW          W        SSW       Yes   \n",
      "14  2008-12-16   Albury         WNW        NaN        WNW       NaN   \n",
      "\n",
      "   RainTomorrow  \n",
      "0            No  \n",
      "1            No  \n",
      "2            No  \n",
      "3            No  \n",
      "4            No  \n",
      "5            No  \n",
      "6            No  \n",
      "7            No  \n",
      "8           Yes  \n",
      "9            No  \n",
      "10          Yes  \n",
      "11          Yes  \n",
      "12          Yes  \n",
      "13           No  \n",
      "14           No  \n"
     ]
    }
   ],
   "source": [
    "weather_categorical = weather.select_dtypes(include=[object])\n",
    "print(weather_categorical.head(15))"
   ]
  },
  {
   "cell_type": "markdown",
   "id": "098eba68",
   "metadata": {
    "papermill": {
     "duration": 0.006576,
     "end_time": "2023-04-27T22:24:18.878448",
     "exception": false,
     "start_time": "2023-04-27T22:24:18.871872",
     "status": "completed"
    },
    "tags": []
   },
   "source": [
    "**Convert to boolean**\n",
    "\n",
    "Assign the column **RainToday** for the variable **yes_no_cols** and run the below cell to print first 5 rows of **weather_feature**\n"
   ]
  },
  {
   "cell_type": "code",
   "execution_count": 7,
   "id": "9e584cec",
   "metadata": {
    "execution": {
     "iopub.execute_input": "2023-04-27T22:24:18.894514Z",
     "iopub.status.busy": "2023-04-27T22:24:18.894064Z",
     "iopub.status.idle": "2023-04-27T22:24:18.920394Z",
     "shell.execute_reply": "2023-04-27T22:24:18.918538Z"
    },
    "papermill": {
     "duration": 0.037472,
     "end_time": "2023-04-27T22:24:18.923375",
     "exception": false,
     "start_time": "2023-04-27T22:24:18.885903",
     "status": "completed"
    },
    "tags": []
   },
   "outputs": [
    {
     "name": "stdout",
     "output_type": "stream",
     "text": [
      "   Unnamed: 0 Location  MinTemp  MaxTemp  Rainfall  Evaporation  Sunshine  \\\n",
      "0           0   Albury     13.4     22.9       0.6          NaN       NaN   \n",
      "1           1   Albury      7.4     25.1       0.0          NaN       NaN   \n",
      "2           2   Albury     12.9     25.7       0.0          NaN       NaN   \n",
      "3           3   Albury      9.2     28.0       0.0          NaN       NaN   \n",
      "4           4   Albury     17.5     32.3       1.0          NaN       NaN   \n",
      "\n",
      "  WindGustDir  WindGustSpeed WindDir9am  ... Humidity9am  Humidity3pm  \\\n",
      "0           W           44.0          W  ...        71.0         22.0   \n",
      "1         WNW           44.0        NNW  ...        44.0         25.0   \n",
      "2         WSW           46.0          W  ...        38.0         30.0   \n",
      "3          NE           24.0         SE  ...        45.0         16.0   \n",
      "4           W           41.0        ENE  ...        82.0         33.0   \n",
      "\n",
      "   Pressure9am  Pressure3pm  Cloud9am  Cloud3pm  Temp9am  Temp3pm  RainToday  \\\n",
      "0       1007.7       1007.1       8.0       NaN     16.9     21.8      False   \n",
      "1       1010.6       1007.8       NaN       NaN     17.2     24.3      False   \n",
      "2       1007.6       1008.7       NaN       2.0     21.0     23.2      False   \n",
      "3       1017.6       1012.8       NaN       NaN     18.1     26.5      False   \n",
      "4       1010.8       1006.0       7.0       8.0     17.8     29.7      False   \n",
      "\n",
      "   RISK_MM  \n",
      "0      0.0  \n",
      "1      0.0  \n",
      "2      0.0  \n",
      "3      1.0  \n",
      "4      0.2  \n",
      "\n",
      "[5 rows x 23 columns]\n"
     ]
    }
   ],
   "source": [
    "yes_no_cols = [\"RainToday\"]\n",
    "\n",
    "weather_feature[yes_no_cols] = weather_feature[yes_no_cols] == 'Yes'\n",
    "\n",
    "print(weather_feature.head(5))"
   ]
  },
  {
   "cell_type": "markdown",
   "id": "2615a0d5",
   "metadata": {
    "papermill": {
     "duration": 0.006531,
     "end_time": "2023-04-27T22:24:18.936962",
     "exception": false,
     "start_time": "2023-04-27T22:24:18.930431",
     "status": "completed"
    },
    "tags": []
   },
   "source": [
    "**One Hot Encoding**\n",
    "\n",
    "Execute the below cells to perform **One Hot Encoding**"
   ]
  },
  {
   "cell_type": "code",
   "execution_count": 8,
   "id": "93480afe",
   "metadata": {
    "execution": {
     "iopub.execute_input": "2023-04-27T22:24:18.952818Z",
     "iopub.status.busy": "2023-04-27T22:24:18.952407Z",
     "iopub.status.idle": "2023-04-27T22:24:19.165495Z",
     "shell.execute_reply": "2023-04-27T22:24:19.164141Z"
    },
    "papermill": {
     "duration": 0.224677,
     "end_time": "2023-04-27T22:24:19.168560",
     "exception": false,
     "start_time": "2023-04-27T22:24:18.943883",
     "status": "completed"
    },
    "tags": []
   },
   "outputs": [],
   "source": [
    "weather_dumm=pd.get_dummies(weather_feature, columns=[\"Location\",\"WindGustDir\",\"WindDir9am\",\"WindDir3pm\"], prefix=[\"Location\",\"WindGustDir\",\"WindDir9am\",\"WindDir3pm\"])\n",
    "\n",
    "weather_matrix = weather_dumm.values.astype(np.float64)"
   ]
  },
  {
   "cell_type": "markdown",
   "id": "bee6c408",
   "metadata": {
    "papermill": {
     "duration": 0.00641,
     "end_time": "2023-04-27T22:24:19.181826",
     "exception": false,
     "start_time": "2023-04-27T22:24:19.175416",
     "status": "completed"
    },
    "tags": []
   },
   "source": [
    "**Imputing-Missing Values**\n",
    "\n",
    "Do the Imputing-Missing Values by using the following parameters\n",
    "\n",
    " - missing_values=np.nan\n",
    " - strategy=mean\n",
    " - fill_value=None\n",
    " - verbose=0\n",
    " - copy=True\n",
    " "
   ]
  },
  {
   "cell_type": "code",
   "execution_count": 9,
   "id": "c9500c59",
   "metadata": {
    "execution": {
     "iopub.execute_input": "2023-04-27T22:24:19.198420Z",
     "iopub.status.busy": "2023-04-27T22:24:19.198028Z",
     "iopub.status.idle": "2023-04-27T22:24:20.750279Z",
     "shell.execute_reply": "2023-04-27T22:24:20.748859Z"
    },
    "papermill": {
     "duration": 1.564718,
     "end_time": "2023-04-27T22:24:20.753488",
     "exception": false,
     "start_time": "2023-04-27T22:24:19.188770",
     "status": "completed"
    },
    "tags": []
   },
   "outputs": [],
   "source": [
    "from sklearn.impute import SimpleImputer\n",
    "\n",
    "imp=SimpleImputer(missing_values=np.nan, strategy='mean', fill_value=None, verbose=0, copy=True)\n",
    "\n",
    "weather_matrix=imp.fit_transform(weather_matrix)"
   ]
  },
  {
   "cell_type": "markdown",
   "id": "9d2ae1e4",
   "metadata": {
    "papermill": {
     "duration": 0.007213,
     "end_time": "2023-04-27T22:24:20.767709",
     "exception": false,
     "start_time": "2023-04-27T22:24:20.760496",
     "status": "completed"
    },
    "tags": []
   },
   "source": [
    "**Standardization**\n",
    "\n",
    "Run the below cell to perform standardization"
   ]
  },
  {
   "cell_type": "code",
   "execution_count": 10,
   "id": "78b24371",
   "metadata": {
    "execution": {
     "iopub.execute_input": "2023-04-27T22:24:20.783370Z",
     "iopub.status.busy": "2023-04-27T22:24:20.782942Z",
     "iopub.status.idle": "2023-04-27T22:24:20.814565Z",
     "shell.execute_reply": "2023-04-27T22:24:20.812869Z"
    },
    "papermill": {
     "duration": 0.043203,
     "end_time": "2023-04-27T22:24:20.817877",
     "exception": false,
     "start_time": "2023-04-27T22:24:20.774674",
     "status": "completed"
    },
    "tags": []
   },
   "outputs": [],
   "source": [
    "from sklearn.preprocessing import StandardScaler\n",
    "#Standardize the data by removing the mean and scaling to unit variance\n",
    "scaler = StandardScaler()\n",
    "#Fit to data, then transform it.\n",
    "weather_matrix = scaler.fit_transform(weather_matrix)\n"
   ]
  },
  {
   "cell_type": "markdown",
   "id": "c34971a6",
   "metadata": {
    "papermill": {
     "duration": 0.006464,
     "end_time": "2023-04-27T22:24:20.831334",
     "exception": false,
     "start_time": "2023-04-27T22:24:20.824870",
     "status": "completed"
    },
    "tags": []
   },
   "source": [
    "**Train and Test Data**\n",
    "\n",
    "Splitting the data for training and testing(90% train,10% test)\n",
    "\n",
    "- Perform train-test split on **weather_matrix** and **weather_target** with 90% as train data and 10% as test data and set random_state as seed."
   ]
  },
  {
   "cell_type": "code",
   "execution_count": 11,
   "id": "059d6d90",
   "metadata": {
    "execution": {
     "iopub.execute_input": "2023-04-27T22:24:20.847514Z",
     "iopub.status.busy": "2023-04-27T22:24:20.847061Z",
     "iopub.status.idle": "2023-04-27T22:24:20.873105Z",
     "shell.execute_reply": "2023-04-27T22:24:20.871820Z"
    },
    "papermill": {
     "duration": 0.038179,
     "end_time": "2023-04-27T22:24:20.876424",
     "exception": false,
     "start_time": "2023-04-27T22:24:20.838245",
     "status": "completed"
    },
    "tags": []
   },
   "outputs": [],
   "source": [
    "from sklearn.model_selection import train_test_split\n",
    "\n",
    "seed=5000\n",
    "\n",
    "train_data,test_data, train_label, test_label = train_test_split(weather_matrix, weather_target, test_size=0.1, random_state=seed)"
   ]
  },
  {
   "cell_type": "markdown",
   "id": "f4759825",
   "metadata": {
    "papermill": {
     "duration": 0.006392,
     "end_time": "2023-04-27T22:24:20.889660",
     "exception": false,
     "start_time": "2023-04-27T22:24:20.883268",
     "status": "completed"
    },
    "tags": []
   },
   "source": [
    "**Support Vector Machine Classification**\n",
    "\n",
    "- Initialize **SVM** classifier with following parameters\n",
    "    - kernel = linear\n",
    "    - C= 0.025\n",
    "    - random_state=seed\n",
    "\n",
    "- Train the model with train_data and train_label\n",
    "\n",
    "- Now predict the output with test_data\n",
    "\n",
    "- Evaluate the classifier with score from test_data and test_label\n",
    "\n",
    "- Print the predicted score\n",
    "\n"
   ]
  },
  {
   "cell_type": "code",
   "execution_count": 12,
   "id": "70658c32",
   "metadata": {
    "execution": {
     "iopub.execute_input": "2023-04-27T22:24:20.905773Z",
     "iopub.status.busy": "2023-04-27T22:24:20.904910Z",
     "iopub.status.idle": "2023-04-27T22:24:32.845226Z",
     "shell.execute_reply": "2023-04-27T22:24:32.843680Z"
    },
    "papermill": {
     "duration": 11.951677,
     "end_time": "2023-04-27T22:24:32.848130",
     "exception": false,
     "start_time": "2023-04-27T22:24:20.896453",
     "status": "completed"
    },
    "tags": []
   },
   "outputs": [
    {
     "name": "stdout",
     "output_type": "stream",
     "text": [
      "SVM Classifier :  0.9648\n"
     ]
    }
   ],
   "source": [
    "from sklearn.svm import SVC\n",
    "\n",
    "classifier = SVC(kernel='linear', C=0.025, random_state=seed)\n",
    "\n",
    "classifier = classifier.fit(train_data, train_label)\n",
    "\n",
    "churn_predicted_target=classifier.predict(test_data)\n",
    "\n",
    "score = classifier.score(test_data, test_label)\n",
    "\n",
    "print('SVM Classifier : ',score)\n"
   ]
  },
  {
   "cell_type": "markdown",
   "id": "c0530640",
   "metadata": {
    "papermill": {
     "duration": 0.006504,
     "end_time": "2023-04-27T22:24:32.861482",
     "exception": false,
     "start_time": "2023-04-27T22:24:32.854978",
     "status": "completed"
    },
    "tags": []
   },
   "source": [
    "**Random Forest Classifier**\n",
    "\n",
    "- Do the **Random Forest** Classifier of the Dataset using the following parameters.\n",
    "   - max_depth=5\n",
    "   - n_estimators=10\n",
    "   - max_features=10 \n",
    "   - random_state=seed \n",
    "   \n",
    "- Train the model with train_data and train_label.\n",
    "\n",
    "- Now predict the output with test_data.\n",
    "\n",
    "- Evaluate the classifier with score from test_data and test_label.\n"
   ]
  },
  {
   "cell_type": "code",
   "execution_count": 13,
   "id": "bea176de",
   "metadata": {
    "execution": {
     "iopub.execute_input": "2023-04-27T22:24:32.877520Z",
     "iopub.status.busy": "2023-04-27T22:24:32.876660Z",
     "iopub.status.idle": "2023-04-27T22:24:33.293707Z",
     "shell.execute_reply": "2023-04-27T22:24:33.292344Z"
    },
    "papermill": {
     "duration": 0.428309,
     "end_time": "2023-04-27T22:24:33.296725",
     "exception": false,
     "start_time": "2023-04-27T22:24:32.868416",
     "status": "completed"
    },
    "tags": []
   },
   "outputs": [
    {
     "name": "stdout",
     "output_type": "stream",
     "text": [
      "Random Forest Classifier :  0.9484\n"
     ]
    }
   ],
   "source": [
    "from sklearn.ensemble import RandomForestClassifier\n",
    "\n",
    "classifier = RandomForestClassifier(max_depth=5, n_estimators=10, max_features=10, random_state=seed)\n",
    "\n",
    "classifier = classifier.fit(train_data, train_label)\n",
    "\n",
    "churn_predicted_target=classifier.predict(test_data)\n",
    "\n",
    "score = classifier.score(test_data, test_label)\n",
    "\n",
    "print('Random Forest Classifier : ',score)\n",
    "\n"
   ]
  },
  {
   "cell_type": "code",
   "execution_count": null,
   "id": "6fc063cf",
   "metadata": {
    "papermill": {
     "duration": 0.006598,
     "end_time": "2023-04-27T22:24:33.310185",
     "exception": false,
     "start_time": "2023-04-27T22:24:33.303587",
     "status": "completed"
    },
    "tags": []
   },
   "outputs": [],
   "source": []
  },
  {
   "cell_type": "code",
   "execution_count": null,
   "id": "da78cbbb",
   "metadata": {
    "papermill": {
     "duration": 0.006617,
     "end_time": "2023-04-27T22:24:33.323699",
     "exception": false,
     "start_time": "2023-04-27T22:24:33.317082",
     "status": "completed"
    },
    "tags": []
   },
   "outputs": [],
   "source": []
  }
 ],
 "metadata": {
  "kernelspec": {
   "display_name": "Python 3",
   "language": "python",
   "name": "python3"
  },
  "language_info": {
   "codemirror_mode": {
    "name": "ipython",
    "version": 3
   },
   "file_extension": ".py",
   "mimetype": "text/x-python",
   "name": "python",
   "nbconvert_exporter": "python",
   "pygments_lexer": "ipython3",
   "version": "3.7.12"
  },
  "papermill": {
   "default_parameters": {},
   "duration": 27.096851,
   "end_time": "2023-04-27T22:24:34.155593",
   "environment_variables": {},
   "exception": null,
   "input_path": "__notebook__.ipynb",
   "output_path": "__notebook__.ipynb",
   "parameters": {},
   "start_time": "2023-04-27T22:24:07.058742",
   "version": "2.4.0"
  }
 },
 "nbformat": 4,
 "nbformat_minor": 5
}
