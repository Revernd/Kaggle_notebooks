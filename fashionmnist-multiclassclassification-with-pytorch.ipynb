{
 "cells": [
  {
   "cell_type": "markdown",
   "id": "e7e35689",
   "metadata": {
    "papermill": {
     "duration": 0.006624,
     "end_time": "2023-12-25T20:01:47.257205",
     "exception": false,
     "start_time": "2023-12-25T20:01:47.250581",
     "status": "completed"
    },
    "tags": []
   },
   "source": [
    "Fashion Forward is a new AI-based e-commerce clothing retailer.\n",
    "They want to use image classification to automatically categorize new product listings, making it easier for customers to find what they're looking for. It will also assist in inventory management by quickly sorting items.\n",
    "\n",
    "As a data scientist tasked with implementing a garment classifier, your primary objective is to develop a machine learning model capable of accurately categorizing images of clothing items into distinct garment types such as shirts, trousers, shoes, etc.\n"
   ]
  },
  {
   "cell_type": "markdown",
   "id": "664fd347",
   "metadata": {
    "papermill": {
     "duration": 0.005793,
     "end_time": "2023-12-25T20:01:47.269234",
     "exception": false,
     "start_time": "2023-12-25T20:01:47.263441",
     "status": "completed"
    },
    "tags": []
   },
   "source": [
    "## Importing Required Libraries"
   ]
  },
  {
   "cell_type": "code",
   "execution_count": 1,
   "id": "b30c2952",
   "metadata": {
    "execution": {
     "iopub.execute_input": "2023-12-25T20:01:47.282887Z",
     "iopub.status.busy": "2023-12-25T20:01:47.282526Z",
     "iopub.status.idle": "2023-12-25T20:01:54.411794Z",
     "shell.execute_reply": "2023-12-25T20:01:54.411012Z"
    },
    "executionCancelledAt": null,
    "executionTime": 51,
    "lastExecutedAt": 1703508909202,
    "lastScheduledRunId": null,
    "lastSuccessfullyExecutedCode": "import numpy as np\nimport torch\nimport torch.nn as nn\nimport torch.optim as optim\nfrom torch.utils.data import Dataset, DataLoader\nfrom torchmetrics import Accuracy, Precision, Recall",
    "papermill": {
     "duration": 7.138785,
     "end_time": "2023-12-25T20:01:54.414142",
     "exception": false,
     "start_time": "2023-12-25T20:01:47.275357",
     "status": "completed"
    },
    "tags": []
   },
   "outputs": [
    {
     "name": "stderr",
     "output_type": "stream",
     "text": [
      "/opt/conda/lib/python3.10/site-packages/scipy/__init__.py:146: UserWarning: A NumPy version >=1.16.5 and <1.23.0 is required for this version of SciPy (detected version 1.24.3\n",
      "  warnings.warn(f\"A NumPy version >={np_minversion} and <{np_maxversion}\"\n"
     ]
    }
   ],
   "source": [
    "import numpy as np\n",
    "import torch\n",
    "import torch.nn as nn\n",
    "import torch.optim as optim\n",
    "from torch.utils.data import Dataset, DataLoader\n",
    "from torchmetrics import Accuracy, Precision, Recall"
   ]
  },
  {
   "cell_type": "markdown",
   "id": "f92d9cd0",
   "metadata": {
    "papermill": {
     "duration": 0.006149,
     "end_time": "2023-12-25T20:01:54.427074",
     "exception": false,
     "start_time": "2023-12-25T20:01:54.420925",
     "status": "completed"
    },
    "tags": []
   },
   "source": [
    "## Loading the dataset"
   ]
  },
  {
   "cell_type": "code",
   "execution_count": 2,
   "id": "35d22e12",
   "metadata": {
    "execution": {
     "iopub.execute_input": "2023-12-25T20:01:54.441381Z",
     "iopub.status.busy": "2023-12-25T20:01:54.440663Z",
     "iopub.status.idle": "2023-12-25T20:01:59.742043Z",
     "shell.execute_reply": "2023-12-25T20:01:59.741040Z"
    },
    "executionCancelledAt": null,
    "executionTime": 62,
    "lastExecutedAt": 1703508909265,
    "lastScheduledRunId": null,
    "lastSuccessfullyExecutedCode": "# Load datasets\nfrom torchvision import datasets\nimport torchvision.transforms as transforms\n\ntrain_data = datasets.FashionMNIST(root='./data', train=True, download=True, transform=transforms.ToTensor())\ntest_data = datasets.FashionMNIST(root='./data', train=False, download=True, transform=transforms.ToTensor())",
    "outputsMetadata": {
     "0": {
      "height": 77,
      "type": "stream"
     },
     "2": {
      "height": 117,
      "type": "stream"
     },
     "4": {
      "height": 117,
      "type": "stream"
     },
     "6": {
      "height": 117,
      "type": "stream"
     },
     "8": {
      "height": 57,
      "type": "stream"
     }
    },
    "papermill": {
     "duration": 5.312031,
     "end_time": "2023-12-25T20:01:59.745217",
     "exception": false,
     "start_time": "2023-12-25T20:01:54.433186",
     "status": "completed"
    },
    "tags": []
   },
   "outputs": [
    {
     "name": "stdout",
     "output_type": "stream",
     "text": [
      "Downloading http://fashion-mnist.s3-website.eu-central-1.amazonaws.com/train-images-idx3-ubyte.gz\n",
      "Downloading http://fashion-mnist.s3-website.eu-central-1.amazonaws.com/train-images-idx3-ubyte.gz to ./data/FashionMNIST/raw/train-images-idx3-ubyte.gz\n"
     ]
    },
    {
     "name": "stderr",
     "output_type": "stream",
     "text": [
      "100%|██████████| 26421880/26421880 [00:01<00:00, 17182395.13it/s]\n"
     ]
    },
    {
     "name": "stdout",
     "output_type": "stream",
     "text": [
      "Extracting ./data/FashionMNIST/raw/train-images-idx3-ubyte.gz to ./data/FashionMNIST/raw\n",
      "\n",
      "Downloading http://fashion-mnist.s3-website.eu-central-1.amazonaws.com/train-labels-idx1-ubyte.gz\n",
      "Downloading http://fashion-mnist.s3-website.eu-central-1.amazonaws.com/train-labels-idx1-ubyte.gz to ./data/FashionMNIST/raw/train-labels-idx1-ubyte.gz\n"
     ]
    },
    {
     "name": "stderr",
     "output_type": "stream",
     "text": [
      "100%|██████████| 29515/29515 [00:00<00:00, 272384.97it/s]\n"
     ]
    },
    {
     "name": "stdout",
     "output_type": "stream",
     "text": [
      "Extracting ./data/FashionMNIST/raw/train-labels-idx1-ubyte.gz to ./data/FashionMNIST/raw\n",
      "\n",
      "Downloading http://fashion-mnist.s3-website.eu-central-1.amazonaws.com/t10k-images-idx3-ubyte.gz\n",
      "Downloading http://fashion-mnist.s3-website.eu-central-1.amazonaws.com/t10k-images-idx3-ubyte.gz to ./data/FashionMNIST/raw/t10k-images-idx3-ubyte.gz\n"
     ]
    },
    {
     "name": "stderr",
     "output_type": "stream",
     "text": [
      "100%|██████████| 4422102/4422102 [00:00<00:00, 5113692.85it/s]\n"
     ]
    },
    {
     "name": "stdout",
     "output_type": "stream",
     "text": [
      "Extracting ./data/FashionMNIST/raw/t10k-images-idx3-ubyte.gz to ./data/FashionMNIST/raw\n",
      "\n",
      "Downloading http://fashion-mnist.s3-website.eu-central-1.amazonaws.com/t10k-labels-idx1-ubyte.gz\n",
      "Downloading http://fashion-mnist.s3-website.eu-central-1.amazonaws.com/t10k-labels-idx1-ubyte.gz to ./data/FashionMNIST/raw/t10k-labels-idx1-ubyte.gz\n"
     ]
    },
    {
     "name": "stderr",
     "output_type": "stream",
     "text": [
      "100%|██████████| 5148/5148 [00:00<00:00, 10905190.40it/s]"
     ]
    },
    {
     "name": "stdout",
     "output_type": "stream",
     "text": [
      "Extracting ./data/FashionMNIST/raw/t10k-labels-idx1-ubyte.gz to ./data/FashionMNIST/raw\n",
      "\n"
     ]
    },
    {
     "name": "stderr",
     "output_type": "stream",
     "text": [
      "\n"
     ]
    }
   ],
   "source": [
    "# Load datasets\n",
    "from torchvision import datasets\n",
    "import torchvision.transforms as transforms\n",
    "\n",
    "train_data = datasets.FashionMNIST(root='./data', train=True, download=True, transform=transforms.ToTensor())\n",
    "test_data = datasets.FashionMNIST(root='./data', train=False, download=True, transform=transforms.ToTensor())"
   ]
  },
  {
   "cell_type": "markdown",
   "id": "0d1e54c6",
   "metadata": {
    "papermill": {
     "duration": 0.010608,
     "end_time": "2023-12-25T20:01:59.766371",
     "exception": false,
     "start_time": "2023-12-25T20:01:59.755763",
     "status": "completed"
    },
    "tags": []
   },
   "source": [
    "## Loading the data into DataLoader"
   ]
  },
  {
   "cell_type": "code",
   "execution_count": 3,
   "id": "5310886e",
   "metadata": {
    "execution": {
     "iopub.execute_input": "2023-12-25T20:01:59.789865Z",
     "iopub.status.busy": "2023-12-25T20:01:59.789255Z",
     "iopub.status.idle": "2023-12-25T20:01:59.794321Z",
     "shell.execute_reply": "2023-12-25T20:01:59.793429Z"
    },
    "executionCancelledAt": null,
    "executionTime": 52,
    "lastExecutedAt": 1703508909366,
    "lastScheduledRunId": null,
    "lastSuccessfullyExecutedCode": "num_classes = len(train_data.classes)\ndataloader_train = DataLoader(\n                            train_data,\n                            batch_size=10,\n                            shuffle=True)",
    "papermill": {
     "duration": 0.019008,
     "end_time": "2023-12-25T20:01:59.796412",
     "exception": false,
     "start_time": "2023-12-25T20:01:59.777404",
     "status": "completed"
    },
    "tags": []
   },
   "outputs": [],
   "source": [
    "classes = train_data.classes\n",
    "num_classes = len(train_data.classes)\n",
    "dataloader_train = DataLoader(\n",
    "                            train_data,\n",
    "                            batch_size=10,\n",
    "                            shuffle=True)"
   ]
  },
  {
   "cell_type": "code",
   "execution_count": 4,
   "id": "21493b68",
   "metadata": {
    "execution": {
     "iopub.execute_input": "2023-12-25T20:01:59.821954Z",
     "iopub.status.busy": "2023-12-25T20:01:59.821657Z",
     "iopub.status.idle": "2023-12-25T20:01:59.825996Z",
     "shell.execute_reply": "2023-12-25T20:01:59.825150Z"
    },
    "executionCancelledAt": null,
    "executionTime": 49,
    "lastExecutedAt": 1703508894149,
    "lastScheduledRunId": null,
    "lastSuccessfullyExecutedCode": "dataloader_test = DataLoader(\n                            test_data,\n                            batch_size=10,\n                            shuffle=True)",
    "papermill": {
     "duration": 0.018378,
     "end_time": "2023-12-25T20:01:59.828169",
     "exception": false,
     "start_time": "2023-12-25T20:01:59.809791",
     "status": "completed"
    },
    "tags": []
   },
   "outputs": [],
   "source": [
    "dataloader_test = DataLoader(\n",
    "                            test_data,\n",
    "                            batch_size=10,\n",
    "                            shuffle=True)"
   ]
  },
  {
   "cell_type": "markdown",
   "id": "acce8e90",
   "metadata": {
    "papermill": {
     "duration": 0.010132,
     "end_time": "2023-12-25T20:01:59.848555",
     "exception": false,
     "start_time": "2023-12-25T20:01:59.838423",
     "status": "completed"
    },
    "tags": []
   },
   "source": [
    "## Checking out the Training Data"
   ]
  },
  {
   "cell_type": "code",
   "execution_count": 5,
   "id": "bb933266",
   "metadata": {
    "execution": {
     "iopub.execute_input": "2023-12-25T20:01:59.871002Z",
     "iopub.status.busy": "2023-12-25T20:01:59.870295Z",
     "iopub.status.idle": "2023-12-25T20:02:01.308228Z",
     "shell.execute_reply": "2023-12-25T20:02:01.307300Z"
    },
    "papermill": {
     "duration": 1.451162,
     "end_time": "2023-12-25T20:02:01.310364",
     "exception": false,
     "start_time": "2023-12-25T20:01:59.859202",
     "status": "completed"
    },
    "tags": []
   },
   "outputs": [
    {
     "data": {
      "image/png": "[encoded data removed]",
      "text/plain": [
       "<Figure size 1000x1500 with 10 Axes>"
      ]
     },
     "metadata": {},
     "output_type": "display_data"
    }
   ],
   "source": [
    "images, labels = next(iter(dataloader_train))\n",
    "\n",
    "import matplotlib.pyplot as plt\n",
    "count = 1\n",
    "plt.figure(figsize=(10,15))\n",
    "for image, label in zip(images, labels):\n",
    "    plt.subplot(5, 5, count)\n",
    "    plt.title(classes[label.item()])\n",
    "    plt.imshow(image.squeeze(), cmap='gray')\n",
    "    count +=1\n",
    "plt.show()"
   ]
  },
  {
   "cell_type": "markdown",
   "id": "be031be8",
   "metadata": {
    "papermill": {
     "duration": 0.010329,
     "end_time": "2023-12-25T20:02:01.331258",
     "exception": false,
     "start_time": "2023-12-25T20:02:01.320929",
     "status": "completed"
    },
    "tags": []
   },
   "source": [
    "## Designing the Classifier Network"
   ]
  },
  {
   "cell_type": "code",
   "execution_count": 6,
   "id": "7947b6c8",
   "metadata": {
    "execution": {
     "iopub.execute_input": "2023-12-25T20:02:01.354327Z",
     "iopub.status.busy": "2023-12-25T20:02:01.354002Z",
     "iopub.status.idle": "2023-12-25T20:02:01.361030Z",
     "shell.execute_reply": "2023-12-25T20:02:01.360161Z"
    },
    "executionCancelledAt": null,
    "executionTime": 47,
    "lastExecutedAt": 1703508909313,
    "lastScheduledRunId": null,
    "lastSuccessfullyExecutedCode": "# Start coding here\n# Use as many cells as you need\n\n\nclass FashionClassifier(nn.Module):\n    def __init__(self, num_classes):\n        super(FashionClassifier, self).__init__()\n        self.feature_extracter = nn.Sequential(\n                                    nn.Conv2d(1, 16, kernel_size=3, stride=1, padding=1),\n                                    nn.ReLU(),\n                                    nn.MaxPool2d(kernel_size=2, stride=2),\n                                    nn.Flatten())\n        self.classifier = nn.Sequential(\n                                    nn.Linear(16 * 14 * 14, num_classes))  # Adjust the input size here\n\n    def forward(self, x):\n        x = self.feature_extracter(x)\n        x = self.classifier(x)\n        return x\n",
    "papermill": {
     "duration": 0.021127,
     "end_time": "2023-12-25T20:02:01.363119",
     "exception": false,
     "start_time": "2023-12-25T20:02:01.341992",
     "status": "completed"
    },
    "tags": []
   },
   "outputs": [],
   "source": [
    "\n",
    "\n",
    "class FashionClassifier(nn.Module):\n",
    "    def __init__(self, num_classes):\n",
    "        super(FashionClassifier, self).__init__()\n",
    "        self.feature_extracter = nn.Sequential(\n",
    "                                    nn.Conv2d(1, 32, kernel_size=3, stride=1, padding=1),\n",
    "                                    nn.ReLU(),\n",
    "                                    nn.MaxPool2d(kernel_size=2, stride=2),\n",
    "                                    nn.Flatten())\n",
    "        self.classifier = nn.Sequential(\n",
    "                                    nn.Linear(32 * 14 * 14, num_classes),\n",
    "                                    nn.Softmax(dim=1))  # Adjust the input size here\n",
    "\n",
    "    def forward(self, x):\n",
    "        x = self.feature_extracter(x)\n",
    "        x = self.classifier(x)\n",
    "        return x\n"
   ]
  },
  {
   "cell_type": "markdown",
   "id": "7796b5d0",
   "metadata": {
    "papermill": {
     "duration": 0.011356,
     "end_time": "2023-12-25T20:02:01.384988",
     "exception": false,
     "start_time": "2023-12-25T20:02:01.373632",
     "status": "completed"
    },
    "tags": []
   },
   "source": [
    "## Initializng the Network Module"
   ]
  },
  {
   "cell_type": "code",
   "execution_count": 7,
   "id": "109a6a45",
   "metadata": {
    "execution": {
     "iopub.execute_input": "2023-12-25T20:02:01.407037Z",
     "iopub.status.busy": "2023-12-25T20:02:01.406705Z",
     "iopub.status.idle": "2023-12-25T20:02:01.416226Z",
     "shell.execute_reply": "2023-12-25T20:02:01.415426Z"
    },
    "executionCancelledAt": null,
    "executionTime": 48,
    "lastExecutedAt": 1703508909415,
    "lastScheduledRunId": null,
    "lastSuccessfullyExecutedCode": "net = FashionClassifier(num_classes)\n\nnet",
    "papermill": {
     "duration": 0.022575,
     "end_time": "2023-12-25T20:02:01.418051",
     "exception": false,
     "start_time": "2023-12-25T20:02:01.395476",
     "status": "completed"
    },
    "tags": []
   },
   "outputs": [
    {
     "data": {
      "text/plain": [
       "FashionClassifier(\n",
       "  (feature_extracter): Sequential(\n",
       "    (0): Conv2d(1, 32, kernel_size=(3, 3), stride=(1, 1), padding=(1, 1))\n",
       "    (1): ReLU()\n",
       "    (2): MaxPool2d(kernel_size=2, stride=2, padding=0, dilation=1, ceil_mode=False)\n",
       "    (3): Flatten(start_dim=1, end_dim=-1)\n",
       "  )\n",
       "  (classifier): Sequential(\n",
       "    (0): Linear(in_features=6272, out_features=10, bias=True)\n",
       "    (1): Softmax(dim=1)\n",
       "  )\n",
       ")"
      ]
     },
     "execution_count": 7,
     "metadata": {},
     "output_type": "execute_result"
    }
   ],
   "source": [
    "net = FashionClassifier(num_classes)\n",
    "net"
   ]
  },
  {
   "cell_type": "markdown",
   "id": "75d05e97",
   "metadata": {
    "papermill": {
     "duration": 0.011316,
     "end_time": "2023-12-25T20:02:01.440051",
     "exception": false,
     "start_time": "2023-12-25T20:02:01.428735",
     "status": "completed"
    },
    "tags": []
   },
   "source": [
    "## Training the network"
   ]
  },
  {
   "cell_type": "code",
   "execution_count": 8,
   "id": "fc2a4438",
   "metadata": {
    "execution": {
     "iopub.execute_input": "2023-12-25T20:02:01.463260Z",
     "iopub.status.busy": "2023-12-25T20:02:01.462428Z",
     "iopub.status.idle": "2023-12-25T20:06:21.246114Z",
     "shell.execute_reply": "2023-12-25T20:06:21.245163Z"
    },
    "executionCancelledAt": null,
    "executionTime": null,
    "lastExecutedAt": null,
    "lastScheduledRunId": null,
    "lastSuccessfullyExecutedCode": null,
    "outputsMetadata": {
     "0": {
      "height": 37,
      "type": "stream"
     }
    },
    "papermill": {
     "duration": 259.808549,
     "end_time": "2023-12-25T20:06:21.259571",
     "exception": false,
     "start_time": "2023-12-25T20:02:01.451022",
     "status": "completed"
    },
    "tags": []
   },
   "outputs": [
    {
     "name": "stdout",
     "output_type": "stream",
     "text": [
      "Epoch 1: loss 0.1760077178478241\n",
      "Epoch 2: loss 0.16474035382270813\n",
      "Epoch 3: loss 0.1566665917634964\n",
      "Epoch 4: loss 0.1558217704296112\n",
      "Epoch 5: loss 0.15525583922863007\n",
      "Epoch 6: loss 0.15476331114768982\n",
      "Epoch 7: loss 0.1543571501970291\n",
      "Epoch 8: loss 0.15404649078845978\n",
      "Epoch 9: loss 0.15377570688724518\n",
      "Epoch 10: loss 0.15360179543495178\n"
     ]
    }
   ],
   "source": [
    "optimizer = optim.Adam(net.parameters(), lr=0.001)\n",
    "criterion = nn.CrossEntropyLoss()\n",
    "\n",
    "for epoch in range(10):  # Change the loop variable\n",
    "    losses = 0\n",
    "    steps = 0\n",
    "    for images, labels in dataloader_train:\n",
    "        optimizer.zero_grad()\n",
    "        outputs = net(images)  # Add unsqueeze to add batch dimension\n",
    "        loss = criterion(outputs, labels)  # Convert labels to tensor\n",
    "        loss.backward()\n",
    "        optimizer.step()\n",
    "        losses+=loss\n",
    "        steps += len(labels)\n",
    "    print(f\"Epoch {epoch+1}: loss {losses/steps}\")\n",
    "\n"
   ]
  },
  {
   "cell_type": "markdown",
   "id": "7e7f6ee1",
   "metadata": {
    "papermill": {
     "duration": 0.010861,
     "end_time": "2023-12-25T20:06:21.281649",
     "exception": false,
     "start_time": "2023-12-25T20:06:21.270788",
     "status": "completed"
    },
    "tags": []
   },
   "source": [
    "## Defining metrics for Test Data Performance"
   ]
  },
  {
   "cell_type": "code",
   "execution_count": 9,
   "id": "91886d9b",
   "metadata": {
    "execution": {
     "iopub.execute_input": "2023-12-25T20:06:21.304885Z",
     "iopub.status.busy": "2023-12-25T20:06:21.304560Z",
     "iopub.status.idle": "2023-12-25T20:06:21.314333Z",
     "shell.execute_reply": "2023-12-25T20:06:21.313493Z"
    },
    "executionCancelledAt": null,
    "executionTime": 56,
    "lastExecutedAt": 1703508894206,
    "lastScheduledRunId": null,
    "lastSuccessfullyExecutedCode": "accuracy_metric = Accuracy(task='multiclass', num_classes=num_classes)\nprecision_metric = Precision(task='multiclass', num_classes=num_classes, average='none')\nrecall_metric = Recall(task='multiclass', num_classes=num_classes, average='none')\n",
    "papermill": {
     "duration": 0.023731,
     "end_time": "2023-12-25T20:06:21.316323",
     "exception": false,
     "start_time": "2023-12-25T20:06:21.292592",
     "status": "completed"
    },
    "tags": []
   },
   "outputs": [],
   "source": [
    "accuracy_metric = Accuracy(task='multiclass', num_classes=num_classes)\n",
    "precision_metric = Precision(task='multiclass', num_classes=num_classes, average='none')\n",
    "recall_metric = Recall(task='multiclass', num_classes=num_classes, average='none')\n"
   ]
  },
  {
   "cell_type": "markdown",
   "id": "dc9db63c",
   "metadata": {
    "papermill": {
     "duration": 0.011258,
     "end_time": "2023-12-25T20:06:21.339079",
     "exception": false,
     "start_time": "2023-12-25T20:06:21.327821",
     "status": "completed"
    },
    "tags": []
   },
   "source": [
    "## Testing the Model"
   ]
  },
  {
   "cell_type": "code",
   "execution_count": 10,
   "id": "9a9086f9",
   "metadata": {
    "execution": {
     "iopub.execute_input": "2023-12-25T20:06:21.362874Z",
     "iopub.status.busy": "2023-12-25T20:06:21.362062Z",
     "iopub.status.idle": "2023-12-25T20:06:25.219654Z",
     "shell.execute_reply": "2023-12-25T20:06:25.218718Z"
    },
    "executionCancelledAt": null,
    "executionTime": 9449,
    "lastExecutedAt": 1703508903703,
    "lastScheduledRunId": null,
    "lastSuccessfullyExecutedCode": "predictions = []\n\nnet.eval()\nwith torch.no_grad():\n    for images, labels in dataloader_test:\n        outputs = net(images)\n        cat = torch.argmax(outputs, 1)\n        predictions.extend(cat.tolist())\n        accuracy_metric(cat, labels)\n        precision_metric(cat, labels)\n        recall_metric(cat, labels)\n        \naccuracy = accuracy_metric.compute().item()\nprecision = precision_metric.compute().tolist()\nrecall = recall_metric.compute().tolist()\n\naccuracy, precision, recall, predictions",
    "papermill": {
     "duration": 3.871549,
     "end_time": "2023-12-25T20:06:25.221798",
     "exception": false,
     "start_time": "2023-12-25T20:06:21.350249",
     "status": "completed"
    },
    "tags": []
   },
   "outputs": [
    {
     "name": "stdout",
     "output_type": "stream",
     "text": [
      "Accuracy: 0.9002000093460083\n",
      "Precision: [0.8539553880691528, 0.9838220477104187, 0.8825430870056152, 0.8726415038108826, 0.8727465271949768, 0.9887179732322693, 0.6866484880447388, 0.9499509334564209, 0.9717457294464111, 0.961309552192688]\n",
      "Recall: [0.8420000076293945, 0.9729999899864197, 0.8190000057220459, 0.925000011920929, 0.8230000138282776, 0.9639999866485596, 0.7559999823570251, 0.9679999947547913, 0.9629999995231628, 0.968999981880188]\n"
     ]
    }
   ],
   "source": [
    "predictions = []\n",
    "\n",
    "net.eval()\n",
    "with torch.no_grad():\n",
    "    for images, labels in dataloader_test:\n",
    "        outputs = net(images)\n",
    "        cat = torch.argmax(outputs, 1)\n",
    "        predictions.extend(cat.tolist())\n",
    "        accuracy_metric(cat, labels)\n",
    "        precision_metric(cat, labels)\n",
    "        recall_metric(cat, labels)\n",
    "        \n",
    "accuracy = accuracy_metric.compute().item()\n",
    "precision = precision_metric.compute().tolist()\n",
    "recall = recall_metric.compute().tolist()\n",
    "\n",
    "print(f\"Accuracy: {accuracy}\\nPrecision: {precision}\\nRecall: {recall}\")"
   ]
  },
  {
   "cell_type": "code",
   "execution_count": 11,
   "id": "9fed6b84",
   "metadata": {
    "execution": {
     "iopub.execute_input": "2023-12-25T20:06:25.246492Z",
     "iopub.status.busy": "2023-12-25T20:06:25.246197Z",
     "iopub.status.idle": "2023-12-25T20:06:25.255166Z",
     "shell.execute_reply": "2023-12-25T20:06:25.254310Z"
    },
    "papermill": {
     "duration": 0.023312,
     "end_time": "2023-12-25T20:06:25.257019",
     "exception": false,
     "start_time": "2023-12-25T20:06:25.233707",
     "status": "completed"
    },
    "tags": []
   },
   "outputs": [],
   "source": [
    "torch.save(net.state_dict(), \"FashionClassifier.pt\")"
   ]
  },
  {
   "cell_type": "code",
   "execution_count": null,
   "id": "7b771291",
   "metadata": {
    "papermill": {
     "duration": 0.010918,
     "end_time": "2023-12-25T20:06:25.279175",
     "exception": false,
     "start_time": "2023-12-25T20:06:25.268257",
     "status": "completed"
    },
    "tags": []
   },
   "outputs": [],
   "source": []
  },
  {
   "cell_type": "code",
   "execution_count": null,
   "id": "bb9a7406",
   "metadata": {
    "papermill": {
     "duration": 0.010756,
     "end_time": "2023-12-25T20:06:25.300883",
     "exception": false,
     "start_time": "2023-12-25T20:06:25.290127",
     "status": "completed"
    },
    "tags": []
   },
   "outputs": [],
   "source": []
  }
 ],
 "metadata": {
  "editor": "DataCamp Workspace",
  "kaggle": {
   "accelerator": "nvidiaTeslaT4",
   "dataSources": [],
   "dockerImageVersionId": 30627,
   "isGpuEnabled": true,
   "isInternetEnabled": true,
   "language": "python",
   "sourceType": "notebook"
  },
  "kernelspec": {
   "display_name": "Python 3",
   "language": "python",
   "name": "python3"
  },
  "language_info": {
   "codemirror_mode": {
    "name": "ipython",
    "version": 3
   },
   "file_extension": ".py",
   "mimetype": "text/x-python",
   "name": "python",
   "nbconvert_exporter": "python",
   "pygments_lexer": "ipython3",
   "version": "3.10.12"
  },
  "papermill": {
   "default_parameters": {},
   "duration": 284.829298,
   "end_time": "2023-12-25T20:06:28.381634",
   "environment_variables": {},
   "exception": null,
   "input_path": "__notebook__.ipynb",
   "output_path": "__notebook__.ipynb",
   "parameters": {},
   "start_time": "2023-12-25T20:01:43.552336",
   "version": "2.4.0"
  }
 },
 "nbformat": 4,
 "nbformat_minor": 5
}
