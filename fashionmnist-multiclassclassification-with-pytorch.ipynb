{
 "cells": [
  {
   "cell_type": "markdown",
   "id": "13a4ef83",
   "metadata": {
    "papermill": {
     "duration": 0.006214,
     "end_time": "2023-12-25T18:30:41.232448",
     "exception": false,
     "start_time": "2023-12-25T18:30:41.226234",
     "status": "completed"
    },
    "tags": []
   },
   "source": [
    "Fashion Forward is a new AI-based e-commerce clothing retailer.\n",
    "They want to use image classification to automatically categorize new product listings, making it easier for customers to find what they're looking for. It will also assist in inventory management by quickly sorting items.\n",
    "\n",
    "As a data scientist tasked with implementing a garment classifier, your primary objective is to develop a machine learning model capable of accurately categorizing images of clothing items into distinct garment types such as shirts, trousers, shoes, etc.\n"
   ]
  },
  {
   "cell_type": "code",
   "execution_count": 1,
   "id": "1c557a80",
   "metadata": {
    "execution": {
     "iopub.execute_input": "2023-12-25T18:30:41.246854Z",
     "iopub.status.busy": "2023-12-25T18:30:41.246116Z",
     "iopub.status.idle": "2023-12-25T18:30:41.251005Z",
     "shell.execute_reply": "2023-12-25T18:30:41.250065Z"
    },
    "executionCancelledAt": null,
    "executionTime": 45,
    "lastExecutedAt": 1703508903805,
    "lastScheduledRunId": null,
    "lastSuccessfullyExecutedCode": "# Run the cells below first",
    "papermill": {
     "duration": 0.014743,
     "end_time": "2023-12-25T18:30:41.253449",
     "exception": false,
     "start_time": "2023-12-25T18:30:41.238706",
     "status": "completed"
    },
    "tags": []
   },
   "outputs": [],
   "source": [
    "# Run the cells below first"
   ]
  },
  {
   "cell_type": "code",
   "execution_count": 2,
   "id": "a7ec52cd",
   "metadata": {
    "execution": {
     "iopub.execute_input": "2023-12-25T18:30:41.267842Z",
     "iopub.status.busy": "2023-12-25T18:30:41.267254Z",
     "iopub.status.idle": "2023-12-25T18:30:57.071907Z",
     "shell.execute_reply": "2023-12-25T18:30:57.070823Z"
    },
    "executionCancelledAt": null,
    "executionTime": 5344,
    "lastExecutedAt": 1703508909150,
    "lastScheduledRunId": null,
    "lastSuccessfullyExecutedCode": "!pip install torchmetrics",
    "outputsMetadata": {
     "0": {
      "height": 597,
      "type": "stream"
     }
    },
    "papermill": {
     "duration": 15.814904,
     "end_time": "2023-12-25T18:30:57.074562",
     "exception": false,
     "start_time": "2023-12-25T18:30:41.259658",
     "status": "completed"
    },
    "tags": []
   },
   "outputs": [
    {
     "name": "stdout",
     "output_type": "stream",
     "text": [
      "Requirement already satisfied: torchmetrics in /opt/conda/lib/python3.10/site-packages (1.2.1)\r\n",
      "Requirement already satisfied: numpy>1.20.0 in /opt/conda/lib/python3.10/site-packages (from torchmetrics) (1.24.3)\r\n",
      "Requirement already satisfied: packaging>17.1 in /opt/conda/lib/python3.10/site-packages (from torchmetrics) (21.3)\r\n",
      "Requirement already satisfied: torch>=1.8.1 in /opt/conda/lib/python3.10/site-packages (from torchmetrics) (2.0.0+cpu)\r\n",
      "Requirement already satisfied: lightning-utilities>=0.8.0 in /opt/conda/lib/python3.10/site-packages (from torchmetrics) (0.10.0)\r\n",
      "Requirement already satisfied: setuptools in /opt/conda/lib/python3.10/site-packages (from lightning-utilities>=0.8.0->torchmetrics) (68.1.2)\r\n",
      "Requirement already satisfied: typing-extensions in /opt/conda/lib/python3.10/site-packages (from lightning-utilities>=0.8.0->torchmetrics) (4.5.0)\r\n",
      "Requirement already satisfied: pyparsing!=3.0.5,>=2.0.2 in /opt/conda/lib/python3.10/site-packages (from packaging>17.1->torchmetrics) (3.0.9)\r\n",
      "Requirement already satisfied: filelock in /opt/conda/lib/python3.10/site-packages (from torch>=1.8.1->torchmetrics) (3.12.2)\r\n",
      "Requirement already satisfied: sympy in /opt/conda/lib/python3.10/site-packages (from torch>=1.8.1->torchmetrics) (1.12)\r\n",
      "Requirement already satisfied: networkx in /opt/conda/lib/python3.10/site-packages (from torch>=1.8.1->torchmetrics) (3.1)\r\n",
      "Requirement already satisfied: jinja2 in /opt/conda/lib/python3.10/site-packages (from torch>=1.8.1->torchmetrics) (3.1.2)\r\n",
      "Requirement already satisfied: MarkupSafe>=2.0 in /opt/conda/lib/python3.10/site-packages (from jinja2->torch>=1.8.1->torchmetrics) (2.1.3)\r\n",
      "Requirement already satisfied: mpmath>=0.19 in /opt/conda/lib/python3.10/site-packages (from sympy->torch>=1.8.1->torchmetrics) (1.3.0)\r\n"
     ]
    }
   ],
   "source": [
    "!pip install torchmetrics"
   ]
  },
  {
   "cell_type": "code",
   "execution_count": 3,
   "id": "99651dcc",
   "metadata": {
    "execution": {
     "iopub.execute_input": "2023-12-25T18:30:57.091510Z",
     "iopub.status.busy": "2023-12-25T18:30:57.090991Z",
     "iopub.status.idle": "2023-12-25T18:31:05.097800Z",
     "shell.execute_reply": "2023-12-25T18:31:05.096593Z"
    },
    "executionCancelledAt": null,
    "executionTime": 51,
    "lastExecutedAt": 1703508909202,
    "lastScheduledRunId": null,
    "lastSuccessfullyExecutedCode": "import numpy as np\nimport torch\nimport torch.nn as nn\nimport torch.optim as optim\nfrom torch.utils.data import Dataset, DataLoader\nfrom torchmetrics import Accuracy, Precision, Recall",
    "papermill": {
     "duration": 8.019419,
     "end_time": "2023-12-25T18:31:05.100754",
     "exception": false,
     "start_time": "2023-12-25T18:30:57.081335",
     "status": "completed"
    },
    "tags": []
   },
   "outputs": [],
   "source": [
    "import numpy as np\n",
    "import torch\n",
    "import torch.nn as nn\n",
    "import torch.optim as optim\n",
    "from torch.utils.data import Dataset, DataLoader\n",
    "from torchmetrics import Accuracy, Precision, Recall"
   ]
  },
  {
   "cell_type": "code",
   "execution_count": 4,
   "id": "733d2042",
   "metadata": {
    "execution": {
     "iopub.execute_input": "2023-12-25T18:31:05.116377Z",
     "iopub.status.busy": "2023-12-25T18:31:05.115798Z",
     "iopub.status.idle": "2023-12-25T18:31:11.115612Z",
     "shell.execute_reply": "2023-12-25T18:31:11.114265Z"
    },
    "executionCancelledAt": null,
    "executionTime": 62,
    "lastExecutedAt": 1703508909265,
    "lastScheduledRunId": null,
    "lastSuccessfullyExecutedCode": "# Load datasets\nfrom torchvision import datasets\nimport torchvision.transforms as transforms\n\ntrain_data = datasets.FashionMNIST(root='./data', train=True, download=True, transform=transforms.ToTensor())\ntest_data = datasets.FashionMNIST(root='./data', train=False, download=True, transform=transforms.ToTensor())",
    "outputsMetadata": {
     "0": {
      "height": 77,
      "type": "stream"
     },
     "2": {
      "height": 117,
      "type": "stream"
     },
     "4": {
      "height": 117,
      "type": "stream"
     },
     "6": {
      "height": 117,
      "type": "stream"
     },
     "8": {
      "height": 57,
      "type": "stream"
     }
    },
    "papermill": {
     "duration": 6.012249,
     "end_time": "2023-12-25T18:31:11.119357",
     "exception": false,
     "start_time": "2023-12-25T18:31:05.107108",
     "status": "completed"
    },
    "tags": []
   },
   "outputs": [
    {
     "name": "stdout",
     "output_type": "stream",
     "text": [
      "Downloading http://fashion-mnist.s3-website.eu-central-1.amazonaws.com/train-images-idx3-ubyte.gz\n",
      "Downloading http://fashion-mnist.s3-website.eu-central-1.amazonaws.com/train-images-idx3-ubyte.gz to ./data/FashionMNIST/raw/train-images-idx3-ubyte.gz\n"
     ]
    },
    {
     "name": "stderr",
     "output_type": "stream",
     "text": [
      "100%|██████████| 26421880/26421880 [00:02<00:00, 12453082.07it/s]\n"
     ]
    },
    {
     "name": "stdout",
     "output_type": "stream",
     "text": [
      "Extracting ./data/FashionMNIST/raw/train-images-idx3-ubyte.gz to ./data/FashionMNIST/raw\n",
      "\n",
      "Downloading http://fashion-mnist.s3-website.eu-central-1.amazonaws.com/train-labels-idx1-ubyte.gz\n",
      "Downloading http://fashion-mnist.s3-website.eu-central-1.amazonaws.com/train-labels-idx1-ubyte.gz to ./data/FashionMNIST/raw/train-labels-idx1-ubyte.gz\n"
     ]
    },
    {
     "name": "stderr",
     "output_type": "stream",
     "text": [
      "100%|██████████| 29515/29515 [00:00<00:00, 270579.26it/s]\n"
     ]
    },
    {
     "name": "stdout",
     "output_type": "stream",
     "text": [
      "Extracting ./data/FashionMNIST/raw/train-labels-idx1-ubyte.gz to ./data/FashionMNIST/raw\n",
      "\n",
      "Downloading http://fashion-mnist.s3-website.eu-central-1.amazonaws.com/t10k-images-idx3-ubyte.gz\n",
      "Downloading http://fashion-mnist.s3-website.eu-central-1.amazonaws.com/t10k-images-idx3-ubyte.gz to ./data/FashionMNIST/raw/t10k-images-idx3-ubyte.gz\n"
     ]
    },
    {
     "name": "stderr",
     "output_type": "stream",
     "text": [
      "100%|██████████| 4422102/4422102 [00:00<00:00, 5010021.35it/s]\n"
     ]
    },
    {
     "name": "stdout",
     "output_type": "stream",
     "text": [
      "Extracting ./data/FashionMNIST/raw/t10k-images-idx3-ubyte.gz to ./data/FashionMNIST/raw\n",
      "\n",
      "Downloading http://fashion-mnist.s3-website.eu-central-1.amazonaws.com/t10k-labels-idx1-ubyte.gz\n",
      "Downloading http://fashion-mnist.s3-website.eu-central-1.amazonaws.com/t10k-labels-idx1-ubyte.gz to ./data/FashionMNIST/raw/t10k-labels-idx1-ubyte.gz\n"
     ]
    },
    {
     "name": "stderr",
     "output_type": "stream",
     "text": [
      "100%|██████████| 5148/5148 [00:00<00:00, 13894644.14it/s]"
     ]
    },
    {
     "name": "stdout",
     "output_type": "stream",
     "text": [
      "Extracting ./data/FashionMNIST/raw/t10k-labels-idx1-ubyte.gz to ./data/FashionMNIST/raw\n",
      "\n"
     ]
    },
    {
     "name": "stderr",
     "output_type": "stream",
     "text": [
      "\n"
     ]
    }
   ],
   "source": [
    "# Load datasets\n",
    "from torchvision import datasets\n",
    "import torchvision.transforms as transforms\n",
    "\n",
    "train_data = datasets.FashionMNIST(root='./data', train=True, download=True, transform=transforms.ToTensor())\n",
    "test_data = datasets.FashionMNIST(root='./data', train=False, download=True, transform=transforms.ToTensor())"
   ]
  },
  {
   "cell_type": "code",
   "execution_count": 5,
   "id": "1ee2a01a",
   "metadata": {
    "execution": {
     "iopub.execute_input": "2023-12-25T18:31:11.145897Z",
     "iopub.status.busy": "2023-12-25T18:31:11.145385Z",
     "iopub.status.idle": "2023-12-25T18:31:11.154852Z",
     "shell.execute_reply": "2023-12-25T18:31:11.153552Z"
    },
    "executionCancelledAt": null,
    "executionTime": 47,
    "lastExecutedAt": 1703508909313,
    "lastScheduledRunId": null,
    "lastSuccessfullyExecutedCode": "# Start coding here\n# Use as many cells as you need\n\n\nclass FashionClassifier(nn.Module):\n    def __init__(self, num_classes):\n        super(FashionClassifier, self).__init__()\n        self.feature_extracter = nn.Sequential(\n                                    nn.Conv2d(1, 16, kernel_size=3, stride=1, padding=1),\n                                    nn.ReLU(),\n                                    nn.MaxPool2d(kernel_size=2, stride=2),\n                                    nn.Flatten())\n        self.classifier = nn.Sequential(\n                                    nn.Linear(16 * 14 * 14, num_classes))  # Adjust the input size here\n\n    def forward(self, x):\n        x = self.feature_extracter(x)\n        x = self.classifier(x)\n        return x\n",
    "papermill": {
     "duration": 0.027035,
     "end_time": "2023-12-25T18:31:11.157560",
     "exception": false,
     "start_time": "2023-12-25T18:31:11.130525",
     "status": "completed"
    },
    "tags": []
   },
   "outputs": [],
   "source": [
    "\n",
    "\n",
    "class FashionClassifier(nn.Module):\n",
    "    def __init__(self, num_classes):\n",
    "        super(FashionClassifier, self).__init__()\n",
    "        self.feature_extracter = nn.Sequential(\n",
    "                                    nn.Conv2d(1, 16, kernel_size=3, stride=1, padding=1),\n",
    "                                    nn.ReLU(),\n",
    "                                    nn.MaxPool2d(kernel_size=2, stride=2),\n",
    "                                    nn.Flatten())\n",
    "        self.classifier = nn.Sequential(\n",
    "                                    nn.Linear(16 * 14 * 14, num_classes),\n",
    "                                    nn.Softmax())  # Adjust the input size here\n",
    "\n",
    "    def forward(self, x):\n",
    "        x = self.feature_extracter(x)\n",
    "        x = self.classifier(x)\n",
    "        return x\n"
   ]
  },
  {
   "cell_type": "code",
   "execution_count": 6,
   "id": "9ebb5d25",
   "metadata": {
    "execution": {
     "iopub.execute_input": "2023-12-25T18:31:11.182693Z",
     "iopub.status.busy": "2023-12-25T18:31:11.182271Z",
     "iopub.status.idle": "2023-12-25T18:31:11.188041Z",
     "shell.execute_reply": "2023-12-25T18:31:11.187229Z"
    },
    "executionCancelledAt": null,
    "executionTime": 52,
    "lastExecutedAt": 1703508909366,
    "lastScheduledRunId": null,
    "lastSuccessfullyExecutedCode": "num_classes = len(train_data.classes)\ndataloader_train = DataLoader(\n                            train_data,\n                            batch_size=10,\n                            shuffle=True)",
    "papermill": {
     "duration": 0.020661,
     "end_time": "2023-12-25T18:31:11.190376",
     "exception": false,
     "start_time": "2023-12-25T18:31:11.169715",
     "status": "completed"
    },
    "tags": []
   },
   "outputs": [],
   "source": [
    "num_classes = len(train_data.classes)\n",
    "dataloader_train = DataLoader(\n",
    "                            train_data,\n",
    "                            batch_size=10,\n",
    "                            shuffle=True)"
   ]
  },
  {
   "cell_type": "code",
   "execution_count": 7,
   "id": "cf5539d2",
   "metadata": {
    "execution": {
     "iopub.execute_input": "2023-12-25T18:31:11.214932Z",
     "iopub.status.busy": "2023-12-25T18:31:11.213855Z",
     "iopub.status.idle": "2023-12-25T18:31:11.234927Z",
     "shell.execute_reply": "2023-12-25T18:31:11.233510Z"
    },
    "executionCancelledAt": null,
    "executionTime": 48,
    "lastExecutedAt": 1703508909415,
    "lastScheduledRunId": null,
    "lastSuccessfullyExecutedCode": "net = FashionClassifier(num_classes)\n\nnet",
    "papermill": {
     "duration": 0.03625,
     "end_time": "2023-12-25T18:31:11.237711",
     "exception": false,
     "start_time": "2023-12-25T18:31:11.201461",
     "status": "completed"
    },
    "tags": []
   },
   "outputs": [
    {
     "data": {
      "text/plain": [
       "FashionClassifier(\n",
       "  (feature_extracter): Sequential(\n",
       "    (0): Conv2d(1, 16, kernel_size=(3, 3), stride=(1, 1), padding=(1, 1))\n",
       "    (1): ReLU()\n",
       "    (2): MaxPool2d(kernel_size=2, stride=2, padding=0, dilation=1, ceil_mode=False)\n",
       "    (3): Flatten(start_dim=1, end_dim=-1)\n",
       "  )\n",
       "  (classifier): Sequential(\n",
       "    (0): Linear(in_features=3136, out_features=10, bias=True)\n",
       "    (1): Softmax(dim=None)\n",
       "  )\n",
       ")"
      ]
     },
     "execution_count": 7,
     "metadata": {},
     "output_type": "execute_result"
    }
   ],
   "source": [
    "net = FashionClassifier(num_classes)\n",
    "\n",
    "net"
   ]
  },
  {
   "cell_type": "code",
   "execution_count": 8,
   "id": "e491fbb9",
   "metadata": {
    "execution": {
     "iopub.execute_input": "2023-12-25T18:31:11.262011Z",
     "iopub.status.busy": "2023-12-25T18:31:11.261543Z",
     "iopub.status.idle": "2023-12-25T18:32:06.416464Z",
     "shell.execute_reply": "2023-12-25T18:32:06.415254Z"
    },
    "executionCancelledAt": null,
    "executionTime": null,
    "lastExecutedAt": null,
    "lastScheduledRunId": null,
    "lastSuccessfullyExecutedCode": null,
    "outputsMetadata": {
     "0": {
      "height": 37,
      "type": "stream"
     }
    },
    "papermill": {
     "duration": 55.181593,
     "end_time": "2023-12-25T18:32:06.430590",
     "exception": false,
     "start_time": "2023-12-25T18:31:11.248997",
     "status": "completed"
    },
    "tags": []
   },
   "outputs": [
    {
     "name": "stderr",
     "output_type": "stream",
     "text": [
      "/opt/conda/lib/python3.10/site-packages/torch/nn/modules/container.py:217: UserWarning: Implicit dimension choice for softmax has been deprecated. Change the call to include dim=X as an argument.\n",
      "  input = module(input)\n"
     ]
    },
    {
     "name": "stdout",
     "output_type": "stream",
     "text": [
      "Epoch 1: loss 0.16391554474830627\n",
      "Epoch 2: loss 0.15867219865322113\n"
     ]
    }
   ],
   "source": [
    "optimizer = optim.Adam(net.parameters(), lr=0.001)\n",
    "criterion = nn.CrossEntropyLoss()\n",
    "\n",
    "for epoch in range(2):  # Change the loop variable\n",
    "    losses = 0\n",
    "    steps = 0\n",
    "    for images, labels in dataloader_train:\n",
    "        optimizer.zero_grad()\n",
    "        outputs = net(images)  # Add unsqueeze to add batch dimension\n",
    "        loss = criterion(outputs, labels)  # Convert labels to tensor\n",
    "        loss.backward()\n",
    "        optimizer.step()\n",
    "        losses+=loss\n",
    "        steps += len(labels)\n",
    "    print(f\"Epoch {epoch+1}: loss {losses/steps}\")\n",
    "\n"
   ]
  },
  {
   "cell_type": "code",
   "execution_count": 9,
   "id": "7ca0f4f5",
   "metadata": {
    "execution": {
     "iopub.execute_input": "2023-12-25T18:32:06.456476Z",
     "iopub.status.busy": "2023-12-25T18:32:06.456024Z",
     "iopub.status.idle": "2023-12-25T18:32:06.461681Z",
     "shell.execute_reply": "2023-12-25T18:32:06.460506Z"
    },
    "executionCancelledAt": null,
    "executionTime": 49,
    "lastExecutedAt": 1703508894149,
    "lastScheduledRunId": null,
    "lastSuccessfullyExecutedCode": "dataloader_test = DataLoader(\n                            test_data,\n                            batch_size=10,\n                            shuffle=True)",
    "papermill": {
     "duration": 0.022279,
     "end_time": "2023-12-25T18:32:06.464583",
     "exception": false,
     "start_time": "2023-12-25T18:32:06.442304",
     "status": "completed"
    },
    "tags": []
   },
   "outputs": [],
   "source": [
    "dataloader_test = DataLoader(\n",
    "                            test_data,\n",
    "                            batch_size=10,\n",
    "                            shuffle=True)"
   ]
  },
  {
   "cell_type": "code",
   "execution_count": 10,
   "id": "616bfb27",
   "metadata": {
    "execution": {
     "iopub.execute_input": "2023-12-25T18:32:06.490269Z",
     "iopub.status.busy": "2023-12-25T18:32:06.489334Z",
     "iopub.status.idle": "2023-12-25T18:32:06.500649Z",
     "shell.execute_reply": "2023-12-25T18:32:06.499512Z"
    },
    "executionCancelledAt": null,
    "executionTime": 56,
    "lastExecutedAt": 1703508894206,
    "lastScheduledRunId": null,
    "lastSuccessfullyExecutedCode": "accuracy_metric = Accuracy(task='multiclass', num_classes=num_classes)\nprecision_metric = Precision(task='multiclass', num_classes=num_classes, average='none')\nrecall_metric = Recall(task='multiclass', num_classes=num_classes, average='none')\n",
    "papermill": {
     "duration": 0.02734,
     "end_time": "2023-12-25T18:32:06.503362",
     "exception": false,
     "start_time": "2023-12-25T18:32:06.476022",
     "status": "completed"
    },
    "tags": []
   },
   "outputs": [],
   "source": [
    "accuracy_metric = Accuracy(task='multiclass', num_classes=num_classes)\n",
    "precision_metric = Precision(task='multiclass', num_classes=num_classes, average='none')\n",
    "recall_metric = Recall(task='multiclass', num_classes=num_classes, average='none')\n"
   ]
  },
  {
   "cell_type": "code",
   "execution_count": 11,
   "id": "de507d55",
   "metadata": {
    "execution": {
     "iopub.execute_input": "2023-12-25T18:32:06.528645Z",
     "iopub.status.busy": "2023-12-25T18:32:06.527631Z",
     "iopub.status.idle": "2023-12-25T18:32:10.630362Z",
     "shell.execute_reply": "2023-12-25T18:32:10.629113Z"
    },
    "executionCancelledAt": null,
    "executionTime": 9449,
    "lastExecutedAt": 1703508903703,
    "lastScheduledRunId": null,
    "lastSuccessfullyExecutedCode": "predictions = []\n\nnet.eval()\nwith torch.no_grad():\n    for images, labels in dataloader_test:\n        outputs = net(images)\n        cat = torch.argmax(outputs, 1)\n        predictions.extend(cat.tolist())\n        accuracy_metric(cat, labels)\n        precision_metric(cat, labels)\n        recall_metric(cat, labels)\n        \naccuracy = accuracy_metric.compute().item()\nprecision = precision_metric.compute().tolist()\nrecall = recall_metric.compute().tolist()\n\naccuracy, precision, recall, predictions",
    "papermill": {
     "duration": 4.118387,
     "end_time": "2023-12-25T18:32:10.633180",
     "exception": false,
     "start_time": "2023-12-25T18:32:06.514793",
     "status": "completed"
    },
    "tags": []
   },
   "outputs": [
    {
     "name": "stdout",
     "output_type": "stream",
     "text": [
      "Accuracy: 0.8758999705314636\n",
      "Precision: [0.780662477016449, 0.981670081615448, 0.8213573098182678, 0.8696939945220947, 0.7806072235107422, 0.9844720363616943, 0.7004830837249756, 0.9033148884773254, 0.9505813717842102, 0.9748163819313049]\n",
      "Recall: [0.871999979019165, 0.9639999866485596, 0.8230000138282776, 0.8809999823570251, 0.796999990940094, 0.9509999752044678, 0.5799999833106995, 0.9810000061988831, 0.9810000061988831, 0.9290000200271606]\n"
     ]
    }
   ],
   "source": [
    "predictions = []\n",
    "\n",
    "net.eval()\n",
    "with torch.no_grad():\n",
    "    for images, labels in dataloader_test:\n",
    "        outputs = net(images)\n",
    "        cat = torch.argmax(outputs, 1)\n",
    "        predictions.extend(cat.tolist())\n",
    "        accuracy_metric(cat, labels)\n",
    "        precision_metric(cat, labels)\n",
    "        recall_metric(cat, labels)\n",
    "        \n",
    "accuracy = accuracy_metric.compute().item()\n",
    "precision = precision_metric.compute().tolist()\n",
    "recall = recall_metric.compute().tolist()\n",
    "\n",
    "print(f\"Accuracy: {accuracy}\\nPrecision: {precision}\\nRecall: {recall}\")"
   ]
  },
  {
   "cell_type": "code",
   "execution_count": null,
   "id": "5256981f",
   "metadata": {
    "papermill": {
     "duration": 0.011538,
     "end_time": "2023-12-25T18:32:10.656178",
     "exception": false,
     "start_time": "2023-12-25T18:32:10.644640",
     "status": "completed"
    },
    "tags": []
   },
   "outputs": [],
   "source": []
  }
 ],
 "metadata": {
  "editor": "DataCamp Workspace",
  "kaggle": {
   "accelerator": "none",
   "dataSources": [],
   "dockerImageVersionId": 30626,
   "isGpuEnabled": false,
   "isInternetEnabled": true,
   "language": "python",
   "sourceType": "notebook"
  },
  "kernelspec": {
   "display_name": "Python 3",
   "language": "python",
   "name": "python3"
  },
  "language_info": {
   "codemirror_mode": {
    "name": "ipython",
    "version": 3
   },
   "file_extension": ".py",
   "mimetype": "text/x-python",
   "name": "python",
   "nbconvert_exporter": "python",
   "pygments_lexer": "ipython3",
   "version": "3.10.12"
  },
  "papermill": {
   "default_parameters": {},
   "duration": 95.56441,
   "end_time": "2023-12-25T18:32:13.196258",
   "environment_variables": {},
   "exception": null,
   "input_path": "__notebook__.ipynb",
   "output_path": "__notebook__.ipynb",
   "parameters": {},
   "start_time": "2023-12-25T18:30:37.631848",
   "version": "2.4.0"
  }
 },
 "nbformat": 4,
 "nbformat_minor": 5
}
