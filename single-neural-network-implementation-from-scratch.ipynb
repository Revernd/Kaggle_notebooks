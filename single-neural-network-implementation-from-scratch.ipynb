{
 "cells": [
  {
   "cell_type": "code",
   "execution_count": 1,
   "id": "476300f2",
   "metadata": {
    "_cell_guid": "b1076dfc-b9ad-4769-8c92-a6c4dae69d19",
    "_uuid": "8f2839f25d086af736a60e9eeb907d3b93b6e0e5",
    "execution": {
     "iopub.execute_input": "2023-11-04T09:06:45.085482Z",
     "iopub.status.busy": "2023-11-04T09:06:45.084626Z",
     "iopub.status.idle": "2023-11-04T09:06:45.873989Z",
     "shell.execute_reply": "2023-11-04T09:06:45.873121Z"
    },
    "papermill": {
     "duration": 0.798998,
     "end_time": "2023-11-04T09:06:45.876866",
     "exception": false,
     "start_time": "2023-11-04T09:06:45.077868",
     "status": "completed"
    },
    "tags": []
   },
   "outputs": [],
   "source": [
    "# This Python 3 environment comes with many helpful analytics libraries installed\n",
    "# It is defined by the kaggle/python Docker image: https://github.com/kaggle/docker-python\n",
    "# For example, here's several helpful packages to load\n",
    "\n",
    "import numpy as np # linear algebra\n",
    "import pandas as pd # data processing, CSV file I/O (e.g. pd.read_csv)\n",
    "\n",
    "# Input data files are available in the read-only \"../input/\" directory\n",
    "# For example, running this (by clicking run or pressing Shift+Enter) will list all files under the input directory\n",
    "\n",
    "import os\n",
    "for dirname, _, filenames in os.walk('/kaggle/input'):\n",
    "    for filename in filenames:\n",
    "        print(os.path.join(dirname, filename))\n",
    "\n",
    "# You can write up to 20GB to the current directory (/kaggle/working/) that gets preserved as output when you create a version using \"Save & Run All\" \n",
    "# You can also write temporary files to /kaggle/temp/, but they won't be saved outside of the current session"
   ]
  },
  {
   "cell_type": "markdown",
   "id": "43c34a32",
   "metadata": {
    "papermill": {
     "duration": 0.004809,
     "end_time": "2023-11-04T09:06:45.887248",
     "exception": false,
     "start_time": "2023-11-04T09:06:45.882439",
     "status": "completed"
    },
    "tags": []
   },
   "source": [
    "## Training a Neural Network\n",
    "* To train a network, we need to have a large number of training examples.\n",
    "* These training examples have both inputs as well as actual output.\n",
    "* From these training examples, the network has to learn the weights and bias such that the cost function is minimized.\n",
    "* The learning happens in two steps called forward propagation and backpropagation."
   ]
  },
  {
   "cell_type": "code",
   "execution_count": 2,
   "id": "2beb1003",
   "metadata": {
    "execution": {
     "iopub.execute_input": "2023-11-04T09:06:45.898571Z",
     "iopub.status.busy": "2023-11-04T09:06:45.898099Z",
     "iopub.status.idle": "2023-11-04T09:06:45.903161Z",
     "shell.execute_reply": "2023-11-04T09:06:45.902246Z"
    },
    "papermill": {
     "duration": 0.013099,
     "end_time": "2023-11-04T09:06:45.905321",
     "exception": false,
     "start_time": "2023-11-04T09:06:45.892222",
     "status": "completed"
    },
    "tags": []
   },
   "outputs": [],
   "source": [
    "def initialiseNetwork(num_features):\n",
    "\n",
    "  W = np.zeros((num_features, 1))\n",
    "\n",
    "  b = 0\n",
    "\n",
    "  parameters = {\"W\": W, \"b\": b}\n",
    "\n",
    "  return parameters"
   ]
  },
  {
   "cell_type": "code",
   "execution_count": 3,
   "id": "e1baf9f0",
   "metadata": {
    "execution": {
     "iopub.execute_input": "2023-11-04T09:06:45.916417Z",
     "iopub.status.busy": "2023-11-04T09:06:45.915836Z",
     "iopub.status.idle": "2023-11-04T09:06:45.920141Z",
     "shell.execute_reply": "2023-11-04T09:06:45.919296Z"
    },
    "papermill": {
     "duration": 0.011985,
     "end_time": "2023-11-04T09:06:45.922119",
     "exception": false,
     "start_time": "2023-11-04T09:06:45.910134",
     "status": "completed"
    },
    "tags": []
   },
   "outputs": [],
   "source": [
    "def sigmoid(z):\n",
    "\n",
    "  return 1/(1 + np.exp(-z))\n"
   ]
  },
  {
   "cell_type": "code",
   "execution_count": 4,
   "id": "07720434",
   "metadata": {
    "execution": {
     "iopub.execute_input": "2023-11-04T09:06:45.932303Z",
     "iopub.status.busy": "2023-11-04T09:06:45.932009Z",
     "iopub.status.idle": "2023-11-04T09:06:45.936710Z",
     "shell.execute_reply": "2023-11-04T09:06:45.935948Z"
    },
    "papermill": {
     "duration": 0.012048,
     "end_time": "2023-11-04T09:06:45.938738",
     "exception": false,
     "start_time": "2023-11-04T09:06:45.926690",
     "status": "completed"
    },
    "tags": []
   },
   "outputs": [],
   "source": [
    "def forwardPropagation(X, Y, parameters):\n",
    "\n",
    "  W = parameters[\"W\"]\n",
    "\n",
    "  b = parameters[\"b\"]\n",
    "\n",
    "  Z = np.dot(W.T,X) + b\n",
    "\n",
    "  A = sigmoid(Z)\n",
    "\n",
    "  return A\n"
   ]
  },
  {
   "cell_type": "code",
   "execution_count": 5,
   "id": "d914f199",
   "metadata": {
    "execution": {
     "iopub.execute_input": "2023-11-04T09:06:45.948876Z",
     "iopub.status.busy": "2023-11-04T09:06:45.948610Z",
     "iopub.status.idle": "2023-11-04T09:06:45.953290Z",
     "shell.execute_reply": "2023-11-04T09:06:45.952438Z"
    },
    "papermill": {
     "duration": 0.01223,
     "end_time": "2023-11-04T09:06:45.955387",
     "exception": false,
     "start_time": "2023-11-04T09:06:45.943157",
     "status": "completed"
    },
    "tags": []
   },
   "outputs": [],
   "source": [
    "def cost(A, Y, num_samples):\n",
    "\n",
    "  return -1/num_samples *np.sum(Y*np.log(A) + (1-Y)*(np.log(1-A)))"
   ]
  },
  {
   "cell_type": "code",
   "execution_count": 6,
   "id": "5f820a85",
   "metadata": {
    "execution": {
     "iopub.execute_input": "2023-11-04T09:06:45.965673Z",
     "iopub.status.busy": "2023-11-04T09:06:45.965421Z",
     "iopub.status.idle": "2023-11-04T09:06:45.970178Z",
     "shell.execute_reply": "2023-11-04T09:06:45.969318Z"
    },
    "papermill": {
     "duration": 0.012327,
     "end_time": "2023-11-04T09:06:45.972376",
     "exception": false,
     "start_time": "2023-11-04T09:06:45.960049",
     "status": "completed"
    },
    "tags": []
   },
   "outputs": [],
   "source": [
    "def backPropagration(X, Y, A, num_samples):\n",
    "\n",
    "  dZ = A - Y\n",
    "\n",
    "  dW = (np.dot(X,dZ.T))/num_samples\n",
    "\n",
    "  db = np.sum(dZ)/num_samples\n",
    "\n",
    "  return dW, db\n"
   ]
  },
  {
   "cell_type": "code",
   "execution_count": 7,
   "id": "1a15c2b7",
   "metadata": {
    "execution": {
     "iopub.execute_input": "2023-11-04T09:06:45.982912Z",
     "iopub.status.busy": "2023-11-04T09:06:45.982636Z",
     "iopub.status.idle": "2023-11-04T09:06:45.987249Z",
     "shell.execute_reply": "2023-11-04T09:06:45.986415Z"
    },
    "papermill": {
     "duration": 0.012224,
     "end_time": "2023-11-04T09:06:45.989309",
     "exception": false,
     "start_time": "2023-11-04T09:06:45.977085",
     "status": "completed"
    },
    "tags": []
   },
   "outputs": [],
   "source": [
    "def updateParameters(parameters, dW, db, learning_rate):\n",
    "\n",
    "  W = parameters[\"W\"] - (learning_rate * dW)\n",
    "\n",
    "  b = parameters[\"b\"] - (learning_rate * db)\n",
    "\n",
    "  return {\"W\": W, \"b\": b}\n"
   ]
  },
  {
   "cell_type": "code",
   "execution_count": 8,
   "id": "8ae8644f",
   "metadata": {
    "execution": {
     "iopub.execute_input": "2023-11-04T09:06:45.999875Z",
     "iopub.status.busy": "2023-11-04T09:06:45.999610Z",
     "iopub.status.idle": "2023-11-04T09:06:46.006204Z",
     "shell.execute_reply": "2023-11-04T09:06:46.005308Z"
    },
    "papermill": {
     "duration": 0.014034,
     "end_time": "2023-11-04T09:06:46.008172",
     "exception": false,
     "start_time": "2023-11-04T09:06:45.994138",
     "status": "completed"
    },
    "tags": []
   },
   "outputs": [],
   "source": [
    "def model(X, Y, num_iter, learning_rate):\n",
    "  num_features = X.shape[0]\n",
    "  num_samples = float(X.shape[1])\n",
    "  parameters = initialiseNetwork(num_features)\n",
    "  for i in range(num_iter):\n",
    "    A = forwardPropagation(X, Y, parameters)\n",
    "    if(i%100 == 0):\n",
    "      print(\"cost after {} iteration: {}\".format(i, cost(A, Y, num_samples)))\n",
    "    dW, db = backPropagration(X, Y, A, num_samples)\n",
    "    parameters = updateParameters(parameters, dW, db, learning_rate)\n",
    "  return parameters"
   ]
  },
  {
   "cell_type": "code",
   "execution_count": 9,
   "id": "1673bd65",
   "metadata": {
    "execution": {
     "iopub.execute_input": "2023-11-04T09:06:46.018359Z",
     "iopub.status.busy": "2023-11-04T09:06:46.018048Z",
     "iopub.status.idle": "2023-11-04T09:06:46.023172Z",
     "shell.execute_reply": "2023-11-04T09:06:46.022316Z"
    },
    "papermill": {
     "duration": 0.012367,
     "end_time": "2023-11-04T09:06:46.025089",
     "exception": false,
     "start_time": "2023-11-04T09:06:46.012722",
     "status": "completed"
    },
    "tags": []
   },
   "outputs": [],
   "source": [
    "def predict(W, b, X):\n",
    "  Z = np.dot(W.T,X) + b\n",
    "  Y = np.array([1 if y > 0.5 else 0 for y in sigmoid(Z[0])]).reshape(1,len(Z[0]))\n",
    "  return Y"
   ]
  },
  {
   "cell_type": "code",
   "execution_count": 10,
   "id": "0a40f312",
   "metadata": {
    "execution": {
     "iopub.execute_input": "2023-11-04T09:06:46.036486Z",
     "iopub.status.busy": "2023-11-04T09:06:46.036176Z",
     "iopub.status.idle": "2023-11-04T09:06:46.047337Z",
     "shell.execute_reply": "2023-11-04T09:06:46.046373Z"
    },
    "papermill": {
     "duration": 0.018526,
     "end_time": "2023-11-04T09:06:46.049294",
     "exception": false,
     "start_time": "2023-11-04T09:06:46.030768",
     "status": "completed"
    },
    "tags": []
   },
   "outputs": [
    {
     "data": {
      "text/plain": [
       "array([0.        , 0.00149925, 0.03448276, 1.        , 0.06446777])"
      ]
     },
     "execution_count": 10,
     "metadata": {},
     "output_type": "execute_result"
    }
   ],
   "source": [
    "\n",
    "\n",
    "def normalize(data):\n",
    "\n",
    "  col_max = np.max(data, axis = 0)\n",
    "\n",
    "  col_min = np.min(data, axis = 0)\n",
    "\n",
    "  return np.divide(data - col_min, col_max - col_min)  \n",
    "\n",
    "X = np.array([11,12,34,678,54])\n",
    "\n",
    "normalize(X)"
   ]
  },
  {
   "cell_type": "code",
   "execution_count": 11,
   "id": "13504b80",
   "metadata": {
    "execution": {
     "iopub.execute_input": "2023-11-04T09:06:46.060423Z",
     "iopub.status.busy": "2023-11-04T09:06:46.059932Z",
     "iopub.status.idle": "2023-11-04T09:06:47.073765Z",
     "shell.execute_reply": "2023-11-04T09:06:47.072949Z"
    },
    "papermill": {
     "duration": 1.022181,
     "end_time": "2023-11-04T09:06:47.076369",
     "exception": false,
     "start_time": "2023-11-04T09:06:46.054188",
     "status": "completed"
    },
    "tags": []
   },
   "outputs": [
    {
     "name": "stderr",
     "output_type": "stream",
     "text": [
      "/opt/conda/lib/python3.10/site-packages/scipy/__init__.py:146: UserWarning: A NumPy version >=1.16.5 and <1.23.0 is required for this version of SciPy (detected version 1.23.5\n",
      "  warnings.warn(f\"A NumPy version >={np_minversion} and <{np_maxversion}\"\n"
     ]
    }
   ],
   "source": [
    "from sklearn import datasets\n",
    "iris = datasets.load_iris()  \n",
    "#extracting first 100 samples pertaining #to iris setosa and verginica  \n",
    "X = iris.data[:100, :4]  \n",
    "#actual output  \n",
    "Y = iris.target[:100]"
   ]
  },
  {
   "cell_type": "code",
   "execution_count": 12,
   "id": "41b3bd14",
   "metadata": {
    "execution": {
     "iopub.execute_input": "2023-11-04T09:06:47.087565Z",
     "iopub.status.busy": "2023-11-04T09:06:47.087253Z",
     "iopub.status.idle": "2023-11-04T09:06:47.092942Z",
     "shell.execute_reply": "2023-11-04T09:06:47.092006Z"
    },
    "papermill": {
     "duration": 0.014856,
     "end_time": "2023-11-04T09:06:47.096207",
     "exception": false,
     "start_time": "2023-11-04T09:06:47.081351",
     "status": "completed"
    },
    "tags": []
   },
   "outputs": [
    {
     "name": "stdout",
     "output_type": "stream",
     "text": [
      "(4, 100)\n",
      "(1, 100)\n"
     ]
    },
    {
     "name": "stderr",
     "output_type": "stream",
     "text": [
      "/tmp/ipykernel_26/1734671576.py:7: RuntimeWarning: invalid value encountered in divide\n",
      "  return np.divide(data - col_min, col_max - col_min)\n"
     ]
    }
   ],
   "source": [
    "X_norm=normalize(X.reshape(100,4))\n",
    "\n",
    "X_data = X_norm.T\n",
    "\n",
    "Y_data = normalize(Y.reshape(1,100))\n",
    "\n",
    "print(X_data.shape)\n",
    "\n",
    "print(Y_data.shape)"
   ]
  },
  {
   "cell_type": "code",
   "execution_count": 13,
   "id": "9954f2ae",
   "metadata": {
    "execution": {
     "iopub.execute_input": "2023-11-04T09:06:47.107975Z",
     "iopub.status.busy": "2023-11-04T09:06:47.107199Z",
     "iopub.status.idle": "2023-11-04T09:06:47.159295Z",
     "shell.execute_reply": "2023-11-04T09:06:47.158192Z"
    },
    "papermill": {
     "duration": 0.060124,
     "end_time": "2023-11-04T09:06:47.161318",
     "exception": false,
     "start_time": "2023-11-04T09:06:47.101194",
     "status": "completed"
    },
    "tags": []
   },
   "outputs": [
    {
     "name": "stdout",
     "output_type": "stream",
     "text": [
      "cost after 0 iteration: 0.6931471805599453\n",
      "cost after 100 iteration: 0.36066502331205713\n",
      "cost after 200 iteration: 0.23412895775986445\n",
      "cost after 300 iteration: 0.17107626682520688\n",
      "cost after 400 iteration: 0.1342602622750863\n",
      "cost after 500 iteration: 0.11036629293513053\n",
      "cost after 600 iteration: 0.09368288655330213\n",
      "cost after 700 iteration: 0.08140160958992805\n",
      "cost after 800 iteration: 0.07199406438870275\n",
      "cost after 900 iteration: 0.06456167935226495\n"
     ]
    }
   ],
   "source": [
    "parameters = model(X_data, Y, 1000, 0.1)"
   ]
  },
  {
   "cell_type": "code",
   "execution_count": 14,
   "id": "8cddc932",
   "metadata": {
    "execution": {
     "iopub.execute_input": "2023-11-04T09:06:47.173390Z",
     "iopub.status.busy": "2023-11-04T09:06:47.173051Z",
     "iopub.status.idle": "2023-11-04T09:06:47.178860Z",
     "shell.execute_reply": "2023-11-04T09:06:47.177866Z"
    },
    "papermill": {
     "duration": 0.015169,
     "end_time": "2023-11-04T09:06:47.181697",
     "exception": false,
     "start_time": "2023-11-04T09:06:47.166528",
     "status": "completed"
    },
    "tags": []
   },
   "outputs": [
    {
     "name": "stdout",
     "output_type": "stream",
     "text": [
      "train accuracy: 100.0 %\n"
     ]
    }
   ],
   "source": [
    "yPred = predict(parameters['W'],parameters['b'], X_data) \n",
    "a1=round(100 - np.mean(np.abs(yPred - Y)) * 100,2)\n",
    "print(\"train accuracy: {} %\".format(a1))"
   ]
  }
 ],
 "metadata": {
  "kernelspec": {
   "display_name": "Python 3",
   "language": "python",
   "name": "python3"
  },
  "language_info": {
   "codemirror_mode": {
    "name": "ipython",
    "version": 3
   },
   "file_extension": ".py",
   "mimetype": "text/x-python",
   "name": "python",
   "nbconvert_exporter": "python",
   "pygments_lexer": "ipython3",
   "version": "3.10.12"
  },
  "papermill": {
   "default_parameters": {},
   "duration": 6.142926,
   "end_time": "2023-11-04T09:06:47.605623",
   "environment_variables": {},
   "exception": null,
   "input_path": "__notebook__.ipynb",
   "output_path": "__notebook__.ipynb",
   "parameters": {},
   "start_time": "2023-11-04T09:06:41.462697",
   "version": "2.4.0"
  }
 },
 "nbformat": 4,
 "nbformat_minor": 5
}
